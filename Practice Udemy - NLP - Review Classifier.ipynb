{
 "cells": [
  {
   "cell_type": "markdown",
   "id": "702b1858",
   "metadata": {},
   "source": [
    "Credits/Course URL: https://www.udemy.com/course/machinelearning/"
   ]
  },
  {
   "cell_type": "code",
   "execution_count": 105,
   "id": "38d1d970",
   "metadata": {},
   "outputs": [],
   "source": [
    "import numpy as np\n",
    "import pandas as pd\n",
    "import seaborn as sns\n",
    "import matplotlib.pyplot as plt\n",
    "import re\n",
    "import nltk\n",
    "import spacy\n",
    "import en_core_web_sm\n",
    "from nltk.corpus import stopwords\n",
    "from slugify import Slugify\n",
    "from sklearn.feature_extraction.text import CountVectorizer\n",
    "from sklearn.model_selection import train_test_split\n",
    "from sklearn.linear_model import LogisticRegression\n",
    "from sklearn.naive_bayes import GaussianNB\n",
    "from sklearn.svm import SVC\n",
    "from sklearn.tree import DecisionTreeClassifier\n",
    "from sklearn.ensemble import RandomForestClassifier\n",
    "import xgboost as xgb\n",
    "from sklearn.neighbors import KNeighborsClassifier\n",
    "from sklearn.metrics import accuracy_score, classification_report, confusion_matrix, ConfusionMatrixDisplay\n",
    "from mlxtend.plotting import plot_decision_regions"
   ]
  },
  {
   "cell_type": "code",
   "execution_count": 14,
   "id": "ae015a5c",
   "metadata": {},
   "outputs": [
    {
     "name": "stderr",
     "output_type": "stream",
     "text": [
      "[nltk_data] Downloading package stopwords to\n",
      "[nltk_data]     C:\\Users\\Luvkush\\AppData\\Roaming\\nltk_data...\n",
      "[nltk_data]   Unzipping corpora\\stopwords.zip.\n"
     ]
    },
    {
     "data": {
      "text/plain": [
       "True"
      ]
     },
     "execution_count": 14,
     "metadata": {},
     "output_type": "execute_result"
    }
   ],
   "source": [
    "#nltk.download('stopwords')"
   ]
  },
  {
   "cell_type": "markdown",
   "id": "17b325ab",
   "metadata": {},
   "source": [
    "#### Reading the data"
   ]
  },
  {
   "cell_type": "code",
   "execution_count": 7,
   "id": "abd1bfec",
   "metadata": {},
   "outputs": [
    {
     "data": {
      "text/html": [
       "<div>\n",
       "<style scoped>\n",
       "    .dataframe tbody tr th:only-of-type {\n",
       "        vertical-align: middle;\n",
       "    }\n",
       "\n",
       "    .dataframe tbody tr th {\n",
       "        vertical-align: top;\n",
       "    }\n",
       "\n",
       "    .dataframe thead th {\n",
       "        text-align: right;\n",
       "    }\n",
       "</style>\n",
       "<table border=\"1\" class=\"dataframe\">\n",
       "  <thead>\n",
       "    <tr style=\"text-align: right;\">\n",
       "      <th></th>\n",
       "      <th>Review</th>\n",
       "      <th>Liked</th>\n",
       "    </tr>\n",
       "  </thead>\n",
       "  <tbody>\n",
       "    <tr>\n",
       "      <th>0</th>\n",
       "      <td>Wow... Loved this place.</td>\n",
       "      <td>1</td>\n",
       "    </tr>\n",
       "    <tr>\n",
       "      <th>1</th>\n",
       "      <td>Crust is not good.</td>\n",
       "      <td>0</td>\n",
       "    </tr>\n",
       "    <tr>\n",
       "      <th>2</th>\n",
       "      <td>Not tasty and the texture was just nasty.</td>\n",
       "      <td>0</td>\n",
       "    </tr>\n",
       "    <tr>\n",
       "      <th>3</th>\n",
       "      <td>Stopped by during the late May bank holiday of...</td>\n",
       "      <td>1</td>\n",
       "    </tr>\n",
       "    <tr>\n",
       "      <th>4</th>\n",
       "      <td>The selection on the menu was great and so wer...</td>\n",
       "      <td>1</td>\n",
       "    </tr>\n",
       "  </tbody>\n",
       "</table>\n",
       "</div>"
      ],
      "text/plain": [
       "                                              Review  Liked\n",
       "0                           Wow... Loved this place.      1\n",
       "1                                 Crust is not good.      0\n",
       "2          Not tasty and the texture was just nasty.      0\n",
       "3  Stopped by during the late May bank holiday of...      1\n",
       "4  The selection on the menu was great and so wer...      1"
      ]
     },
     "execution_count": 7,
     "metadata": {},
     "output_type": "execute_result"
    }
   ],
   "source": [
    "data = pd.read_csv(r'E:\\Github\\Datasets\\Restaurant_Reviews.tsv', delimiter = '\\t', quoting = 3)\n",
    "data.head()"
   ]
  },
  {
   "cell_type": "markdown",
   "id": "308a9a30",
   "metadata": {},
   "source": [
    "#### Data Exploration"
   ]
  },
  {
   "cell_type": "code",
   "execution_count": 8,
   "id": "5754c80c",
   "metadata": {},
   "outputs": [
    {
     "name": "stdout",
     "output_type": "stream",
     "text": [
      "<class 'pandas.core.frame.DataFrame'>\n",
      "RangeIndex: 1000 entries, 0 to 999\n",
      "Data columns (total 2 columns):\n",
      " #   Column  Non-Null Count  Dtype \n",
      "---  ------  --------------  ----- \n",
      " 0   Review  1000 non-null   object\n",
      " 1   Liked   1000 non-null   int64 \n",
      "dtypes: int64(1), object(1)\n",
      "memory usage: 15.8+ KB\n"
     ]
    }
   ],
   "source": [
    "data.info()"
   ]
  },
  {
   "cell_type": "code",
   "execution_count": 10,
   "id": "f76de731",
   "metadata": {},
   "outputs": [
    {
     "data": {
      "image/png": "[encoded data removed]",
      "text/plain": [
       "<Figure size 640x480 with 1 Axes>"
      ]
     },
     "metadata": {},
     "output_type": "display_data"
    }
   ],
   "source": [
    "sns.countplot(x = 'Liked', data = data);"
   ]
  },
  {
   "cell_type": "markdown",
   "id": "cacf49be",
   "metadata": {},
   "source": [
    "#### Data Cleaning"
   ]
  },
  {
   "cell_type": "code",
   "execution_count": 25,
   "id": "3f9de080",
   "metadata": {},
   "outputs": [],
   "source": [
    "def preprocess_lemma(sentence):\n",
    "    nlp = spacy.load('en_core_web_sm')\n",
    "    tokens = [tok.lemma_ for tok in nlp(sentence)]\n",
    "    tokens = ' '.join(tokens)\n",
    "    return tokens"
   ]
  },
  {
   "cell_type": "code",
   "execution_count": 53,
   "id": "bcb2115d",
   "metadata": {},
   "outputs": [],
   "source": [
    "def preprocess(sentence):\n",
    "    \n",
    "    sentence = sentence.lower()    \n",
    "    sentence = re.sub(r\"https?://[A-Za-z0-9/.-]+\", ' ', sentence) # Remove URLs\n",
    "    custom_slugify = Slugify(to_lower = True, \n",
    "                         separator = ' ',\n",
    "                         safe_chars = '@')\n",
    "    \n",
    "    sentence = custom_slugify(sentence) # slugified the sentence\n",
    "    sentence = re.sub(r\"@[A-Za-z0-9]+\", '', sentence) # removing twitter username\n",
    "    sentence = re.sub(r\"[0-9]+[A-Za-z]+\", '', sentence) # removing strings starting with numbers in the string\n",
    "    sentence = re.sub(r\"[0-9]+\", '', sentence) # removing numbers in the string\n",
    "    sentence = re.sub(r'((\\w)\\2{2,})', '', sentence) # Repeated words removed\n",
    "    sentence = re.sub('[^a-zA-z]', ' ', sentence) # remove everything except alphabets\n",
    "    \n",
    "    all_stopwords = stopwords.words('english')\n",
    "    all_stopwords.remove('not')\n",
    "    all_stopwords = set(all_stopwords)\n",
    "    \n",
    "    nlp = spacy.load('en_core_web_sm')\n",
    "    \n",
    "    tokens = [token.text for token in nlp(sentence) if not (token.is_punct or token.is_space or len(token) == 1)]\n",
    "    tokens = [word for word in tokens if not word in all_stopwords]\n",
    "    tokens = ' '.join(tokens)\n",
    "    tokens = preprocess_lemma(tokens)\n",
    "    \n",
    "    return tokens"
   ]
  },
  {
   "cell_type": "code",
   "execution_count": 54,
   "id": "5a370e78",
   "metadata": {},
   "outputs": [],
   "source": [
    "corpus = data['Review'].head(250).apply(lambda x: preprocess(x))"
   ]
  },
  {
   "cell_type": "code",
   "execution_count": 57,
   "id": "f06be871",
   "metadata": {},
   "outputs": [],
   "source": [
    "corpus2 = data['Review'].iloc[250:751].apply(lambda x: preprocess(x))"
   ]
  },
  {
   "cell_type": "code",
   "execution_count": 58,
   "id": "24ee8f65",
   "metadata": {},
   "outputs": [],
   "source": [
    "corpus3 = data['Review'].iloc[751:].apply(lambda x: preprocess(x))"
   ]
  },
  {
   "cell_type": "code",
   "execution_count": 60,
   "id": "061e4f40",
   "metadata": {},
   "outputs": [],
   "source": [
    "corpus_cleaned = pd.concat([corpus, corpus2, corpus3], ignore_index= True)"
   ]
  },
  {
   "cell_type": "markdown",
   "id": "65b62934",
   "metadata": {},
   "source": [
    "#### Creating bag of words"
   ]
  },
  {
   "cell_type": "code",
   "execution_count": 71,
   "id": "9304e251",
   "metadata": {},
   "outputs": [],
   "source": [
    "count_vectorizer = CountVectorizer(max_features=1600)"
   ]
  },
  {
   "cell_type": "code",
   "execution_count": 72,
   "id": "a50bfe44",
   "metadata": {},
   "outputs": [],
   "source": [
    "X = count_vectorizer.fit_transform(corpus_cleaned).toarray()\n",
    "y = data['Liked'].values"
   ]
  },
  {
   "cell_type": "code",
   "execution_count": 73,
   "id": "7647fc69",
   "metadata": {},
   "outputs": [
    {
     "data": {
      "text/plain": [
       "1600"
      ]
     },
     "execution_count": 73,
     "metadata": {},
     "output_type": "execute_result"
    }
   ],
   "source": [
    "X.shape[1]"
   ]
  },
  {
   "cell_type": "code",
   "execution_count": 75,
   "id": "4d81edb9",
   "metadata": {},
   "outputs": [
    {
     "data": {
      "text/plain": [
       "((1000, 1600), (1000,))"
      ]
     },
     "execution_count": 75,
     "metadata": {},
     "output_type": "execute_result"
    }
   ],
   "source": [
    "X.shape, y.shape"
   ]
  },
  {
   "cell_type": "markdown",
   "id": "99502d62",
   "metadata": {},
   "source": [
    "#### Splitting the data"
   ]
  },
  {
   "cell_type": "code",
   "execution_count": 76,
   "id": "6fa3b899",
   "metadata": {},
   "outputs": [],
   "source": [
    "X_train, X_test, y_train, y_test = train_test_split(X, y, test_size=0.3, random_state=24)"
   ]
  },
  {
   "cell_type": "code",
   "execution_count": 77,
   "id": "b4ff3616",
   "metadata": {},
   "outputs": [
    {
     "data": {
      "text/plain": [
       "((700, 1600), (700,))"
      ]
     },
     "execution_count": 77,
     "metadata": {},
     "output_type": "execute_result"
    }
   ],
   "source": [
    "X_train.shape, y_train.shape"
   ]
  },
  {
   "cell_type": "code",
   "execution_count": 78,
   "id": "e8dd1d2d",
   "metadata": {},
   "outputs": [
    {
     "data": {
      "text/plain": [
       "((300, 1600), (300,))"
      ]
     },
     "execution_count": 78,
     "metadata": {},
     "output_type": "execute_result"
    }
   ],
   "source": [
    "X_test.shape, y_test.shape"
   ]
  },
  {
   "cell_type": "markdown",
   "id": "802f9ad6",
   "metadata": {},
   "source": [
    "#### Running appropriate (multiple) Classification Models on the Data to determine the best model"
   ]
  },
  {
   "cell_type": "code",
   "execution_count": 79,
   "id": "9cb97006",
   "metadata": {},
   "outputs": [],
   "source": [
    "# custom function which accepts the ML model and the spittled data, and returns the training and testing accuracy\n",
    "# this fuction is quick way to getting the accuracies, just by creating the model and passing it with the data to this function\n",
    "\n",
    "def ML_model_classifier(model, X_train, X_test, y_train, y_test, verbose=0):\n",
    "    \n",
    "    clf.fit(X_train, y_train)\n",
    "    \n",
    "    y_pred_train = clf.predict(X_train)\n",
    "    y_pred_test = clf.predict(X_test)\n",
    "    \n",
    "    train_acc = round((accuracy_score(y_train, y_pred_train)*100),2)\n",
    "    test_acc = round((accuracy_score(y_test, y_pred_test)*100),2)\n",
    "    \n",
    "    if verbose:\n",
    "        print(f'Model: {model}')\n",
    "        print(f'Training Accuracy: {train_acc}%')\n",
    "        print(f'Test Accuracy: {test_acc}%')\n",
    "    \n",
    "    return model, train_acc, test_acc"
   ]
  },
  {
   "cell_type": "code",
   "execution_count": 86,
   "id": "a19e15d7",
   "metadata": {},
   "outputs": [
    {
     "name": "stdout",
     "output_type": "stream",
     "text": [
      "Model: LogisticRegression(C=0.1, class_weight='balanced', max_iter=1000)\n",
      "Training Accuracy: 88.29%\n",
      "Test Accuracy: 75.0%\n"
     ]
    }
   ],
   "source": [
    "# Running the data with LogisticRegression\n",
    "\n",
    "clf = LogisticRegression(C=0.1, class_weight='balanced', max_iter=1000)\n",
    "model, train_acc, test_acc = ML_model_classifier(clf, X_train, X_test, y_train, y_test, verbose = 1)"
   ]
  },
  {
   "cell_type": "code",
   "execution_count": 87,
   "id": "da3033ec",
   "metadata": {},
   "outputs": [
    {
     "name": "stdout",
     "output_type": "stream",
     "text": [
      "Model: DecisionTreeClassifier(class_weight='balanced')\n",
      "Training Accuracy: 100.0%\n",
      "Test Accuracy: 76.33%\n"
     ]
    }
   ],
   "source": [
    "# Running the data with DecisionTreeClassifier\n",
    "\n",
    "clf = DecisionTreeClassifier(class_weight='balanced')\n",
    "model, train_acc, test_acc = ML_model_classifier(clf, X_train, X_test, y_train, y_test, verbose = 1)"
   ]
  },
  {
   "cell_type": "code",
   "execution_count": 88,
   "id": "838cfac0",
   "metadata": {},
   "outputs": [
    {
     "name": "stdout",
     "output_type": "stream",
     "text": [
      "Model: RandomForestClassifier(class_weight='balanced', n_estimators=200)\n",
      "Training Accuracy: 100.0%\n",
      "Test Accuracy: 80.67%\n"
     ]
    }
   ],
   "source": [
    "# Running the data with RandomForestClassifier\n",
    "\n",
    "clf = RandomForestClassifier(n_estimators=200, class_weight='balanced')\n",
    "model, train_acc, test_acc = ML_model_classifier(clf, X_train, X_test, y_train, y_test, verbose = 1)"
   ]
  },
  {
   "cell_type": "code",
   "execution_count": 89,
   "id": "afbbf41b",
   "metadata": {},
   "outputs": [
    {
     "name": "stdout",
     "output_type": "stream",
     "text": [
      "Model: SVC(kernel='linear', shrinking=False)\n",
      "Training Accuracy: 98.43%\n",
      "Test Accuracy: 78.33%\n"
     ]
    }
   ],
   "source": [
    "# Running the data with SVC\n",
    "\n",
    "clf = SVC(kernel = 'linear',gamma = 'scale', shrinking = False)\n",
    "model, train_acc, test_acc = ML_model_classifier(clf, X_train, X_test, y_train, y_test, verbose = 1)"
   ]
  },
  {
   "cell_type": "code",
   "execution_count": 91,
   "id": "c23e5503",
   "metadata": {},
   "outputs": [
    {
     "name": "stdout",
     "output_type": "stream",
     "text": [
      "Model: SVC()\n",
      "Training Accuracy: 97.86%\n",
      "Test Accuracy: 81.33%\n"
     ]
    }
   ],
   "source": [
    "# Running the data with Kernel SVC\n",
    "\n",
    "clf = SVC(kernel = 'rbf',gamma = 'scale', shrinking = False)\n",
    "model, train_acc, test_acc = ML_model_classifier(clf, X_train, X_test, y_train, y_test, verbose = 1)"
   ]
  },
  {
   "cell_type": "code",
   "execution_count": 92,
   "id": "cceb5c93",
   "metadata": {},
   "outputs": [
    {
     "name": "stdout",
     "output_type": "stream",
     "text": [
      "Model: XGBClassifier(base_score=None, booster=None, callbacks=None,\n",
      "              colsample_bylevel=None, colsample_bynode=None,\n",
      "              colsample_bytree=None, early_stopping_rounds=None,\n",
      "              enable_categorical=False, eval_metric=None, feature_types=None,\n",
      "              gamma=None, gpu_id=None, grow_policy=None, importance_type=None,\n",
      "              interaction_constraints=None, learning_rate=None, max_bin=None,\n",
      "              max_cat_threshold=None, max_cat_to_onehot=None,\n",
      "              max_delta_step=None, max_depth=None, max_leaves=None,\n",
      "              min_child_weight=None, missing=nan, monotone_constraints=None,\n",
      "              n_estimators=100, n_jobs=None, num_parallel_tree=None,\n",
      "              predictor=None, random_state=None, ...)\n",
      "Training Accuracy: 97.86%\n",
      "Test Accuracy: 81.33%\n"
     ]
    }
   ],
   "source": [
    "# Running the data with XGBoost Classifier\n",
    "\n",
    "xgb_classifier = xgb.XGBClassifier()\n",
    "model, train_acc, test_acc = ML_model_classifier(xgb_classifier, X_train, X_test, y_train, y_test, verbose = 1)"
   ]
  },
  {
   "cell_type": "code",
   "execution_count": 93,
   "id": "1c05e785",
   "metadata": {},
   "outputs": [
    {
     "name": "stdout",
     "output_type": "stream",
     "text": [
      "Model: KNeighborsClassifier()\n",
      "Training Accuracy: 81.14%\n",
      "Test Accuracy: 71.0%\n"
     ]
    }
   ],
   "source": [
    "# Running the data with KNeighborsClassifier\n",
    "\n",
    "clf = KNeighborsClassifier()\n",
    "model, train_acc, test_acc = ML_model_classifier(clf, X_train, X_test, y_train, y_test, verbose = 1)"
   ]
  },
  {
   "cell_type": "code",
   "execution_count": 95,
   "id": "95ae56af",
   "metadata": {},
   "outputs": [
    {
     "name": "stdout",
     "output_type": "stream",
     "text": [
      "Model: GaussianNB()\n",
      "Training Accuracy: 92.43%\n",
      "Test Accuracy: 69.67%\n"
     ]
    }
   ],
   "source": [
    "# Running the data with Gaussian Naive Bayes Classifier\n",
    "\n",
    "clf = GaussianNB()\n",
    "model, train_acc, test_acc = ML_model_classifier(clf, X_train, X_test, y_train, y_test, verbose = 1)"
   ]
  },
  {
   "cell_type": "markdown",
   "id": "6451f039",
   "metadata": {},
   "source": [
    "#### Building the model with best Classifier: Kernal SVM"
   ]
  },
  {
   "cell_type": "code",
   "execution_count": 96,
   "id": "585361a7",
   "metadata": {},
   "outputs": [],
   "source": [
    "svm_classifier = SVC(kernel='rbf',random_state=24)"
   ]
  },
  {
   "cell_type": "code",
   "execution_count": 97,
   "id": "434975e9",
   "metadata": {},
   "outputs": [
    {
     "data": {
      "text/html": [
       "<style>#sk-container-id-1 {color: black;background-color: white;}#sk-container-id-1 pre{padding: 0;}#sk-container-id-1 div.sk-toggleable {background-color: white;}#sk-container-id-1 label.sk-toggleable__label {cursor: pointer;display: block;width: 100%;margin-bottom: 0;padding: 0.3em;box-sizing: border-box;text-align: center;}#sk-container-id-1 label.sk-toggleable__label-arrow:before {content: \"▸\";float: left;margin-right: 0.25em;color: #696969;}#sk-container-id-1 label.sk-toggleable__label-arrow:hover:before {color: black;}#sk-container-id-1 div.sk-estimator:hover label.sk-toggleable__label-arrow:before {color: black;}#sk-container-id-1 div.sk-toggleable__content {max-height: 0;max-width: 0;overflow: hidden;text-align: left;background-color: #f0f8ff;}#sk-container-id-1 div.sk-toggleable__content pre {margin: 0.2em;color: black;border-radius: 0.25em;background-color: #f0f8ff;}#sk-container-id-1 input.sk-toggleable__control:checked~div.sk-toggleable__content {max-height: 200px;max-width: 100%;overflow: auto;}#sk-container-id-1 input.sk-toggleable__control:checked~label.sk-toggleable__label-arrow:before {content: \"▾\";}#sk-container-id-1 div.sk-estimator input.sk-toggleable__control:checked~label.sk-toggleable__label {background-color: #d4ebff;}#sk-container-id-1 div.sk-label input.sk-toggleable__control:checked~label.sk-toggleable__label {background-color: #d4ebff;}#sk-container-id-1 input.sk-hidden--visually {border: 0;clip: rect(1px 1px 1px 1px);clip: rect(1px, 1px, 1px, 1px);height: 1px;margin: -1px;overflow: hidden;padding: 0;position: absolute;width: 1px;}#sk-container-id-1 div.sk-estimator {font-family: monospace;background-color: #f0f8ff;border: 1px dotted black;border-radius: 0.25em;box-sizing: border-box;margin-bottom: 0.5em;}#sk-container-id-1 div.sk-estimator:hover {background-color: #d4ebff;}#sk-container-id-1 div.sk-parallel-item::after {content: \"\";width: 100%;border-bottom: 1px solid gray;flex-grow: 1;}#sk-container-id-1 div.sk-label:hover label.sk-toggleable__label {background-color: #d4ebff;}#sk-container-id-1 div.sk-serial::before {content: \"\";position: absolute;border-left: 1px solid gray;box-sizing: border-box;top: 0;bottom: 0;left: 50%;z-index: 0;}#sk-container-id-1 div.sk-serial {display: flex;flex-direction: column;align-items: center;background-color: white;padding-right: 0.2em;padding-left: 0.2em;position: relative;}#sk-container-id-1 div.sk-item {position: relative;z-index: 1;}#sk-container-id-1 div.sk-parallel {display: flex;align-items: stretch;justify-content: center;background-color: white;position: relative;}#sk-container-id-1 div.sk-item::before, #sk-container-id-1 div.sk-parallel-item::before {content: \"\";position: absolute;border-left: 1px solid gray;box-sizing: border-box;top: 0;bottom: 0;left: 50%;z-index: -1;}#sk-container-id-1 div.sk-parallel-item {display: flex;flex-direction: column;z-index: 1;position: relative;background-color: white;}#sk-container-id-1 div.sk-parallel-item:first-child::after {align-self: flex-end;width: 50%;}#sk-container-id-1 div.sk-parallel-item:last-child::after {align-self: flex-start;width: 50%;}#sk-container-id-1 div.sk-parallel-item:only-child::after {width: 0;}#sk-container-id-1 div.sk-dashed-wrapped {border: 1px dashed gray;margin: 0 0.4em 0.5em 0.4em;box-sizing: border-box;padding-bottom: 0.4em;background-color: white;}#sk-container-id-1 div.sk-label label {font-family: monospace;font-weight: bold;display: inline-block;line-height: 1.2em;}#sk-container-id-1 div.sk-label-container {text-align: center;}#sk-container-id-1 div.sk-container {/* jupyter's `normalize.less` sets `[hidden] { display: none; }` but bootstrap.min.css set `[hidden] { display: none !important; }` so we also need the `!important` here to be able to override the default hidden behavior on the sphinx rendered scikit-learn.org. See: https://github.com/scikit-learn/scikit-learn/issues/21755 */display: inline-block !important;position: relative;}#sk-container-id-1 div.sk-text-repr-fallback {display: none;}</style><div id=\"sk-container-id-1\" class=\"sk-top-container\"><div class=\"sk-text-repr-fallback\"><pre>SVC(random_state=24)</pre><b>In a Jupyter environment, please rerun this cell to show the HTML representation or trust the notebook. <br />On GitHub, the HTML representation is unable to render, please try loading this page with nbviewer.org.</b></div><div class=\"sk-container\" hidden><div class=\"sk-item\"><div class=\"sk-estimator sk-toggleable\"><input class=\"sk-toggleable__control sk-hidden--visually\" id=\"sk-estimator-id-1\" type=\"checkbox\" checked><label for=\"sk-estimator-id-1\" class=\"sk-toggleable__label sk-toggleable__label-arrow\">SVC</label><div class=\"sk-toggleable__content\"><pre>SVC(random_state=24)</pre></div></div></div></div></div>"
      ],
      "text/plain": [
       "SVC(random_state=24)"
      ]
     },
     "execution_count": 97,
     "metadata": {},
     "output_type": "execute_result"
    }
   ],
   "source": [
    "svm_classifier.fit(X_train, y_train)"
   ]
  },
  {
   "cell_type": "code",
   "execution_count": 98,
   "id": "a049c379",
   "metadata": {},
   "outputs": [],
   "source": [
    "y_pred_train = svm_classifier.predict(X_train)\n",
    "y_pred_test = svm_classifier.predict(X_test)"
   ]
  },
  {
   "cell_type": "code",
   "execution_count": 99,
   "id": "35f8a61d",
   "metadata": {},
   "outputs": [
    {
     "data": {
      "text/html": [
       "<div>\n",
       "<style scoped>\n",
       "    .dataframe tbody tr th:only-of-type {\n",
       "        vertical-align: middle;\n",
       "    }\n",
       "\n",
       "    .dataframe tbody tr th {\n",
       "        vertical-align: top;\n",
       "    }\n",
       "\n",
       "    .dataframe thead th {\n",
       "        text-align: right;\n",
       "    }\n",
       "</style>\n",
       "<table border=\"1\" class=\"dataframe\">\n",
       "  <thead>\n",
       "    <tr style=\"text-align: right;\">\n",
       "      <th></th>\n",
       "      <th>Actual</th>\n",
       "      <th>Predicted</th>\n",
       "    </tr>\n",
       "  </thead>\n",
       "  <tbody>\n",
       "    <tr>\n",
       "      <th>0</th>\n",
       "      <td>1</td>\n",
       "      <td>1</td>\n",
       "    </tr>\n",
       "    <tr>\n",
       "      <th>1</th>\n",
       "      <td>1</td>\n",
       "      <td>1</td>\n",
       "    </tr>\n",
       "    <tr>\n",
       "      <th>2</th>\n",
       "      <td>0</td>\n",
       "      <td>0</td>\n",
       "    </tr>\n",
       "    <tr>\n",
       "      <th>3</th>\n",
       "      <td>1</td>\n",
       "      <td>1</td>\n",
       "    </tr>\n",
       "    <tr>\n",
       "      <th>4</th>\n",
       "      <td>1</td>\n",
       "      <td>0</td>\n",
       "    </tr>\n",
       "    <tr>\n",
       "      <th>5</th>\n",
       "      <td>0</td>\n",
       "      <td>0</td>\n",
       "    </tr>\n",
       "    <tr>\n",
       "      <th>6</th>\n",
       "      <td>0</td>\n",
       "      <td>1</td>\n",
       "    </tr>\n",
       "  </tbody>\n",
       "</table>\n",
       "</div>"
      ],
      "text/plain": [
       "   Actual  Predicted\n",
       "0       1          1\n",
       "1       1          1\n",
       "2       0          0\n",
       "3       1          1\n",
       "4       1          0\n",
       "5       0          0\n",
       "6       0          1"
      ]
     },
     "execution_count": 99,
     "metadata": {},
     "output_type": "execute_result"
    }
   ],
   "source": [
    "actual_pred_df = pd.DataFrame({'Actual': y_test, 'Predicted': y_pred_test})\n",
    "actual_pred_df.head(7)"
   ]
  },
  {
   "cell_type": "markdown",
   "id": "e71a881d",
   "metadata": {},
   "source": [
    "#### Classification Metrics on obtained results"
   ]
  },
  {
   "cell_type": "code",
   "execution_count": 100,
   "id": "5b9eba22",
   "metadata": {},
   "outputs": [
    {
     "name": "stdout",
     "output_type": "stream",
     "text": [
      "\n",
      " **************** Classification Report - Training Data **************** \n",
      "\n",
      "              precision    recall  f1-score   support\n",
      "\n",
      "           0       0.96      0.99      0.98       353\n",
      "           1       0.99      0.96      0.98       347\n",
      "\n",
      "    accuracy                           0.98       700\n",
      "   macro avg       0.98      0.98      0.98       700\n",
      "weighted avg       0.98      0.98      0.98       700\n",
      "\n"
     ]
    }
   ],
   "source": [
    "print('\\n **************** Classification Report - Training Data **************** \\n')\n",
    "print(classification_report(y_train, y_pred_train))"
   ]
  },
  {
   "cell_type": "code",
   "execution_count": 101,
   "id": "7b5c21a8",
   "metadata": {},
   "outputs": [
    {
     "name": "stdout",
     "output_type": "stream",
     "text": [
      "\n",
      " **************** Confusion Martix - Training Data **************** \n",
      "\n"
     ]
    },
    {
     "data": {
      "image/png": "[encoded data removed]",
      "text/plain": [
       "<Figure size 640x480 with 2 Axes>"
      ]
     },
     "metadata": {},
     "output_type": "display_data"
    }
   ],
   "source": [
    "print('\\n **************** Confusion Martix - Training Data **************** \\n')\n",
    "cm = confusion_matrix(y_train, y_pred_train, labels=svm_classifier.classes_)\n",
    "disp = ConfusionMatrixDisplay(cm)\n",
    "disp.plot()\n",
    "plt.show();"
   ]
  },
  {
   "cell_type": "code",
   "execution_count": 102,
   "id": "9c74c76e",
   "metadata": {},
   "outputs": [
    {
     "name": "stdout",
     "output_type": "stream",
     "text": [
      "True Negative: 351\n",
      "False Positive: 2\n",
      "False Negative: 13\n",
      "True Positive: 334\n"
     ]
    }
   ],
   "source": [
    "tn, fp, fn, tp = cm.ravel()\n",
    "\n",
    "print(f\"True Negative: {tn}\")\n",
    "print(f\"False Positive: {fp}\")\n",
    "print(f\"False Negative: {fn}\")\n",
    "print(f\"True Positive: {tp}\")"
   ]
  },
  {
   "cell_type": "code",
   "execution_count": 103,
   "id": "4e4b8117",
   "metadata": {},
   "outputs": [
    {
     "name": "stdout",
     "output_type": "stream",
     "text": [
      "\n",
      " **************** Classification Report - Training Data **************** \n",
      "\n",
      "              precision    recall  f1-score   support\n",
      "\n",
      "           0       0.78      0.86      0.82       147\n",
      "           1       0.85      0.77      0.81       153\n",
      "\n",
      "    accuracy                           0.81       300\n",
      "   macro avg       0.82      0.81      0.81       300\n",
      "weighted avg       0.82      0.81      0.81       300\n",
      "\n"
     ]
    }
   ],
   "source": [
    "print('\\n **************** Classification Report - Training Data **************** \\n')\n",
    "print(classification_report(y_test, y_pred_test))"
   ]
  },
  {
   "cell_type": "code",
   "execution_count": 104,
   "id": "7b95620b",
   "metadata": {},
   "outputs": [
    {
     "name": "stdout",
     "output_type": "stream",
     "text": [
      "\n",
      " **************** Confusion Martix - Training Data **************** \n",
      "\n"
     ]
    },
    {
     "data": {
      "image/png": "[encoded data removed]",
      "text/plain": [
       "<Figure size 640x480 with 2 Axes>"
      ]
     },
     "metadata": {},
     "output_type": "display_data"
    }
   ],
   "source": [
    "print('\\n **************** Confusion Martix - Training Data **************** \\n')\n",
    "cm = confusion_matrix(y_test, y_pred_test)\n",
    "disp = ConfusionMatrixDisplay(cm)\n",
    "disp.plot()\n",
    "plt.show();"
   ]
  },
  {
   "cell_type": "code",
   "execution_count": null,
   "id": "021ed567",
   "metadata": {},
   "outputs": [],
   "source": []
  }
 ],
 "metadata": {
  "kernelspec": {
   "display_name": "Python 3 (ipykernel)",
   "language": "python",
   "name": "python3"
  },
  "language_info": {
   "codemirror_mode": {
    "name": "ipython",
    "version": 3
   },
   "file_extension": ".py",
   "mimetype": "text/x-python",
   "name": "python",
   "nbconvert_exporter": "python",
   "pygments_lexer": "ipython3",
   "version": "3.9.16"
  }
 },
 "nbformat": 4,
 "nbformat_minor": 5
}
