{
 "cells": [
  {
   "cell_type": "markdown",
   "id": "e1d725fe",
   "metadata": {},
   "source": [
    "Credits/Course URL - https://www.udemy.com/course/the-ultimate-beginners-guide-to-natural-language-processing/"
   ]
  },
  {
   "cell_type": "code",
   "execution_count": 1,
   "id": "afba174b",
   "metadata": {},
   "outputs": [],
   "source": [
    "import nltk\n",
    "import spacy\n",
    "import en_core_web_sm\n",
    "from goose3 import Goose\n",
    "from spacy.matcher import PhraseMatcher\n",
    "from IPython.display import HTML\n",
    "import numpy as np\n",
    "import pandas as pd\n",
    "import random\n",
    "from sklearn.feature_extraction.text import CountVectorizer\n",
    "from sklearn.feature_extraction.text import TfidfVectorizer\n",
    "from sklearn.metrics.pairwise import cosine_similarity"
   ]
  },
  {
   "cell_type": "markdown",
   "id": "31e27c71",
   "metadata": {},
   "source": [
    "### Keyword Search"
   ]
  },
  {
   "cell_type": "code",
   "execution_count": 2,
   "id": "5ee54bb8",
   "metadata": {},
   "outputs": [],
   "source": [
    "string = 'Natural language processing (NLP) is an interdisciplinary subfield of linguistics, computer science, and artificial intelligence concerned with the interactions between computers and human language, in particular how to program computers to process and analyze large amounts of natural language data.'"
   ]
  },
  {
   "cell_type": "code",
   "execution_count": 4,
   "id": "77825a28",
   "metadata": {},
   "outputs": [],
   "source": [
    "str_to_search = ['artificial', 'computer', 'language']"
   ]
  },
  {
   "cell_type": "code",
   "execution_count": 5,
   "id": "e02b2096",
   "metadata": {},
   "outputs": [],
   "source": [
    "nlp = spacy.load('en_core_web_sm')"
   ]
  },
  {
   "cell_type": "code",
   "execution_count": 6,
   "id": "66e45297",
   "metadata": {},
   "outputs": [],
   "source": [
    "document = nlp(string)"
   ]
  },
  {
   "cell_type": "code",
   "execution_count": 7,
   "id": "3dab5335",
   "metadata": {},
   "outputs": [
    {
     "data": {
      "text/plain": [
       "[artificial, computer, language]"
      ]
     },
     "execution_count": 7,
     "metadata": {},
     "output_type": "execute_result"
    }
   ],
   "source": [
    "tokens_list = [nlp(element) for element in str_to_search]\n",
    "tokens_list"
   ]
  },
  {
   "cell_type": "code",
   "execution_count": 8,
   "id": "c31e98e6",
   "metadata": {},
   "outputs": [],
   "source": [
    "matcher = PhraseMatcher(nlp.vocab)\n",
    "matcher.add('SEARCH', None, *tokens_list)"
   ]
  },
  {
   "cell_type": "code",
   "execution_count": 9,
   "id": "aba14247",
   "metadata": {},
   "outputs": [],
   "source": [
    "match_results = matcher(document)"
   ]
  },
  {
   "cell_type": "code",
   "execution_count": 10,
   "id": "e7c3cb6b",
   "metadata": {},
   "outputs": [
    {
     "data": {
      "text/plain": [
       "[(8661325627334373315, 1, 2),\n",
       " (8661325627334373315, 13, 14),\n",
       " (8661325627334373315, 17, 18),\n",
       " (8661325627334373315, 27, 28),\n",
       " (8661325627334373315, 43, 44)]"
      ]
     },
     "execution_count": 10,
     "metadata": {},
     "output_type": "execute_result"
    }
   ],
   "source": [
    "match_results"
   ]
  },
  {
   "cell_type": "code",
   "execution_count": 11,
   "id": "636d8a7f",
   "metadata": {},
   "outputs": [
    {
     "name": "stdout",
     "output_type": "stream",
     "text": [
      "language found at index 1\n",
      "computer found at index 13\n",
      "artificial found at index 17\n",
      "language found at index 27\n",
      "language found at index 43\n"
     ]
    }
   ],
   "source": [
    "for tup in match_results:\n",
    "    print(f'{document[tup[1]:tup[2]]} found at index {tup[1]}')"
   ]
  },
  {
   "cell_type": "code",
   "execution_count": 12,
   "id": "d892c3d2",
   "metadata": {},
   "outputs": [
    {
     "data": {
      "text/plain": [
       "of linguistics, computer science, and"
      ]
     },
     "execution_count": 12,
     "metadata": {},
     "output_type": "execute_result"
    }
   ],
   "source": [
    "document[13-3:14+3]"
   ]
  },
  {
   "cell_type": "code",
   "execution_count": 13,
   "id": "5da6cf73",
   "metadata": {},
   "outputs": [],
   "source": [
    "goose_obj = Goose()\n",
    "url = 'https://en.wikipedia.org/wiki/Natural_language_processing'\n",
    "article = goose_obj.extract(url)"
   ]
  },
  {
   "cell_type": "code",
   "execution_count": 14,
   "id": "148d6a6a",
   "metadata": {},
   "outputs": [
    {
     "data": {
      "text/plain": [
       "'artificial, computer, language'"
      ]
     },
     "execution_count": 14,
     "metadata": {},
     "output_type": "execute_result"
    }
   ],
   "source": [
    "tot_words = 50\n",
    "str_to_search_html = ', '.join(str_to_search)\n",
    "str_to_search_html"
   ]
  },
  {
   "cell_type": "code",
   "execution_count": 15,
   "id": "240b89e4",
   "metadata": {},
   "outputs": [
    {
     "data": {
      "text/html": [
       "<h2>Search results for: ARTIFICIAL, COMPUTER, LANGUAGE</h2>"
      ],
      "text/plain": [
       "<IPython.core.display.HTML object>"
      ]
     },
     "metadata": {},
     "output_type": "display_data"
    },
    {
     "data": {
      "text/html": [
       "<p><strong>Number of Matches:</strong> 36</p>"
      ],
      "text/plain": [
       "<IPython.core.display.HTML object>"
      ]
     },
     "metadata": {},
     "output_type": "display_data"
    },
    {
     "name": "stdout",
     "output_type": "stream",
     "text": [
      "language found at index 1\n",
      "computer found at index 13\n",
      "artificial found at index 17\n",
      "language found at index 27\n",
      "language found at index 43\n",
      "computer found at index 50\n",
      "language found at index 67\n",
      "language found at index 96\n",
      "artificial found at index 149\n",
      "language found at index 167\n",
      "computer found at index 207\n",
      "language found at index 210\n",
      "language found at index 338\n",
      "language found at index 350\n",
      "computer found at index 468\n",
      "language found at index 619\n",
      "language found at index 683\n",
      "language found at index 711\n",
      "language found at index 721\n",
      "language found at index 776\n",
      "language found at index 937\n",
      "language found at index 1088\n",
      "language found at index 1119\n",
      "language found at index 1125\n",
      "language found at index 1171\n",
      "language found at index 1578\n",
      "computer found at index 1627\n",
      "language found at index 1652\n",
      "language found at index 1816\n",
      "language found at index 1853\n",
      "language found at index 2082\n",
      "language found at index 2128\n",
      "language found at index 2157\n",
      "language found at index 2191\n",
      "language found at index 2382\n",
      "language found at index 2509\n"
     ]
    }
   ],
   "source": [
    "marked_text = ''\n",
    "display(HTML(f'<h2>Search results for: {str_to_search_html.upper()}</h2>'))\n",
    "doc = nlp(article.cleaned_text)\n",
    "found_results = matcher(doc)\n",
    "#print(found_results)\n",
    "display(HTML(f\"\"\"<p><strong>Number of Matches:</strong> {len(found_results)}</p>\"\"\"))\n",
    "for tup in found_results:\n",
    "    print(f'{doc[tup[1]:tup[2]]} found at index {tup[1]}')"
   ]
  },
  {
   "cell_type": "code",
   "execution_count": 16,
   "id": "37ddc1e3",
   "metadata": {},
   "outputs": [
    {
     "data": {
      "text/html": [
       "<h2>Search results for: ARTIFICIAL, COMPUTER, LANGUAGE</h2>"
      ],
      "text/plain": [
       "<IPython.core.display.HTML object>"
      ]
     },
     "metadata": {},
     "output_type": "display_data"
    },
    {
     "data": {
      "text/html": [
       "<p><strong>Number of Matches:</strong> 36</p>"
      ],
      "text/plain": [
       "<IPython.core.display.HTML object>"
      ]
     },
     "metadata": {},
     "output_type": "display_data"
    },
    {
     "name": "stderr",
     "output_type": "stream",
     "text": [
      "C:\\Users\\Luvkush\\AppData\\Local\\Temp\\ipykernel_11800\\3442309543.py:13: UserWarning: [W007] The model you're using has no word vectors loaded, so the result of the Span.similarity method will be based on the tagger, parser and NER, which may not give useful similarity judgements. This may happen if you're using one of the small models, e.g. `en_core_web_sm`, which don't ship with word vectors and only use context-sensitive tensors. You can always add your own word vectors, or use one of the larger models instead if available.\n",
      "  if doc[tup[1]:tup[2]].similarity(tokens_list[j])== 1.0:\n"
     ]
    },
    {
     "data": {
      "text/html": [
       "<blockquote>Natural <mark style=\"background-color:yellow;\">language</mark> processing (NLP) is an interdisciplinary subfield of linguistics, computer science, and artificial intelligence concerned with the interactions between computers and human <mark style=\"background-color:yellow;\">language</mark>, in particular how to program computers to process and analyze large amounts of natural <mark style=\"background-color:yellow;\">language</mark> data. The goal is a computer capable<br/><br/>Natural language processing (NLP) is an interdisciplinary subfield of linguistics, <mark style=\"background-color:yellow;\">computer</mark> science, and artificial intelligence concerned with the interactions between <mark style=\"background-color:yellow;\">computer</mark>s and human language, in particular how to program <mark style=\"background-color:yellow;\">computer</mark>s to process and analyze large amounts of natural language data. The goal is a <mark style=\"background-color:yellow;\">computer</mark> capable of \"understanding\" the contents of documents, including the contextual<br/><br/>Natural language processing (NLP) is an interdisciplinary subfield of linguistics, computer science, and <mark style=\"background-color:yellow;\">artificial</mark> intelligence concerned with the interactions between computers and human language, in particular how to program computers to process and analyze large amounts of natural language data. The goal is a computer capable of \"understanding\" the contents of documents, including the contextual nuances of the language<br/><br/>Natural <mark style=\"background-color:yellow;\">language</mark> processing (NLP) is an interdisciplinary subfield of linguistics, computer science, and artificial intelligence concerned with the interactions between computers and human <mark style=\"background-color:yellow;\">language</mark>, in particular how to program computers to process and analyze large amounts of natural <mark style=\"background-color:yellow;\">language</mark> data. The goal is a computer capable of \"understanding\" the contents of documents, including the contextual nuances of the <mark style=\"background-color:yellow;\">language</mark> within them. The technology can then accurately extract information<br/><br/>Natural <mark style=\"background-color:yellow;\">language</mark> processing (NLP) is an interdisciplinary subfield of linguistics, computer science, and artificial intelligence concerned with the interactions between computers and human <mark style=\"background-color:yellow;\">language</mark>, in particular how to program computers to process and analyze large amounts of natural <mark style=\"background-color:yellow;\">language</mark> data. The goal is a computer capable of \"understanding\" the contents of documents, including the contextual nuances of the <mark style=\"background-color:yellow;\">language</mark> within them. The technology can then accurately extract information and insights contained in the documents as well as categorize and organize the documents themselves.<br/><br/>Natural language processing (NLP) is an interdisciplinary subfield of linguistics, <mark style=\"background-color:yellow;\">computer</mark> science, and artificial intelligence concerned with the interactions between <mark style=\"background-color:yellow;\">computer</mark>s and human language, in particular how to program <mark style=\"background-color:yellow;\">computer</mark>s to process and analyze large amounts of natural language data. The goal is a <mark style=\"background-color:yellow;\">computer</mark> capable of \"understanding\" the contents of documents, including the contextual nuances of the language within them. The technology can then accurately extract information and insights contained in the documents as well as categorize and organize the documents themselves.\n",
       "\n",
       "Natural language processing has its roots<br/><br/>artificial intelligence concerned with the interactions between computers and human <mark style=\"background-color:yellow;\">language</mark>, in particular how to program computers to process and analyze large amounts of natural <mark style=\"background-color:yellow;\">language</mark> data. The goal is a computer capable of \"understanding\" the contents of documents, including the contextual nuances of the <mark style=\"background-color:yellow;\">language</mark> within them. The technology can then accurately extract information and insights contained in the documents as well as categorize and organize the documents themselves.\n",
       "\n",
       "Natural <mark style=\"background-color:yellow;\">language</mark> processing has its roots in the 1950s. Already in 1950, Alan Turing published an article titled \"Computing Machinery<br/><br/>The goal is a computer capable of \"understanding\" the contents of documents, including the contextual nuances of the <mark style=\"background-color:yellow;\">language</mark> within them. The technology can then accurately extract information and insights contained in the documents as well as categorize and organize the documents themselves.\n",
       "\n",
       "Natural <mark style=\"background-color:yellow;\">language</mark> processing has its roots in the 1950s. Already in 1950, Alan Turing published an article titled \"Computing Machinery and Intelligence\" which proposed what is now called the Turing test as a criterion of intelligence, though at the time that was not articulated as a problem<br/><br/>its roots in the 1950s. Already in 1950, Alan Turing published an article titled \"Computing Machinery and Intelligence\" which proposed what is now called the Turing test as a criterion of intelligence, though at the time that was not articulated as a problem separate from <mark style=\"background-color:yellow;\">artificial</mark> intelligence. The proposed test includes a task that involves the automated interpretation and generation of natural language.\n",
       "\n",
       "The premise of symbolic NLP is well-summarized by John Searle's Chinese room experiment: Given a collection of rules (e.g., a Chinese phrasebook, with<br/><br/>Machinery and Intelligence\" which proposed what is now called the Turing test as a criterion of intelligence, though at the time that was not articulated as a problem separate from artificial intelligence. The proposed test includes a task that involves the automated interpretation and generation of natural <mark style=\"background-color:yellow;\">language</mark>.\n",
       "\n",
       "The premise of symbolic NLP is well-summarized by John Searle's Chinese room experiment: Given a collection of rules (e.g., a Chinese phrasebook, with questions and matching answers), the computer emulates natural <mark style=\"background-color:yellow;\">language</mark> understanding (or other NLP tasks)<br/><br/>task that involves the automated interpretation and generation of natural language.\n",
       "\n",
       "The premise of symbolic NLP is well-summarized by John Searle's Chinese room experiment: Given a collection of rules (e.g., a Chinese phrasebook, with questions and matching answers), the <mark style=\"background-color:yellow;\">computer</mark> emulates natural language understanding (or other NLP tasks) by applying those rules to the data it confronts.\n",
       "• 1950s: The Georgetown experiment in 1954 involved fully automatic translation of more than sixty Russian sentences into English. The authors claimed that within three or five<br/><br/>the automated interpretation and generation of natural <mark style=\"background-color:yellow;\">language</mark>.\n",
       "\n",
       "The premise of symbolic NLP is well-summarized by John Searle's Chinese room experiment: Given a collection of rules (e.g., a Chinese phrasebook, with questions and matching answers), the computer emulates natural <mark style=\"background-color:yellow;\">language</mark> understanding (or other NLP tasks) by applying those rules to the data it confronts.\n",
       "• 1950s: The Georgetown experiment in 1954 involved fully automatic translation of more than sixty Russian sentences into English. The authors claimed that within three or five years, machine<br/><br/>-year-long research had failed to fulfill the expectations, funding for machine translation was dramatically reduced. Little further research in machine translation was conducted until the late 1980s when the first statistical machine translation systems were developed.\n",
       "• 1960s: Some notably successful natural <mark style=\"background-color:yellow;\">language</mark> processing systems developed in the 1960s were SHRDLU, a natural <mark style=\"background-color:yellow;\">language</mark> system working in restricted \"blocks worlds\" with restricted vocabularies, and ELIZA, a simulation of a Rogerian psychotherapist, written by Joseph Weizenbaum between 1964 and 1966. Using almost no information about human thought<br/><br/>funding for machine translation was dramatically reduced. Little further research in machine translation was conducted until the late 1980s when the first statistical machine translation systems were developed.\n",
       "• 1960s: Some notably successful natural <mark style=\"background-color:yellow;\">language</mark> processing systems developed in the 1960s were SHRDLU, a natural <mark style=\"background-color:yellow;\">language</mark> system working in restricted \"blocks worlds\" with restricted vocabularies, and ELIZA, a simulation of a Rogerian psychotherapist, written by Joseph Weizenbaum between 1964 and 1966. Using almost no information about human thought or emotion, ELIZA sometimes provided a startlingly human-like interaction<br/><br/>generic response, for example, responding to \"My head hurts\" with \"Why do you say your head hurts?\".\n",
       "• 1970s: During the 1970s, many programmers began to write \"conceptual ontologies\", which structured real-world information into <mark style=\"background-color:yellow;\">computer</mark>-understandable data. Examples are MARGIE (Schank, 1975), SAM (Cullingford, 1978), PAM (Wilensky, 1978), TaleSpin (Meehan, 1976), QUALM (Lehnert, 1977), Politics (Carbonell, 1979), and Plot<br/><br/>parsing (e.g., the development of HPSG as a computational operationalization of generative grammar), morphology (e.g., two-level morphology[3]), semantics (e.g., Lesk algorithm), reference (e.g., within Centering Theory[4]) and other areas of natural <mark style=\"background-color:yellow;\">language</mark> understanding (e.g., in the Rhetorical Structure Theory). Other lines of research were continued, e.g., the development of chatterbots with Racter and Jabberwacky. An important development (that eventually led to the statistical turn in the 1990s) was the rising importance of quantitative<br/><br/>of research were continued, e.g., the development of chatterbots with Racter and Jabberwacky. An important development (that eventually led to the statistical turn in the 1990s) was the rising importance of quantitative evaluation in this period.[5]\n",
       "\n",
       "Up to the 1980s, most natural <mark style=\"background-color:yellow;\">language</mark> processing systems were based on complex sets of hand-written rules. Starting in the late 1980s, however, there was a revolution in natural <mark style=\"background-color:yellow;\">language</mark> processing with the introduction of machine learning algorithms for <mark style=\"background-color:yellow;\">language</mark> processing. This was due to both the steady increase in computational<br/><br/>the 1990s) was the rising importance of quantitative evaluation in this period.[5]\n",
       "\n",
       "Up to the 1980s, most natural <mark style=\"background-color:yellow;\">language</mark> processing systems were based on complex sets of hand-written rules. Starting in the late 1980s, however, there was a revolution in natural <mark style=\"background-color:yellow;\">language</mark> processing with the introduction of machine learning algorithms for <mark style=\"background-color:yellow;\">language</mark> processing. This was due to both the steady increase in computational power (see Moore's law) and the gradual lessening of the dominance of Chomskyan theories of linguistics (e.g. transformational grammar), whose theoretical underpinnings<br/><br/>in this period.[5]\n",
       "\n",
       "Up to the 1980s, most natural <mark style=\"background-color:yellow;\">language</mark> processing systems were based on complex sets of hand-written rules. Starting in the late 1980s, however, there was a revolution in natural <mark style=\"background-color:yellow;\">language</mark> processing with the introduction of machine learning algorithms for <mark style=\"background-color:yellow;\">language</mark> processing. This was due to both the steady increase in computational power (see Moore's law) and the gradual lessening of the dominance of Chomskyan theories of linguistics (e.g. transformational grammar), whose theoretical underpinnings discouraged the sort of corpus linguistics that underlies the machine<br/><br/>due to both the steady increase in computational power (see Moore's law) and the gradual lessening of the dominance of Chomskyan theories of linguistics (e.g. transformational grammar), whose theoretical underpinnings discouraged the sort of corpus linguistics that underlies the machine-learning approach to <mark style=\"background-color:yellow;\">language</mark> processing.[6]\n",
       "• 1990s: Many of the notable early successes on statistical methods in NLP occurred in the field of machine translation, due especially to work at IBM Research. These systems were able to take advantage of existing multilingual textual corpora that had been produced by<br/><br/>major limitation in the success of these systems. As a result, a great deal of research has gone into methods of more effectively learning from limited amounts of data.\n",
       "• 2000s: With the growth of the web, increasing amounts of raw (unannotated) <mark style=\"background-color:yellow;\">language</mark> data has become available since the mid-1990s. Research has thus increasingly focused on unsupervised and semi-supervised learning algorithms. Such algorithms can learn from data that has not been hand-annotated with the desired answers or using a combination of annotated and non-annotated data<br/><br/>of the World Wide Web), which can often make up for the inferior results if the algorithm used has a low enough time complexity to be practical.\n",
       "\n",
       "In the 2010s, representation learning and deep neural network-style machine learning methods became widespread in natural <mark style=\"background-color:yellow;\">language</mark> processing. That popularity was due partly to a flurry of results showing that such techniques[7][8] can achieve state-of-the-art results in many natural <mark style=\"background-color:yellow;\">language</mark> tasks, e.g., in <mark style=\"background-color:yellow;\">language</mark> modeling[9] and parsing.[10][11] This is increasingly important in medicine and healthcare<br/><br/>In the 2010s, representation learning and deep neural network-style machine learning methods became widespread in natural <mark style=\"background-color:yellow;\">language</mark> processing. That popularity was due partly to a flurry of results showing that such techniques[7][8] can achieve state-of-the-art results in many natural <mark style=\"background-color:yellow;\">language</mark> tasks, e.g., in <mark style=\"background-color:yellow;\">language</mark> modeling[9] and parsing.[10][11] This is increasingly important in medicine and healthcare, where NLP helps analyze notes and text in electronic health records that would otherwise be inaccessible for study when seeking to improve care.[12]\n",
       "\n",
       "In the early days,<br/><br/>and deep neural network-style machine learning methods became widespread in natural <mark style=\"background-color:yellow;\">language</mark> processing. That popularity was due partly to a flurry of results showing that such techniques[7][8] can achieve state-of-the-art results in many natural <mark style=\"background-color:yellow;\">language</mark> tasks, e.g., in <mark style=\"background-color:yellow;\">language</mark> modeling[9] and parsing.[10][11] This is increasingly important in medicine and healthcare, where NLP helps analyze notes and text in electronic health records that would otherwise be inaccessible for study when seeking to improve care.[12]\n",
       "\n",
       "In the early days, many <mark style=\"background-color:yellow;\">language</mark>-processing systems were<br/><br/>, e.g., in <mark style=\"background-color:yellow;\">language</mark> modeling[9] and parsing.[10][11] This is increasingly important in medicine and healthcare, where NLP helps analyze notes and text in electronic health records that would otherwise be inaccessible for study when seeking to improve care.[12]\n",
       "\n",
       "In the early days, many <mark style=\"background-color:yellow;\">language</mark>-processing systems were designed by symbolic methods, i.e., the hand-coding of a set of rules, coupled with a dictionary lookup:[13][14] such as by writing grammars or devising heuristic rules for stemming.\n",
       "\n",
       "More recent systems based on machine-learning algorithms have<br/><br/>preprocessing in NLP pipelines, e.g., tokenization, or\n",
       "• for postprocessing and transforming the output of NLP pipelines, e.g., for knowledge extraction from syntactic parses.\n",
       "\n",
       "Since the so-called \"statistical revolution\"[15][16] in the late 1980s and mid-1990s, much natural <mark style=\"background-color:yellow;\">language</mark> processing research has relied heavily on machine learning. The machine-learning paradigm calls instead for using statistical inference to automatically learn such rules through the analysis of large corpora (the plural form of corpus, is a set of documents, possibly with human or computer annotations<br/><br/>natural language processing research has relied heavily on machine learning. The machine-learning paradigm calls instead for using statistical inference to automatically learn such rules through the analysis of large corpora (the plural form of corpus, is a set of documents, possibly with human or <mark style=\"background-color:yellow;\">computer</mark> annotations) of typical real-world examples.\n",
       "\n",
       "Many different classes of machine-learning algorithms have been applied to natural-language-processing tasks. These algorithms take as input a large set of \"features\" that are generated from the input data. Increasingly<br/><br/>such rules through the analysis of large corpora (the plural form of corpus, is a set of documents, possibly with human or computer annotations) of typical real-world examples.\n",
       "\n",
       "Many different classes of machine-learning algorithms have been applied to natural-<mark style=\"background-color:yellow;\">language</mark>-processing tasks. These algorithms take as input a large set of \"features\" that are generated from the input data. Increasingly, however, research has focused on statistical models, which make soft, probabilistic decisions based on attaching real-valued weights to each<br/><br/>.\n",
       "\n",
       "Some of the earliest-used machine learning algorithms, such as decision trees, produced systems of hard if-then rules similar to existing hand-written rules. However, part-of-speech tagging introduced the use of hidden Markov models to natural <mark style=\"background-color:yellow;\">language</mark> processing, and increasingly, research has focused on statistical models, which make soft, probabilistic decisions based on attaching real-valued weights to the features making up the input data. The cache <mark style=\"background-color:yellow;\">language</mark> models upon which many speech recognition systems now rely are examples of such<br/><br/>of-speech tagging introduced the use of hidden Markov models to natural <mark style=\"background-color:yellow;\">language</mark> processing, and increasingly, research has focused on statistical models, which make soft, probabilistic decisions based on attaching real-valued weights to the features making up the input data. The cache <mark style=\"background-color:yellow;\">language</mark> models upon which many speech recognition systems now rely are examples of such statistical models. Such models are generally more robust when given unfamiliar input, especially input that contains errors (as is very common for real-world data), and produce more reliable results when<br/><br/>(e.g., part-of-speech tagging and dependency parsing). In some areas, this shift has entailed substantial changes in how NLP systems are designed, such that deep neural network-based approaches may be viewed as a new paradigm distinct from statistical natural <mark style=\"background-color:yellow;\">language</mark> processing. For instance, the term neural machine translation (NMT) emphasizes the fact that deep learning-based approaches to machine translation directly learn sequence-to-sequence transformations, obviating the need for intermediate steps such as word alignment and <mark style=\"background-color:yellow;\">language</mark> modeling that was used<br/><br/>distinct from statistical natural <mark style=\"background-color:yellow;\">language</mark> processing. For instance, the term neural machine translation (NMT) emphasizes the fact that deep learning-based approaches to machine translation directly learn sequence-to-sequence transformations, obviating the need for intermediate steps such as word alignment and <mark style=\"background-color:yellow;\">language</mark> modeling that was used in statistical machine translation (SMT).\n",
       "\n",
       "The following is a list of some of the most commonly researched tasks in natural <mark style=\"background-color:yellow;\">language</mark> processing. Some of these tasks have direct real-world applications, while others more commonly serve as subtasks that<br/><br/>translation directly learn sequence-to-sequence transformations, obviating the need for intermediate steps such as word alignment and <mark style=\"background-color:yellow;\">language</mark> modeling that was used in statistical machine translation (SMT).\n",
       "\n",
       "The following is a list of some of the most commonly researched tasks in natural <mark style=\"background-color:yellow;\">language</mark> processing. Some of these tasks have direct real-world applications, while others more commonly serve as subtasks that are used to aid in solving larger tasks.\n",
       "\n",
       "Though natural <mark style=\"background-color:yellow;\">language</mark> processing tasks are closely intertwined, they can be subdivided into categories for convenience. A<br/><br/>\n",
       "\n",
       "The following is a list of some of the most commonly researched tasks in natural <mark style=\"background-color:yellow;\">language</mark> processing. Some of these tasks have direct real-world applications, while others more commonly serve as subtasks that are used to aid in solving larger tasks.\n",
       "\n",
       "Though natural <mark style=\"background-color:yellow;\">language</mark> processing tasks are closely intertwined, they can be subdivided into categories for convenience. A coarse division is given below.\n",
       "\n",
       "Based on long-standing trends in the field, it is possible to extrapolate future directions of NLP. As of 2020, three trends among<br/><br/>: 60+/100+ <mark style=\"background-color:yellow;\">language</mark>s)\n",
       "• Elimination of symbolic representations (rule-based over supervised towards weakly supervised methods, representation learning and end-to-end systems)\n",
       "\n",
       "Most higher-level NLP applications involve aspects that emulate intelligent behaviour and apparent comprehension of natural <mark style=\"background-color:yellow;\">language</mark>. More broadly speaking, the technical operationalization of increasingly advanced aspects of cognitive behaviour represents one of the developmental trajectories of NLP (see trends among CoNLL shared tasks above).\n",
       "\n",
       "Cognition refers to \"the mental action or process of acquiring knowledge and understanding through thought<br/><br/>is an interdisciplinary branch of linguistics, combining knowledge and research from both psychology and linguistics.[43] Especially during the age of symbolic NLP, the area of computational linguistics maintained strong ties with cognitive studies.\n",
       "\n",
       "As an example, George Lakoff offers a methodology to build natural <mark style=\"background-color:yellow;\">language</mark> processing (NLP) algorithms through the perspective of cognitive science, along with the findings of cognitive linguistics,[44] with two defining aspects:\n",
       "• Apply the theory of conceptual metaphor, explained by Lakoff as \"the understanding of one idea, in terms of another\"<br/><br/><blockquote>"
      ],
      "text/plain": [
       "<IPython.core.display.HTML object>"
      ]
     },
     "metadata": {},
     "output_type": "display_data"
    }
   ],
   "source": [
    "marked_text = ''\n",
    "display(HTML(f'<h2>Search results for: {str_to_search_html.upper()}</h2>'))\n",
    "doc = nlp(article.cleaned_text)\n",
    "found_results = matcher(doc)\n",
    "#print(found_results)\n",
    "display(HTML(f\"\"\"<p><strong>Number of Matches:</strong> {len(found_results)}</p>\"\"\"))\n",
    "for tup in found_results:\n",
    "    #print(tup)\n",
    "    start = tup[1] - tot_words\n",
    "    if start<0:\n",
    "        start = 0\n",
    "    for j in range(len(tokens_list)):\n",
    "        if doc[tup[1]:tup[2]].similarity(tokens_list[j])== 1.0:\n",
    "            #print(j, tokens_list[j])\n",
    "            search_text = str(tokens_list[j])\n",
    "            marked_text += str(doc[start:tup[2]+tot_words]).replace(search_text, f'<mark style=\"background-color:yellow;\">{search_text}</mark>')\n",
    "            marked_text += \"<br/><br/>\"\n",
    "            \n",
    "display(HTML(f\"\"\"<blockquote>{marked_text}<blockquote>\"\"\"))"
   ]
  },
  {
   "cell_type": "markdown",
   "id": "fd63a650",
   "metadata": {},
   "source": [
    "### Bag of words"
   ]
  },
  {
   "cell_type": "code",
   "execution_count": 17,
   "id": "394becab",
   "metadata": {},
   "outputs": [],
   "source": [
    "sentences = ['This is a first document.', \n",
    "             'This document is the second document.', \n",
    "             'And this is the third one.',\n",
    "             'Is this the first document?']"
   ]
  },
  {
   "cell_type": "code",
   "execution_count": 18,
   "id": "b65adbc2",
   "metadata": {},
   "outputs": [],
   "source": [
    "vectorizer = CountVectorizer()\n",
    "X = vectorizer.fit_transform(sentences)"
   ]
  },
  {
   "cell_type": "code",
   "execution_count": 19,
   "id": "e91c373a",
   "metadata": {},
   "outputs": [
    {
     "name": "stdout",
     "output_type": "stream",
     "text": [
      "['and' 'document' 'first' 'is' 'one' 'second' 'the' 'third' 'this']\n"
     ]
    }
   ],
   "source": [
    "print(vectorizer.get_feature_names_out())"
   ]
  },
  {
   "cell_type": "code",
   "execution_count": 20,
   "id": "09f53c81",
   "metadata": {},
   "outputs": [
    {
     "data": {
      "text/plain": [
       "array([[0, 1, 1, 1, 0, 0, 0, 0, 1],\n",
       "       [0, 2, 0, 1, 0, 1, 1, 0, 1],\n",
       "       [1, 0, 0, 1, 1, 0, 1, 1, 1],\n",
       "       [0, 1, 1, 1, 0, 0, 1, 0, 1]], dtype=int64)"
      ]
     },
     "execution_count": 20,
     "metadata": {},
     "output_type": "execute_result"
    }
   ],
   "source": [
    "X.toarray()"
   ]
  },
  {
   "cell_type": "code",
   "execution_count": 21,
   "id": "e8eb55cc",
   "metadata": {},
   "outputs": [
    {
     "data": {
      "text/html": [
       "<div>\n",
       "<style scoped>\n",
       "    .dataframe tbody tr th:only-of-type {\n",
       "        vertical-align: middle;\n",
       "    }\n",
       "\n",
       "    .dataframe tbody tr th {\n",
       "        vertical-align: top;\n",
       "    }\n",
       "\n",
       "    .dataframe thead th {\n",
       "        text-align: right;\n",
       "    }\n",
       "</style>\n",
       "<table border=\"1\" class=\"dataframe\">\n",
       "  <thead>\n",
       "    <tr style=\"text-align: right;\">\n",
       "      <th></th>\n",
       "      <th>and</th>\n",
       "      <th>document</th>\n",
       "      <th>first</th>\n",
       "      <th>is</th>\n",
       "      <th>one</th>\n",
       "      <th>second</th>\n",
       "      <th>the</th>\n",
       "      <th>third</th>\n",
       "      <th>this</th>\n",
       "    </tr>\n",
       "  </thead>\n",
       "  <tbody>\n",
       "    <tr>\n",
       "      <th>This is a first document.</th>\n",
       "      <td>0</td>\n",
       "      <td>1</td>\n",
       "      <td>1</td>\n",
       "      <td>1</td>\n",
       "      <td>0</td>\n",
       "      <td>0</td>\n",
       "      <td>0</td>\n",
       "      <td>0</td>\n",
       "      <td>1</td>\n",
       "    </tr>\n",
       "    <tr>\n",
       "      <th>This document is the second document.</th>\n",
       "      <td>0</td>\n",
       "      <td>2</td>\n",
       "      <td>0</td>\n",
       "      <td>1</td>\n",
       "      <td>0</td>\n",
       "      <td>1</td>\n",
       "      <td>1</td>\n",
       "      <td>0</td>\n",
       "      <td>1</td>\n",
       "    </tr>\n",
       "    <tr>\n",
       "      <th>And this is the third one.</th>\n",
       "      <td>1</td>\n",
       "      <td>0</td>\n",
       "      <td>0</td>\n",
       "      <td>1</td>\n",
       "      <td>1</td>\n",
       "      <td>0</td>\n",
       "      <td>1</td>\n",
       "      <td>1</td>\n",
       "      <td>1</td>\n",
       "    </tr>\n",
       "    <tr>\n",
       "      <th>Is this the first document?</th>\n",
       "      <td>0</td>\n",
       "      <td>1</td>\n",
       "      <td>1</td>\n",
       "      <td>1</td>\n",
       "      <td>0</td>\n",
       "      <td>0</td>\n",
       "      <td>1</td>\n",
       "      <td>0</td>\n",
       "      <td>1</td>\n",
       "    </tr>\n",
       "  </tbody>\n",
       "</table>\n",
       "</div>"
      ],
      "text/plain": [
       "                                       and  document  first  is  one  second  \\\n",
       "This is a first document.                0         1      1   1    0       0   \n",
       "This document is the second document.    0         2      0   1    0       1   \n",
       "And this is the third one.               1         0      0   1    1       0   \n",
       "Is this the first document?              0         1      1   1    0       0   \n",
       "\n",
       "                                       the  third  this  \n",
       "This is a first document.                0      0     1  \n",
       "This document is the second document.    1      0     1  \n",
       "And this is the third one.               1      1     1  \n",
       "Is this the first document?              1      0     1  "
      ]
     },
     "execution_count": 21,
     "metadata": {},
     "output_type": "execute_result"
    }
   ],
   "source": [
    "pd.DataFrame(X.toarray(), columns=vectorizer.get_feature_names_out(), index = sentences)"
   ]
  },
  {
   "cell_type": "code",
   "execution_count": 22,
   "id": "d33371f3",
   "metadata": {},
   "outputs": [
    {
     "data": {
      "text/plain": [
       "['Natural language processing (NLP) is an interdisciplinary subfield of linguistics, computer science, and artificial intelligence concerned with the interactions between computers and human language, in particular how to program computers to process and analyze large amounts of natural language data.',\n",
       " 'The goal is a computer capable of \"understanding\" the contents of documents, including the contextual nuances of the language within them.',\n",
       " 'The technology can then accurately extract information and insights contained in the documents as well as categorize and organize the documents themselves.',\n",
       " 'Natural language processing has its roots in the 1950s.',\n",
       " 'Already in 1950, Alan Turing published an article titled \"Computing Machinery and Intelligence\" which proposed what is now called the Turing test as a criterion of intelligence, though at the time that was not articulated as a problem separate from artificial intelligence.',\n",
       " 'The proposed test includes a task that involves the automated interpretation and generation of natural language.',\n",
       " \"The premise of symbolic NLP is well-summarized by John Searle's Chinese room experiment: Given a collection of rules (e.g., a Chinese phrasebook, with questions and matching answers), the computer emulates natural language understanding (or other NLP tasks) by applying those rules to the data it confronts.\",\n",
       " '• 1950s: The Georgetown experiment in 1954 involved fully automatic translation of more than sixty Russian sentences into English.',\n",
       " 'The authors claimed that within three or five years, machine translation would be a solved problem.',\n",
       " '[2] However, real progress was much slower, and after the ALPAC report in 1966, which found that ten-year-long research had failed to fulfill the expectations, funding for machine translation was dramatically reduced.',\n",
       " 'Little further research in machine translation was conducted until the late 1980s when the first statistical machine translation systems were developed.',\n",
       " '• 1960s: Some notably successful natural language processing systems developed in the 1960s were SHRDLU, a natural language system working in restricted \"blocks worlds\" with restricted vocabularies, and ELIZA, a simulation of a Rogerian psychotherapist, written by Joseph Weizenbaum between 1964 and 1966.',\n",
       " 'Using almost no information about human thought or emotion, ELIZA sometimes provided a startlingly human-like interaction.',\n",
       " 'When the \"patient\" exceeded the very small knowledge base, ELIZA might provide a generic response, for example, responding to \"My head hurts\" with \"Why do you say your head hurts?\".',\n",
       " '• 1970s: During the 1970s, many programmers began to write \"conceptual ontologies\", which structured real-world information into computer-understandable data.',\n",
       " 'Examples are MARGIE (Schank, 1975), SAM (Cullingford, 1978), PAM (Wilensky, 1978), TaleSpin (Meehan, 1976), QUALM (Lehnert, 1977), Politics (Carbonell, 1979), and Plot Units (Lehnert 1981).',\n",
       " 'During this time, the first chatterbots were written (e.g., PARRY).',\n",
       " '• 1980s: The 1980s and early 1990s mark the heyday of symbolic methods in NLP.',\n",
       " 'Focus areas of the time included research on rule-based parsing (e.g., the development of HPSG as a computational operationalization of generative grammar), morphology (e.g., two-level morphology[3]), semantics (e.g., Lesk algorithm), reference (e.g., within Centering Theory[4]) and other areas of natural language understanding (e.g., in the Rhetorical Structure Theory).',\n",
       " 'Other lines of research were continued, e.g., the development of chatterbots with Racter and Jabberwacky.',\n",
       " 'An important development (that eventually led to the statistical turn in the 1990s) was the rising importance of quantitative evaluation in this period.',\n",
       " '[5]\\n\\nUp to the 1980s, most natural language processing systems were based on complex sets of hand-written rules.',\n",
       " 'Starting in the late 1980s, however, there was a revolution in natural language processing with the introduction of machine learning algorithms for language processing.',\n",
       " \"This was due to both the steady increase in computational power (see Moore's law) and the gradual lessening of the dominance of Chomskyan theories of linguistics (e.g.\",\n",
       " 'transformational grammar), whose theoretical underpinnings discouraged the sort of corpus linguistics that underlies the machine-learning approach to language processing.',\n",
       " '[6]\\n• 1990s: Many of the notable early successes on statistical methods in NLP occurred in the field of machine translation, due especially to work at IBM Research.',\n",
       " 'These systems were able to take advantage of existing multilingual textual corpora that had been produced by the Parliament of Canada and the European Union as a result of laws calling for the translation of all governmental proceedings into all official languages of the corresponding systems of government.',\n",
       " 'However, most other systems depended on corpora specifically developed for the tasks implemented by these systems, which was (and often continues to be) a major limitation in the success of these systems.',\n",
       " 'As a result, a great deal of research has gone into methods of more effectively learning from limited amounts of data.',\n",
       " '• 2000s: With the growth of the web, increasing amounts of raw (unannotated) language data has become available since the mid-1990s.',\n",
       " 'Research has thus increasingly focused on unsupervised and semi-supervised learning algorithms.',\n",
       " 'Such algorithms can learn from data that has not been hand-annotated with the desired answers or using a combination of annotated and non-annotated data.',\n",
       " 'Generally, this task is much more difficult than supervised learning, and typically produces less accurate results for a given amount of input data.',\n",
       " 'However, there is an enormous amount of non-annotated data available (including, among other things, the entire content of the World Wide Web), which can often make up for the inferior results if the algorithm used has a low enough time complexity to be practical.',\n",
       " 'In the 2010s, representation learning and deep neural network-style machine learning methods became widespread in natural language processing.',\n",
       " 'That popularity was due partly to a flurry of results showing that such techniques[7][8] can achieve state-of-the-art results in many natural language tasks, e.g., in language modeling[9] and parsing.',\n",
       " '[10][11] This is increasingly important in medicine and healthcare, where NLP helps analyze notes and text in electronic health records that would otherwise be inaccessible for study when seeking to improve care.',\n",
       " '[12]\\n\\nIn the early days, many language-processing systems were designed by symbolic methods, i.e., the hand-coding of a set of rules, coupled with a dictionary lookup:[13][14] such as by writing grammars or devising heuristic rules for stemming.',\n",
       " 'More recent systems based on machine-learning algorithms have many advantages over hand-produced rules:\\n• The learning procedures used during machine learning automatically focus on the most common cases, whereas when writing rules by hand it is often not at all obvious where the effort should be directed.',\n",
       " '• Automatic learning procedures can make use of statistical inference algorithms to produce models that are robust to unfamiliar input (e.g.',\n",
       " 'containing words or structures that have not been seen before) and to erroneous input (e.g.',\n",
       " 'with misspelled words or words accidentally omitted).',\n",
       " 'Generally, handling such input gracefully with handwritten rules, or, more generally, creating systems of handwritten rules that make soft decisions, is extremely difficult, error-prone and time-consuming.',\n",
       " '• Systems based on automatically learning the rules can be made more accurate simply by supplying more input data.',\n",
       " 'However, systems based on handwritten rules can only be made more accurate by increasing the complexity of the rules, which is a much more difficult task.',\n",
       " 'In particular, there is a limit to the complexity of systems based on handwritten rules, beyond which the systems become more and more unmanageable.',\n",
       " 'However, creating more data to input to machine-learning systems simply requires a corresponding increase in the number of man-hours worked, generally without significant increases in the complexity of the annotation process.',\n",
       " 'Despite the popularity of machine learning in NLP research, symbolic methods are still (2020) commonly used:\\n• when the amount of training data is insufficient to successfully apply machine learning methods, e.g., for the machine translation of low-resource languages such as provided by the Apertium system,\\n• for preprocessing in NLP pipelines, e.g., tokenization, or\\n• for postprocessing and transforming the output of NLP pipelines, e.g., for knowledge extraction from syntactic parses.',\n",
       " 'Since the so-called \"statistical revolution\"[15][16] in the late 1980s and mid-1990s, much natural language processing research has relied heavily on machine learning.',\n",
       " 'The machine-learning paradigm calls instead for using statistical inference to automatically learn such rules through the analysis of large corpora (the plural form of corpus, is a set of documents, possibly with human or computer annotations) of typical real-world examples.',\n",
       " 'Many different classes of machine-learning algorithms have been applied to natural-language-processing tasks.',\n",
       " 'These algorithms take as input a large set of \"features\" that are generated from the input data.',\n",
       " 'Increasingly, however, research has focused on statistical models, which make soft, probabilistic decisions based on attaching real-valued weights to each input feature (complex-valued embeddings,[17] and neural networks in general have also been proposed, for e.g.',\n",
       " 'speech[18]).',\n",
       " 'Such models have the advantage that they can express the relative certainty of many different possible answers rather than only one, producing more reliable results when such a model is included as a component of a larger system.',\n",
       " 'Some of the earliest-used machine learning algorithms, such as decision trees, produced systems of hard if-then rules similar to existing hand-written rules.',\n",
       " 'However, part-of-speech tagging introduced the use of hidden Markov models to natural language processing, and increasingly, research has focused on statistical models, which make soft, probabilistic decisions based on attaching real-valued weights to the features making up the input data.',\n",
       " 'The cache language models upon which many speech recognition systems now rely are examples of such statistical models.',\n",
       " 'Such models are generally more robust when given unfamiliar input, especially input that contains errors (as is very common for real-world data), and produce more reliable results when integrated into a larger system comprising multiple subtasks.',\n",
       " 'Since the neural turn, statistical methods in NLP research have been largely replaced by neural networks.',\n",
       " 'However, they continue to be relevant for contexts in which statistical interpretability and transparency is required.',\n",
       " 'A major drawback of statistical methods is that they require elaborate feature engineering.',\n",
       " 'Since 2015,[19] the field has thus largely abandoned statistical methods and shifted to neural networks for machine learning.',\n",
       " 'Popular techniques include the use of word embeddings to capture semantic properties of words, and an increase in end-to-end learning of a higher-level task (e.g., question answering) instead of relying on a pipeline of separate intermediate tasks (e.g., part-of-speech tagging and dependency parsing).',\n",
       " 'In some areas, this shift has entailed substantial changes in how NLP systems are designed, such that deep neural network-based approaches may be viewed as a new paradigm distinct from statistical natural language processing.',\n",
       " 'For instance, the term neural machine translation (NMT) emphasizes the fact that deep learning-based approaches to machine translation directly learn sequence-to-sequence transformations, obviating the need for intermediate steps such as word alignment and language modeling that was used in statistical machine translation (SMT).',\n",
       " 'The following is a list of some of the most commonly researched tasks in natural language processing.',\n",
       " 'Some of these tasks have direct real-world applications, while others more commonly serve as subtasks that are used to aid in solving larger tasks.',\n",
       " 'Though natural language processing tasks are closely intertwined, they can be subdivided into categories for convenience.',\n",
       " 'A coarse division is given below.',\n",
       " 'Based on long-standing trends in the field, it is possible to extrapolate future directions of NLP.',\n",
       " 'As of 2020, three trends among the topics of the long-standing series of CoNLL Shared Tasks can be observed:[40]\\n• Increasing interest in multilinguality, and, potentially, multimodality (English since 1999; Spanish, Dutch since 2002; German since 2003; Bulgarian, Danish, Japanese, Portuguese, Slovenian, Swedish, Turkish since 2006; Basque, Catalan, Chinese, Greek, Hungarian, Italian, Turkish since 2007; Czech since 2009; Arabic since 2012; 2017: 40+ languages; 2018: 60+/100+ languages)\\n• Elimination of symbolic representations (rule-based over supervised towards weakly supervised methods, representation learning and end-to-end systems)\\n\\nMost higher-level NLP applications involve aspects that emulate intelligent behaviour and apparent comprehension of natural language.',\n",
       " 'More broadly speaking, the technical operationalization of increasingly advanced aspects of cognitive behaviour represents one of the developmental trajectories of NLP (see trends among CoNLL shared tasks above).',\n",
       " 'Cognition refers to \"the mental action or process of acquiring knowledge and understanding through thought, experience, and the senses.',\n",
       " '\"[41] Cognitive science is the interdisciplinary, scientific study of the mind and its processes.',\n",
       " '[42] Cognitive linguistics is an interdisciplinary branch of linguistics, combining knowledge and research from both psychology and linguistics.',\n",
       " '[43] Especially during the age of symbolic NLP, the area of computational linguistics maintained strong ties with cognitive studies.',\n",
       " 'As an example, George Lakoff offers a methodology to build natural language processing (NLP) algorithms through the perspective of cognitive science, along with the findings of cognitive linguistics,[44] with two defining aspects:\\n• Apply the theory of conceptual metaphor, explained by Lakoff as \"the understanding of one idea, in terms of another\" which provides an idea of the intent of the author.',\n",
       " '[45] For example, consider the English word big.',\n",
       " 'When used in a comparison (\"That is a big tree\"), the author\\'s intent is to imply that the tree is physically large relative to other trees or the authors experience.',\n",
       " 'When used metaphorically (\"Tomorrow is a big day\"), the author\\'s intent to imply importance.',\n",
       " 'The intent behind other usages, like in \"She is a big person\", will remain somewhat ambiguous to a person and a cognitive NLP algorithm alike without additional information.',\n",
       " '• Assign relative measures of meaning to a word, phrase, sentence or piece of text based on the information presented before and after the piece of text being analyzed, e.g., by means of a probabilistic context-free grammar (PCFG).',\n",
       " 'The mathematical equation for such algorithms is presented in :\\n\\nTies with cognitive linguistics are part of the historical heritage of NLP, but they have been less frequently addressed since the statistical turn during the 1990s.',\n",
       " 'Nevertheless, approaches to develop cognitive models towards technically operationalizable frameworks have been pursued in the context of various frameworks, e.g., of cognitive grammar,[46] functional grammar,[47] construction grammar,[48] computational psycholinguistics and cognitive neuroscience (e.g., ACT-R), however, with limited uptake in mainstream NLP (as measured by presence on major conferences[49] of the ACL).',\n",
       " 'More recently, ideas of cognitive NLP have been revived as an approach to achieve explainability, e.g., under the notion of \"cognitive AI\".',\n",
       " '[50] Likewise, ideas of cognitive NLP are inherent to neural models multimodal NLP (although rarely made explicit).',\n",
       " '[51]']"
      ]
     },
     "execution_count": 22,
     "metadata": {},
     "output_type": "execute_result"
    }
   ],
   "source": [
    "original_sentence = nltk.tokenize.sent_tokenize(article.cleaned_text)\n",
    "original_sentence"
   ]
  },
  {
   "cell_type": "code",
   "execution_count": 23,
   "id": "ce5f434e",
   "metadata": {},
   "outputs": [],
   "source": [
    "vectorizer = CountVectorizer()\n",
    "X_sentences = vectorizer.fit_transform(original_sentence)"
   ]
  },
  {
   "cell_type": "code",
   "execution_count": 24,
   "id": "ff5e007d",
   "metadata": {},
   "outputs": [
    {
     "name": "stdout",
     "output_type": "stream",
     "text": [
      "['10' '100' '11' '12' '13' '14' '15' '16' '17' '18' '19' '1950' '1950s'\n",
      " '1954' '1960s' '1964' '1966' '1970s' '1975' '1976' '1977' '1978' '1979'\n",
      " '1980s' '1981' '1990s' '1999' '2000s' '2002' '2003' '2006' '2007' '2009'\n",
      " '2010s' '2012' '2015' '2017' '2018' '2020' '40' '41' '42' '43' '44' '45'\n",
      " '46' '47' '48' '49' '50' '51' '60' 'abandoned' 'able' 'about' 'above'\n",
      " 'accidentally' 'accurate' 'accurately' 'achieve' 'acl' 'acquiring' 'act'\n",
      " 'action' 'additional' 'addressed' 'advanced' 'advantage' 'advantages'\n",
      " 'after' 'age' 'ai' 'aid' 'alan' 'algorithm' 'algorithms' 'alignment'\n",
      " 'alike' 'all' 'almost' 'along' 'alpac' 'already' 'also' 'although'\n",
      " 'ambiguous' 'among' 'amount' 'amounts' 'an' 'analysis' 'analyze'\n",
      " 'analyzed' 'and' 'annotated' 'annotation' 'annotations' 'another'\n",
      " 'answering' 'answers' 'apertium' 'apparent' 'applications' 'applied'\n",
      " 'apply' 'applying' 'approach' 'approaches' 'arabic' 'are' 'area' 'areas'\n",
      " 'art' 'article' 'articulated' 'artificial' 'as' 'aspects' 'assign' 'at'\n",
      " 'attaching' 'author' 'authors' 'automated' 'automatic' 'automatically'\n",
      " 'available' 'base' 'based' 'basque' 'be' 'became' 'become' 'been'\n",
      " 'before' 'began' 'behaviour' 'behind' 'being' 'below' 'between' 'beyond'\n",
      " 'big' 'blocks' 'both' 'branch' 'broadly' 'build' 'bulgarian' 'but' 'by'\n",
      " 'cache' 'called' 'calling' 'calls' 'can' 'canada' 'capable' 'capture'\n",
      " 'carbonell' 'care' 'cases' 'catalan' 'categories' 'categorize'\n",
      " 'centering' 'certainty' 'changes' 'chatterbots' 'chinese' 'chomskyan'\n",
      " 'claimed' 'classes' 'closely' 'coarse' 'coding' 'cognition' 'cognitive'\n",
      " 'collection' 'combination' 'combining' 'common' 'commonly' 'comparison'\n",
      " 'complex' 'complexity' 'component' 'comprehension' 'comprising'\n",
      " 'computational' 'computer' 'computers' 'computing' 'conceptual'\n",
      " 'concerned' 'conducted' 'conferences' 'confronts' 'conll' 'consider'\n",
      " 'construction' 'consuming' 'contained' 'containing' 'contains' 'content'\n",
      " 'contents' 'context' 'contexts' 'contextual' 'continue' 'continued'\n",
      " 'continues' 'convenience' 'corpora' 'corpus' 'corresponding' 'coupled'\n",
      " 'creating' 'criterion' 'cullingford' 'czech' 'danish' 'data' 'day' 'days'\n",
      " 'deal' 'decision' 'decisions' 'deep' 'defining' 'depended' 'dependency'\n",
      " 'designed' 'desired' 'despite' 'develop' 'developed' 'development'\n",
      " 'developmental' 'devising' 'dictionary' 'different' 'difficult' 'direct'\n",
      " 'directed' 'directions' 'directly' 'discouraged' 'distinct' 'division'\n",
      " 'do' 'documents' 'dominance' 'dramatically' 'drawback' 'due' 'during'\n",
      " 'dutch' 'each' 'earliest' 'early' 'effectively' 'effort' 'elaborate'\n",
      " 'electronic' 'elimination' 'eliza' 'embeddings' 'emotion' 'emphasizes'\n",
      " 'emulate' 'emulates' 'end' 'engineering' 'english' 'enormous' 'enough'\n",
      " 'entailed' 'entire' 'equation' 'erroneous' 'error' 'errors' 'especially'\n",
      " 'european' 'evaluation' 'eventually' 'example' 'examples' 'exceeded'\n",
      " 'existing' 'expectations' 'experience' 'experiment' 'explainability'\n",
      " 'explained' 'explicit' 'express' 'extract' 'extraction' 'extrapolate'\n",
      " 'extremely' 'fact' 'failed' 'feature' 'features' 'field' 'findings'\n",
      " 'first' 'five' 'flurry' 'focus' 'focused' 'following' 'for' 'form'\n",
      " 'found' 'frameworks' 'free' 'frequently' 'from' 'fulfill' 'fully'\n",
      " 'functional' 'funding' 'further' 'future' 'general' 'generally'\n",
      " 'generated' 'generation' 'generative' 'generic' 'george' 'georgetown'\n",
      " 'german' 'given' 'goal' 'gone' 'government' 'governmental' 'gracefully'\n",
      " 'gradual' 'grammar' 'grammars' 'great' 'greek' 'growth' 'had' 'hand'\n",
      " 'handling' 'handwritten' 'hard' 'has' 'have' 'head' 'health' 'healthcare'\n",
      " 'heavily' 'helps' 'heritage' 'heuristic' 'heyday' 'hidden' 'higher'\n",
      " 'historical' 'hours' 'how' 'however' 'hpsg' 'human' 'hungarian' 'hurts'\n",
      " 'ibm' 'idea' 'ideas' 'if' 'implemented' 'imply' 'importance' 'important'\n",
      " 'improve' 'in' 'inaccessible' 'include' 'included' 'includes' 'including'\n",
      " 'increase' 'increases' 'increasing' 'increasingly' 'inference' 'inferior'\n",
      " 'information' 'inherent' 'input' 'insights' 'instance' 'instead'\n",
      " 'insufficient' 'integrated' 'intelligence' 'intelligent' 'intent'\n",
      " 'interaction' 'interactions' 'interdisciplinary' 'interest'\n",
      " 'intermediate' 'interpretability' 'interpretation' 'intertwined' 'into'\n",
      " 'introduced' 'introduction' 'involve' 'involved' 'involves' 'is' 'it'\n",
      " 'italian' 'its' 'jabberwacky' 'japanese' 'john' 'joseph' 'knowledge'\n",
      " 'lakoff' 'language' 'languages' 'large' 'largely' 'larger' 'late' 'law'\n",
      " 'laws' 'learn' 'learning' 'led' 'lehnert' 'lesk' 'less' 'lessening'\n",
      " 'level' 'like' 'likewise' 'limit' 'limitation' 'limited' 'lines'\n",
      " 'linguistics' 'list' 'little' 'long' 'lookup' 'low' 'machine' 'machinery'\n",
      " 'made' 'mainstream' 'maintained' 'major' 'make' 'making' 'man' 'many'\n",
      " 'margie' 'mark' 'markov' 'matching' 'mathematical' 'may' 'meaning'\n",
      " 'means' 'measured' 'measures' 'medicine' 'meehan' 'mental' 'metaphor'\n",
      " 'metaphorically' 'methodology' 'methods' 'mid' 'might' 'mind'\n",
      " 'misspelled' 'model' 'modeling' 'models' 'moore' 'more' 'morphology'\n",
      " 'most' 'much' 'multilingual' 'multilinguality' 'multimodal'\n",
      " 'multimodality' 'multiple' 'my' 'natural' 'need' 'network' 'networks'\n",
      " 'neural' 'neuroscience' 'nevertheless' 'new' 'nlp' 'nmt' 'no' 'non' 'not'\n",
      " 'notable' 'notably' 'notes' 'notion' 'now' 'nuances' 'number' 'observed'\n",
      " 'obviating' 'obvious' 'occurred' 'of' 'offers' 'official' 'often'\n",
      " 'omitted' 'on' 'one' 'only' 'ontologies' 'operationalizable'\n",
      " 'operationalization' 'or' 'organize' 'other' 'others' 'otherwise'\n",
      " 'output' 'over' 'pam' 'paradigm' 'parliament' 'parry' 'parses' 'parsing'\n",
      " 'part' 'particular' 'partly' 'patient' 'pcfg' 'period' 'person'\n",
      " 'perspective' 'phrase' 'phrasebook' 'physically' 'piece' 'pipeline'\n",
      " 'pipelines' 'plot' 'plural' 'politics' 'popular' 'popularity'\n",
      " 'portuguese' 'possible' 'possibly' 'postprocessing' 'potentially' 'power'\n",
      " 'practical' 'premise' 'preprocessing' 'presence' 'presented'\n",
      " 'probabilistic' 'problem' 'procedures' 'proceedings' 'process'\n",
      " 'processes' 'processing' 'produce' 'produced' 'produces' 'producing'\n",
      " 'program' 'programmers' 'progress' 'prone' 'properties' 'proposed'\n",
      " 'provide' 'provided' 'provides' 'psycholinguistics' 'psychology'\n",
      " 'psychotherapist' 'published' 'pursued' 'qualm' 'quantitative' 'question'\n",
      " 'questions' 'racter' 'rarely' 'rather' 'raw' 'real' 'recent' 'recently'\n",
      " 'recognition' 'records' 'reduced' 'reference' 'refers' 'relative'\n",
      " 'relevant' 'reliable' 'relied' 'rely' 'relying' 'remain' 'replaced'\n",
      " 'report' 'representation' 'representations' 'represents' 'require'\n",
      " 'required' 'requires' 'research' 'researched' 'resource' 'responding'\n",
      " 'response' 'restricted' 'result' 'results' 'revived' 'revolution'\n",
      " 'rhetorical' 'rising' 'robust' 'rogerian' 'room' 'roots' 'rule' 'rules'\n",
      " 'russian' 'sam' 'say' 'schank' 'science' 'scientific' 'searle' 'see'\n",
      " 'seeking' 'seen' 'semantic' 'semantics' 'semi' 'senses' 'sentence'\n",
      " 'sentences' 'separate' 'sequence' 'series' 'serve' 'set' 'sets' 'shared'\n",
      " 'she' 'shift' 'shifted' 'should' 'showing' 'shrdlu' 'significant'\n",
      " 'similar' 'simply' 'simulation' 'since' 'sixty' 'slovenian' 'slower'\n",
      " 'small' 'smt' 'so' 'soft' 'solved' 'solving' 'some' 'sometimes'\n",
      " 'somewhat' 'sort' 'spanish' 'speaking' 'specifically' 'speech' 'standing'\n",
      " 'starting' 'startlingly' 'state' 'statistical' 'steady' 'stemming'\n",
      " 'steps' 'still' 'strong' 'structure' 'structured' 'structures' 'studies'\n",
      " 'study' 'style' 'subdivided' 'subfield' 'substantial' 'subtasks'\n",
      " 'success' 'successes' 'successful' 'successfully' 'such' 'summarized'\n",
      " 'supervised' 'supplying' 'swedish' 'symbolic' 'syntactic' 'system'\n",
      " 'systems' 'tagging' 'take' 'talespin' 'task' 'tasks' 'technical'\n",
      " 'technically' 'techniques' 'technology' 'ten' 'term' 'terms' 'test'\n",
      " 'text' 'textual' 'than' 'that' 'the' 'them' 'themselves' 'then'\n",
      " 'theoretical' 'theories' 'theory' 'there' 'these' 'they' 'things' 'this'\n",
      " 'those' 'though' 'thought' 'three' 'through' 'thus' 'ties' 'time'\n",
      " 'titled' 'to' 'tokenization' 'tomorrow' 'topics' 'towards' 'training'\n",
      " 'trajectories' 'transformational' 'transformations' 'transforming'\n",
      " 'translation' 'transparency' 'tree' 'trees' 'trends' 'turing' 'turkish'\n",
      " 'turn' 'two' 'typical' 'typically' 'unannotated' 'under' 'underlies'\n",
      " 'underpinnings' 'understandable' 'understanding' 'unfamiliar' 'union'\n",
      " 'units' 'unmanageable' 'unsupervised' 'until' 'up' 'upon' 'uptake'\n",
      " 'usages' 'use' 'used' 'using' 'valued' 'various' 'very' 'viewed'\n",
      " 'vocabularies' 'was' 'weakly' 'web' 'weights' 'weizenbaum' 'well' 'were'\n",
      " 'what' 'when' 'where' 'whereas' 'which' 'while' 'whose' 'why' 'wide'\n",
      " 'widespread' 'wilensky' 'will' 'with' 'within' 'without' 'word' 'words'\n",
      " 'work' 'worked' 'working' 'world' 'worlds' 'would' 'write' 'writing'\n",
      " 'written' 'year' 'years' 'you' 'your']\n"
     ]
    }
   ],
   "source": [
    "print(vectorizer.get_feature_names_out())"
   ]
  },
  {
   "cell_type": "code",
   "execution_count": 25,
   "id": "fce4cb62",
   "metadata": {},
   "outputs": [
    {
     "name": "stdout",
     "output_type": "stream",
     "text": [
      "859\n"
     ]
    }
   ],
   "source": [
    "print(len(vectorizer.get_feature_names_out()))"
   ]
  },
  {
   "cell_type": "code",
   "execution_count": 26,
   "id": "113637de",
   "metadata": {},
   "outputs": [
    {
     "data": {
      "text/plain": [
       "array([0, 0, 0, 0, 0, 0, 0, 0, 0, 0, 0, 0, 0, 0, 0, 0, 0, 0, 0, 0, 0, 0,\n",
       "       0, 0, 0, 0, 0, 0, 0, 0, 0, 0, 0, 0, 0, 0, 0, 0, 0, 0, 0, 0, 0, 0,\n",
       "       0, 0, 0, 0, 0, 0, 0, 0, 0, 0, 0, 0, 0, 0, 0, 0, 0, 0, 0, 0, 0, 0,\n",
       "       0, 0, 0, 0, 0, 0, 0, 0, 0, 0, 0, 0, 0, 0, 0, 0, 0, 0, 0, 0, 0, 0,\n",
       "       0, 0, 0, 0, 0, 0, 0, 0, 0, 0, 0, 0, 0, 0, 0, 0, 0, 0, 0, 0, 0, 0,\n",
       "       0, 0, 0, 0, 0, 0, 0, 0, 0, 0, 0, 0, 0, 0, 0, 0, 0, 0, 0, 0, 0, 0,\n",
       "       0, 0, 0, 0, 0, 0, 0, 0, 0, 0, 0, 0, 0, 0, 0, 0, 0, 0, 0, 0, 0, 0,\n",
       "       0, 0, 0, 1, 0, 0, 0, 0, 0, 0, 0, 0, 0, 0, 0, 0, 0, 0, 0, 0, 0, 0,\n",
       "       0, 0, 0, 0, 0, 0, 0, 0, 0, 0, 0, 0, 0, 0, 1, 0, 0, 0, 0, 0, 0, 0,\n",
       "       0, 0, 0, 0, 0, 0, 0, 0, 1, 0, 0, 1, 0, 0, 0, 0, 0, 0, 0, 0, 0, 0,\n",
       "       0, 0, 0, 0, 0, 0, 0, 0, 0, 0, 0, 0, 0, 0, 0, 0, 0, 0, 0, 0, 0, 0,\n",
       "       0, 0, 0, 0, 0, 0, 0, 0, 0, 0, 1, 0, 0, 0, 0, 0, 0, 0, 0, 0, 0, 0,\n",
       "       0, 0, 0, 0, 0, 0, 0, 0, 0, 0, 0, 0, 0, 0, 0, 0, 0, 0, 0, 0, 0, 0,\n",
       "       0, 0, 0, 0, 0, 0, 0, 0, 0, 0, 0, 0, 0, 0, 0, 0, 0, 0, 0, 0, 0, 0,\n",
       "       0, 0, 0, 0, 0, 0, 0, 0, 0, 0, 0, 0, 0, 0, 0, 0, 0, 0, 0, 0, 0, 0,\n",
       "       0, 0, 0, 0, 0, 0, 0, 0, 1, 0, 0, 0, 0, 0, 0, 0, 0, 0, 0, 0, 0, 0,\n",
       "       0, 0, 0, 0, 0, 0, 0, 0, 0, 0, 0, 0, 0, 0, 0, 0, 0, 0, 0, 0, 0, 0,\n",
       "       0, 0, 0, 0, 0, 0, 0, 0, 0, 0, 0, 0, 0, 0, 1, 0, 0, 0, 0, 0, 0, 0,\n",
       "       0, 0, 0, 0, 0, 0, 0, 0, 0, 0, 0, 0, 0, 0, 0, 0, 0, 0, 0, 0, 0, 0,\n",
       "       0, 0, 1, 0, 0, 0, 0, 0, 0, 0, 0, 0, 1, 0, 0, 0, 0, 0, 0, 0, 0, 0,\n",
       "       0, 0, 0, 0, 0, 0, 0, 0, 0, 0, 0, 0, 0, 0, 0, 0, 0, 0, 0, 0, 0, 0,\n",
       "       0, 0, 0, 0, 0, 0, 0, 0, 0, 0, 0, 0, 0, 0, 0, 0, 0, 0, 0, 0, 0, 0,\n",
       "       0, 0, 0, 0, 0, 0, 0, 0, 0, 0, 0, 0, 0, 0, 0, 0, 0, 0, 0, 0, 0, 0,\n",
       "       0, 0, 0, 0, 0, 0, 0, 0, 0, 0, 0, 0, 0, 0, 0, 1, 0, 0, 0, 0, 0, 3,\n",
       "       0, 0, 0, 0, 0, 0, 0, 0, 0, 0, 0, 0, 0, 0, 0, 0, 0, 0, 0, 0, 0, 0,\n",
       "       0, 0, 0, 0, 0, 0, 0, 0, 0, 0, 0, 0, 0, 0, 0, 0, 0, 0, 0, 0, 0, 0,\n",
       "       0, 0, 0, 0, 0, 0, 0, 0, 0, 0, 0, 0, 0, 0, 0, 0, 0, 0, 0, 0, 0, 0,\n",
       "       0, 0, 0, 0, 0, 0, 0, 0, 0, 0, 0, 0, 0, 0, 0, 0, 0, 0, 0, 0, 0, 0,\n",
       "       0, 0, 0, 0, 0, 0, 0, 0, 0, 0, 0, 0, 0, 0, 0, 0, 0, 0, 0, 0, 0, 0,\n",
       "       0, 0, 0, 0, 0, 0, 0, 0, 0, 0, 0, 0, 0, 0, 0, 0, 0, 0, 0, 0, 0, 0,\n",
       "       0, 0, 0, 0, 0, 0, 0, 0, 0, 0, 0, 0, 0, 0, 0, 0, 0, 0, 0, 0, 0, 0,\n",
       "       0, 0, 0, 0, 0, 0, 0, 0, 0, 0, 0, 0, 0, 0, 0, 0, 0, 0, 0, 0, 0, 0,\n",
       "       0, 0, 0, 0, 0, 0, 0, 0, 0, 0, 0, 0, 0, 0, 0, 0, 0, 0, 0, 0, 0, 0,\n",
       "       0, 0, 0, 0, 0, 0, 0, 0, 0, 0, 0, 0, 0, 0, 0, 0, 0, 0, 0, 0, 0, 0,\n",
       "       0, 0, 0, 0, 0, 0, 0, 0, 4, 1, 0, 0, 0, 0, 0, 0, 0, 0, 0, 0, 0, 0,\n",
       "       0, 0, 0, 0, 0, 0, 0, 0, 0, 0, 0, 0, 0, 0, 0, 0, 0, 0, 0, 0, 0, 0,\n",
       "       0, 0, 0, 0, 0, 0, 0, 0, 0, 0, 0, 1, 0, 0, 0, 0, 0, 0, 0, 0, 0, 0,\n",
       "       0, 0, 0, 0, 0, 0, 0, 0, 0, 0, 0, 0, 0, 0, 0, 0, 0, 0, 0, 0, 0, 0,\n",
       "       0, 0, 0, 0, 0, 0, 1, 0, 0, 0, 0, 0, 0, 0, 0, 0, 0, 0, 0, 0, 0, 0,\n",
       "       0], dtype=int64)"
      ]
     },
     "execution_count": 26,
     "metadata": {},
     "output_type": "execute_result"
    }
   ],
   "source": [
    "X_sentences.toarray()[1]"
   ]
  },
  {
   "cell_type": "markdown",
   "id": "aa025ad7",
   "metadata": {},
   "source": [
    "### TF-IDF (Term Frequency - Inverse Document Frequency)"
   ]
  },
  {
   "cell_type": "markdown",
   "id": "8ff93e98",
   "metadata": {},
   "source": [
    "TF = Number of times T appears in the document / number of terms in the document "
   ]
  },
  {
   "cell_type": "markdown",
   "id": "30940c3f",
   "metadata": {},
   "source": [
    "IDF = 1 + log (total number of documents / number of documents term T appeared)"
   ]
  },
  {
   "cell_type": "code",
   "execution_count": 27,
   "id": "f53626ad",
   "metadata": {},
   "outputs": [
    {
     "data": {
      "text/plain": [
       "['This is a first document.',\n",
       " 'This document is the second document.',\n",
       " 'And this is the third one.',\n",
       " 'Is this the first document?']"
      ]
     },
     "execution_count": 27,
     "metadata": {},
     "output_type": "execute_result"
    }
   ],
   "source": [
    "sentences"
   ]
  },
  {
   "cell_type": "code",
   "execution_count": 28,
   "id": "3df6c209",
   "metadata": {},
   "outputs": [],
   "source": [
    "tfidf_vectorizer = TfidfVectorizer()"
   ]
  },
  {
   "cell_type": "code",
   "execution_count": 29,
   "id": "e249d314",
   "metadata": {},
   "outputs": [],
   "source": [
    "X = tfidf_vectorizer.fit_transform(sentences)"
   ]
  },
  {
   "cell_type": "code",
   "execution_count": 30,
   "id": "a7ae4aec",
   "metadata": {},
   "outputs": [
    {
     "name": "stdout",
     "output_type": "stream",
     "text": [
      "['and' 'document' 'first' 'is' 'one' 'second' 'the' 'third' 'this']\n"
     ]
    }
   ],
   "source": [
    "print(tfidf_vectorizer.get_feature_names_out())"
   ]
  },
  {
   "cell_type": "code",
   "execution_count": 31,
   "id": "d6654ab6",
   "metadata": {},
   "outputs": [
    {
     "data": {
      "text/plain": [
       "array([[0.  , 0.51, 0.63, 0.42, 0.  , 0.  , 0.  , 0.  , 0.42],\n",
       "       [0.  , 0.67, 0.  , 0.28, 0.  , 0.53, 0.34, 0.  , 0.28],\n",
       "       [0.5 , 0.  , 0.  , 0.26, 0.5 , 0.  , 0.32, 0.5 , 0.26],\n",
       "       [0.  , 0.45, 0.56, 0.37, 0.  , 0.  , 0.45, 0.  , 0.37]])"
      ]
     },
     "execution_count": 31,
     "metadata": {},
     "output_type": "execute_result"
    }
   ],
   "source": [
    "np.round(X.toarray(),2)"
   ]
  },
  {
   "cell_type": "code",
   "execution_count": 32,
   "id": "3043ef9a",
   "metadata": {},
   "outputs": [
    {
     "data": {
      "text/html": [
       "<div>\n",
       "<style scoped>\n",
       "    .dataframe tbody tr th:only-of-type {\n",
       "        vertical-align: middle;\n",
       "    }\n",
       "\n",
       "    .dataframe tbody tr th {\n",
       "        vertical-align: top;\n",
       "    }\n",
       "\n",
       "    .dataframe thead th {\n",
       "        text-align: right;\n",
       "    }\n",
       "</style>\n",
       "<table border=\"1\" class=\"dataframe\">\n",
       "  <thead>\n",
       "    <tr style=\"text-align: right;\">\n",
       "      <th></th>\n",
       "      <th>and</th>\n",
       "      <th>document</th>\n",
       "      <th>first</th>\n",
       "      <th>is</th>\n",
       "      <th>one</th>\n",
       "      <th>second</th>\n",
       "      <th>the</th>\n",
       "      <th>third</th>\n",
       "      <th>this</th>\n",
       "    </tr>\n",
       "  </thead>\n",
       "  <tbody>\n",
       "    <tr>\n",
       "      <th>This is a first document.</th>\n",
       "      <td>0.0</td>\n",
       "      <td>0.51</td>\n",
       "      <td>0.63</td>\n",
       "      <td>0.42</td>\n",
       "      <td>0.0</td>\n",
       "      <td>0.00</td>\n",
       "      <td>0.00</td>\n",
       "      <td>0.0</td>\n",
       "      <td>0.42</td>\n",
       "    </tr>\n",
       "    <tr>\n",
       "      <th>This document is the second document.</th>\n",
       "      <td>0.0</td>\n",
       "      <td>0.67</td>\n",
       "      <td>0.00</td>\n",
       "      <td>0.28</td>\n",
       "      <td>0.0</td>\n",
       "      <td>0.53</td>\n",
       "      <td>0.34</td>\n",
       "      <td>0.0</td>\n",
       "      <td>0.28</td>\n",
       "    </tr>\n",
       "    <tr>\n",
       "      <th>And this is the third one.</th>\n",
       "      <td>0.5</td>\n",
       "      <td>0.00</td>\n",
       "      <td>0.00</td>\n",
       "      <td>0.26</td>\n",
       "      <td>0.5</td>\n",
       "      <td>0.00</td>\n",
       "      <td>0.32</td>\n",
       "      <td>0.5</td>\n",
       "      <td>0.26</td>\n",
       "    </tr>\n",
       "    <tr>\n",
       "      <th>Is this the first document?</th>\n",
       "      <td>0.0</td>\n",
       "      <td>0.45</td>\n",
       "      <td>0.56</td>\n",
       "      <td>0.37</td>\n",
       "      <td>0.0</td>\n",
       "      <td>0.00</td>\n",
       "      <td>0.45</td>\n",
       "      <td>0.0</td>\n",
       "      <td>0.37</td>\n",
       "    </tr>\n",
       "  </tbody>\n",
       "</table>\n",
       "</div>"
      ],
      "text/plain": [
       "                                       and  document  first    is  one  \\\n",
       "This is a first document.              0.0      0.51   0.63  0.42  0.0   \n",
       "This document is the second document.  0.0      0.67   0.00  0.28  0.0   \n",
       "And this is the third one.             0.5      0.00   0.00  0.26  0.5   \n",
       "Is this the first document?            0.0      0.45   0.56  0.37  0.0   \n",
       "\n",
       "                                       second   the  third  this  \n",
       "This is a first document.                0.00  0.00    0.0  0.42  \n",
       "This document is the second document.    0.53  0.34    0.0  0.28  \n",
       "And this is the third one.               0.00  0.32    0.5  0.26  \n",
       "Is this the first document?              0.00  0.45    0.0  0.37  "
      ]
     },
     "execution_count": 32,
     "metadata": {},
     "output_type": "execute_result"
    }
   ],
   "source": [
    "pd.DataFrame(np.round(X.toarray(),2), columns=tfidf_vectorizer.get_feature_names_out(), index = sentences)"
   ]
  },
  {
   "cell_type": "code",
   "execution_count": 33,
   "id": "856094d7",
   "metadata": {},
   "outputs": [],
   "source": [
    "tfidf_vectorizer = TfidfVectorizer()\n",
    "X_sentences_tfidf = tfidf_vectorizer.fit_transform(original_sentence)"
   ]
  },
  {
   "cell_type": "code",
   "execution_count": 34,
   "id": "16df6dad",
   "metadata": {},
   "outputs": [
    {
     "name": "stdout",
     "output_type": "stream",
     "text": [
      "['10' '100' '11' '12' '13' '14' '15' '16' '17' '18' '19' '1950' '1950s'\n",
      " '1954' '1960s' '1964' '1966' '1970s' '1975' '1976' '1977' '1978' '1979'\n",
      " '1980s' '1981' '1990s' '1999' '2000s' '2002' '2003' '2006' '2007' '2009'\n",
      " '2010s' '2012' '2015' '2017' '2018' '2020' '40' '41' '42' '43' '44' '45'\n",
      " '46' '47' '48' '49' '50' '51' '60' 'abandoned' 'able' 'about' 'above'\n",
      " 'accidentally' 'accurate' 'accurately' 'achieve' 'acl' 'acquiring' 'act'\n",
      " 'action' 'additional' 'addressed' 'advanced' 'advantage' 'advantages'\n",
      " 'after' 'age' 'ai' 'aid' 'alan' 'algorithm' 'algorithms' 'alignment'\n",
      " 'alike' 'all' 'almost' 'along' 'alpac' 'already' 'also' 'although'\n",
      " 'ambiguous' 'among' 'amount' 'amounts' 'an' 'analysis' 'analyze'\n",
      " 'analyzed' 'and' 'annotated' 'annotation' 'annotations' 'another'\n",
      " 'answering' 'answers' 'apertium' 'apparent' 'applications' 'applied'\n",
      " 'apply' 'applying' 'approach' 'approaches' 'arabic' 'are' 'area' 'areas'\n",
      " 'art' 'article' 'articulated' 'artificial' 'as' 'aspects' 'assign' 'at'\n",
      " 'attaching' 'author' 'authors' 'automated' 'automatic' 'automatically'\n",
      " 'available' 'base' 'based' 'basque' 'be' 'became' 'become' 'been'\n",
      " 'before' 'began' 'behaviour' 'behind' 'being' 'below' 'between' 'beyond'\n",
      " 'big' 'blocks' 'both' 'branch' 'broadly' 'build' 'bulgarian' 'but' 'by'\n",
      " 'cache' 'called' 'calling' 'calls' 'can' 'canada' 'capable' 'capture'\n",
      " 'carbonell' 'care' 'cases' 'catalan' 'categories' 'categorize'\n",
      " 'centering' 'certainty' 'changes' 'chatterbots' 'chinese' 'chomskyan'\n",
      " 'claimed' 'classes' 'closely' 'coarse' 'coding' 'cognition' 'cognitive'\n",
      " 'collection' 'combination' 'combining' 'common' 'commonly' 'comparison'\n",
      " 'complex' 'complexity' 'component' 'comprehension' 'comprising'\n",
      " 'computational' 'computer' 'computers' 'computing' 'conceptual'\n",
      " 'concerned' 'conducted' 'conferences' 'confronts' 'conll' 'consider'\n",
      " 'construction' 'consuming' 'contained' 'containing' 'contains' 'content'\n",
      " 'contents' 'context' 'contexts' 'contextual' 'continue' 'continued'\n",
      " 'continues' 'convenience' 'corpora' 'corpus' 'corresponding' 'coupled'\n",
      " 'creating' 'criterion' 'cullingford' 'czech' 'danish' 'data' 'day' 'days'\n",
      " 'deal' 'decision' 'decisions' 'deep' 'defining' 'depended' 'dependency'\n",
      " 'designed' 'desired' 'despite' 'develop' 'developed' 'development'\n",
      " 'developmental' 'devising' 'dictionary' 'different' 'difficult' 'direct'\n",
      " 'directed' 'directions' 'directly' 'discouraged' 'distinct' 'division'\n",
      " 'do' 'documents' 'dominance' 'dramatically' 'drawback' 'due' 'during'\n",
      " 'dutch' 'each' 'earliest' 'early' 'effectively' 'effort' 'elaborate'\n",
      " 'electronic' 'elimination' 'eliza' 'embeddings' 'emotion' 'emphasizes'\n",
      " 'emulate' 'emulates' 'end' 'engineering' 'english' 'enormous' 'enough'\n",
      " 'entailed' 'entire' 'equation' 'erroneous' 'error' 'errors' 'especially'\n",
      " 'european' 'evaluation' 'eventually' 'example' 'examples' 'exceeded'\n",
      " 'existing' 'expectations' 'experience' 'experiment' 'explainability'\n",
      " 'explained' 'explicit' 'express' 'extract' 'extraction' 'extrapolate'\n",
      " 'extremely' 'fact' 'failed' 'feature' 'features' 'field' 'findings'\n",
      " 'first' 'five' 'flurry' 'focus' 'focused' 'following' 'for' 'form'\n",
      " 'found' 'frameworks' 'free' 'frequently' 'from' 'fulfill' 'fully'\n",
      " 'functional' 'funding' 'further' 'future' 'general' 'generally'\n",
      " 'generated' 'generation' 'generative' 'generic' 'george' 'georgetown'\n",
      " 'german' 'given' 'goal' 'gone' 'government' 'governmental' 'gracefully'\n",
      " 'gradual' 'grammar' 'grammars' 'great' 'greek' 'growth' 'had' 'hand'\n",
      " 'handling' 'handwritten' 'hard' 'has' 'have' 'head' 'health' 'healthcare'\n",
      " 'heavily' 'helps' 'heritage' 'heuristic' 'heyday' 'hidden' 'higher'\n",
      " 'historical' 'hours' 'how' 'however' 'hpsg' 'human' 'hungarian' 'hurts'\n",
      " 'ibm' 'idea' 'ideas' 'if' 'implemented' 'imply' 'importance' 'important'\n",
      " 'improve' 'in' 'inaccessible' 'include' 'included' 'includes' 'including'\n",
      " 'increase' 'increases' 'increasing' 'increasingly' 'inference' 'inferior'\n",
      " 'information' 'inherent' 'input' 'insights' 'instance' 'instead'\n",
      " 'insufficient' 'integrated' 'intelligence' 'intelligent' 'intent'\n",
      " 'interaction' 'interactions' 'interdisciplinary' 'interest'\n",
      " 'intermediate' 'interpretability' 'interpretation' 'intertwined' 'into'\n",
      " 'introduced' 'introduction' 'involve' 'involved' 'involves' 'is' 'it'\n",
      " 'italian' 'its' 'jabberwacky' 'japanese' 'john' 'joseph' 'knowledge'\n",
      " 'lakoff' 'language' 'languages' 'large' 'largely' 'larger' 'late' 'law'\n",
      " 'laws' 'learn' 'learning' 'led' 'lehnert' 'lesk' 'less' 'lessening'\n",
      " 'level' 'like' 'likewise' 'limit' 'limitation' 'limited' 'lines'\n",
      " 'linguistics' 'list' 'little' 'long' 'lookup' 'low' 'machine' 'machinery'\n",
      " 'made' 'mainstream' 'maintained' 'major' 'make' 'making' 'man' 'many'\n",
      " 'margie' 'mark' 'markov' 'matching' 'mathematical' 'may' 'meaning'\n",
      " 'means' 'measured' 'measures' 'medicine' 'meehan' 'mental' 'metaphor'\n",
      " 'metaphorically' 'methodology' 'methods' 'mid' 'might' 'mind'\n",
      " 'misspelled' 'model' 'modeling' 'models' 'moore' 'more' 'morphology'\n",
      " 'most' 'much' 'multilingual' 'multilinguality' 'multimodal'\n",
      " 'multimodality' 'multiple' 'my' 'natural' 'need' 'network' 'networks'\n",
      " 'neural' 'neuroscience' 'nevertheless' 'new' 'nlp' 'nmt' 'no' 'non' 'not'\n",
      " 'notable' 'notably' 'notes' 'notion' 'now' 'nuances' 'number' 'observed'\n",
      " 'obviating' 'obvious' 'occurred' 'of' 'offers' 'official' 'often'\n",
      " 'omitted' 'on' 'one' 'only' 'ontologies' 'operationalizable'\n",
      " 'operationalization' 'or' 'organize' 'other' 'others' 'otherwise'\n",
      " 'output' 'over' 'pam' 'paradigm' 'parliament' 'parry' 'parses' 'parsing'\n",
      " 'part' 'particular' 'partly' 'patient' 'pcfg' 'period' 'person'\n",
      " 'perspective' 'phrase' 'phrasebook' 'physically' 'piece' 'pipeline'\n",
      " 'pipelines' 'plot' 'plural' 'politics' 'popular' 'popularity'\n",
      " 'portuguese' 'possible' 'possibly' 'postprocessing' 'potentially' 'power'\n",
      " 'practical' 'premise' 'preprocessing' 'presence' 'presented'\n",
      " 'probabilistic' 'problem' 'procedures' 'proceedings' 'process'\n",
      " 'processes' 'processing' 'produce' 'produced' 'produces' 'producing'\n",
      " 'program' 'programmers' 'progress' 'prone' 'properties' 'proposed'\n",
      " 'provide' 'provided' 'provides' 'psycholinguistics' 'psychology'\n",
      " 'psychotherapist' 'published' 'pursued' 'qualm' 'quantitative' 'question'\n",
      " 'questions' 'racter' 'rarely' 'rather' 'raw' 'real' 'recent' 'recently'\n",
      " 'recognition' 'records' 'reduced' 'reference' 'refers' 'relative'\n",
      " 'relevant' 'reliable' 'relied' 'rely' 'relying' 'remain' 'replaced'\n",
      " 'report' 'representation' 'representations' 'represents' 'require'\n",
      " 'required' 'requires' 'research' 'researched' 'resource' 'responding'\n",
      " 'response' 'restricted' 'result' 'results' 'revived' 'revolution'\n",
      " 'rhetorical' 'rising' 'robust' 'rogerian' 'room' 'roots' 'rule' 'rules'\n",
      " 'russian' 'sam' 'say' 'schank' 'science' 'scientific' 'searle' 'see'\n",
      " 'seeking' 'seen' 'semantic' 'semantics' 'semi' 'senses' 'sentence'\n",
      " 'sentences' 'separate' 'sequence' 'series' 'serve' 'set' 'sets' 'shared'\n",
      " 'she' 'shift' 'shifted' 'should' 'showing' 'shrdlu' 'significant'\n",
      " 'similar' 'simply' 'simulation' 'since' 'sixty' 'slovenian' 'slower'\n",
      " 'small' 'smt' 'so' 'soft' 'solved' 'solving' 'some' 'sometimes'\n",
      " 'somewhat' 'sort' 'spanish' 'speaking' 'specifically' 'speech' 'standing'\n",
      " 'starting' 'startlingly' 'state' 'statistical' 'steady' 'stemming'\n",
      " 'steps' 'still' 'strong' 'structure' 'structured' 'structures' 'studies'\n",
      " 'study' 'style' 'subdivided' 'subfield' 'substantial' 'subtasks'\n",
      " 'success' 'successes' 'successful' 'successfully' 'such' 'summarized'\n",
      " 'supervised' 'supplying' 'swedish' 'symbolic' 'syntactic' 'system'\n",
      " 'systems' 'tagging' 'take' 'talespin' 'task' 'tasks' 'technical'\n",
      " 'technically' 'techniques' 'technology' 'ten' 'term' 'terms' 'test'\n",
      " 'text' 'textual' 'than' 'that' 'the' 'them' 'themselves' 'then'\n",
      " 'theoretical' 'theories' 'theory' 'there' 'these' 'they' 'things' 'this'\n",
      " 'those' 'though' 'thought' 'three' 'through' 'thus' 'ties' 'time'\n",
      " 'titled' 'to' 'tokenization' 'tomorrow' 'topics' 'towards' 'training'\n",
      " 'trajectories' 'transformational' 'transformations' 'transforming'\n",
      " 'translation' 'transparency' 'tree' 'trees' 'trends' 'turing' 'turkish'\n",
      " 'turn' 'two' 'typical' 'typically' 'unannotated' 'under' 'underlies'\n",
      " 'underpinnings' 'understandable' 'understanding' 'unfamiliar' 'union'\n",
      " 'units' 'unmanageable' 'unsupervised' 'until' 'up' 'upon' 'uptake'\n",
      " 'usages' 'use' 'used' 'using' 'valued' 'various' 'very' 'viewed'\n",
      " 'vocabularies' 'was' 'weakly' 'web' 'weights' 'weizenbaum' 'well' 'were'\n",
      " 'what' 'when' 'where' 'whereas' 'which' 'while' 'whose' 'why' 'wide'\n",
      " 'widespread' 'wilensky' 'will' 'with' 'within' 'without' 'word' 'words'\n",
      " 'work' 'worked' 'working' 'world' 'worlds' 'would' 'write' 'writing'\n",
      " 'written' 'year' 'years' 'you' 'your']\n"
     ]
    }
   ],
   "source": [
    "print(tfidf_vectorizer.get_feature_names_out())"
   ]
  },
  {
   "cell_type": "code",
   "execution_count": 35,
   "id": "54dee7e2",
   "metadata": {},
   "outputs": [
    {
     "data": {
      "text/plain": [
       "array([0.        , 0.        , 0.        , 0.        , 0.        ,\n",
       "       0.        , 0.        , 0.        , 0.        , 0.        ,\n",
       "       0.        , 0.        , 0.        , 0.        , 0.        ,\n",
       "       0.        , 0.        , 0.        , 0.        , 0.        ,\n",
       "       0.        , 0.        , 0.        , 0.        , 0.        ,\n",
       "       0.        , 0.        , 0.        , 0.        , 0.        ,\n",
       "       0.        , 0.        , 0.        , 0.        , 0.        ,\n",
       "       0.        , 0.        , 0.        , 0.        , 0.        ,\n",
       "       0.        , 0.        , 0.        , 0.        , 0.        ,\n",
       "       0.        , 0.        , 0.        , 0.        , 0.        ,\n",
       "       0.        , 0.        , 0.        , 0.        , 0.        ,\n",
       "       0.        , 0.        , 0.        , 0.        , 0.        ,\n",
       "       0.        , 0.        , 0.        , 0.        , 0.        ,\n",
       "       0.        , 0.        , 0.        , 0.        , 0.        ,\n",
       "       0.        , 0.        , 0.        , 0.        , 0.        ,\n",
       "       0.        , 0.        , 0.        , 0.        , 0.        ,\n",
       "       0.        , 0.        , 0.        , 0.        , 0.        ,\n",
       "       0.        , 0.        , 0.        , 0.        , 0.        ,\n",
       "       0.        , 0.        , 0.        , 0.        , 0.        ,\n",
       "       0.        , 0.        , 0.        , 0.        , 0.        ,\n",
       "       0.        , 0.        , 0.        , 0.        , 0.        ,\n",
       "       0.        , 0.        , 0.        , 0.        , 0.        ,\n",
       "       0.        , 0.        , 0.        , 0.        , 0.        ,\n",
       "       0.        , 0.        , 0.        , 0.        , 0.        ,\n",
       "       0.        , 0.        , 0.        , 0.        , 0.        ,\n",
       "       0.        , 0.        , 0.        , 0.        , 0.        ,\n",
       "       0.        , 0.        , 0.        , 0.        , 0.        ,\n",
       "       0.        , 0.        , 0.        , 0.        , 0.        ,\n",
       "       0.        , 0.        , 0.        , 0.        , 0.        ,\n",
       "       0.        , 0.        , 0.        , 0.        , 0.        ,\n",
       "       0.        , 0.        , 0.        , 0.        , 0.        ,\n",
       "       0.        , 0.        , 0.28945611, 0.        , 0.        ,\n",
       "       0.        , 0.        , 0.        , 0.        , 0.        ,\n",
       "       0.        , 0.        , 0.        , 0.        , 0.        ,\n",
       "       0.        , 0.        , 0.        , 0.        , 0.        ,\n",
       "       0.        , 0.        , 0.        , 0.        , 0.        ,\n",
       "       0.        , 0.        , 0.        , 0.        , 0.        ,\n",
       "       0.        , 0.        , 0.        , 0.        , 0.        ,\n",
       "       0.22314378, 0.        , 0.        , 0.        , 0.        ,\n",
       "       0.        , 0.        , 0.        , 0.        , 0.        ,\n",
       "       0.        , 0.        , 0.        , 0.        , 0.        ,\n",
       "       0.        , 0.28945611, 0.        , 0.        , 0.28945611,\n",
       "       0.        , 0.        , 0.        , 0.        , 0.        ,\n",
       "       0.        , 0.        , 0.        , 0.        , 0.        ,\n",
       "       0.        , 0.        , 0.        , 0.        , 0.        ,\n",
       "       0.        , 0.        , 0.        , 0.        , 0.        ,\n",
       "       0.        , 0.        , 0.        , 0.        , 0.        ,\n",
       "       0.        , 0.        , 0.        , 0.        , 0.        ,\n",
       "       0.        , 0.        , 0.        , 0.        , 0.        ,\n",
       "       0.        , 0.        , 0.        , 0.        , 0.        ,\n",
       "       0.        , 0.        , 0.24761769, 0.        , 0.        ,\n",
       "       0.        , 0.        , 0.        , 0.        , 0.        ,\n",
       "       0.        , 0.        , 0.        , 0.        , 0.        ,\n",
       "       0.        , 0.        , 0.        , 0.        , 0.        ,\n",
       "       0.        , 0.        , 0.        , 0.        , 0.        ,\n",
       "       0.        , 0.        , 0.        , 0.        , 0.        ,\n",
       "       0.        , 0.        , 0.        , 0.        , 0.        ,\n",
       "       0.        , 0.        , 0.        , 0.        , 0.        ,\n",
       "       0.        , 0.        , 0.        , 0.        , 0.        ,\n",
       "       0.        , 0.        , 0.        , 0.        , 0.        ,\n",
       "       0.        , 0.        , 0.        , 0.        , 0.        ,\n",
       "       0.        , 0.        , 0.        , 0.        , 0.        ,\n",
       "       0.        , 0.        , 0.        , 0.        , 0.        ,\n",
       "       0.        , 0.        , 0.        , 0.        , 0.        ,\n",
       "       0.        , 0.        , 0.        , 0.        , 0.        ,\n",
       "       0.        , 0.        , 0.        , 0.        , 0.        ,\n",
       "       0.        , 0.        , 0.        , 0.        , 0.        ,\n",
       "       0.        , 0.        , 0.        , 0.28945611, 0.        ,\n",
       "       0.        , 0.        , 0.        , 0.        , 0.        ,\n",
       "       0.        , 0.        , 0.        , 0.        , 0.        ,\n",
       "       0.        , 0.        , 0.        , 0.        , 0.        ,\n",
       "       0.        , 0.        , 0.        , 0.        , 0.        ,\n",
       "       0.        , 0.        , 0.        , 0.        , 0.        ,\n",
       "       0.        , 0.        , 0.        , 0.        , 0.        ,\n",
       "       0.        , 0.        , 0.        , 0.        , 0.        ,\n",
       "       0.        , 0.        , 0.        , 0.        , 0.        ,\n",
       "       0.        , 0.        , 0.        , 0.        , 0.        ,\n",
       "       0.        , 0.        , 0.        , 0.2649822 , 0.        ,\n",
       "       0.        , 0.        , 0.        , 0.        , 0.        ,\n",
       "       0.        , 0.        , 0.        , 0.        , 0.        ,\n",
       "       0.        , 0.        , 0.        , 0.        , 0.        ,\n",
       "       0.        , 0.        , 0.        , 0.        , 0.        ,\n",
       "       0.        , 0.        , 0.        , 0.        , 0.        ,\n",
       "       0.        , 0.        , 0.        , 0.        , 0.        ,\n",
       "       0.13235755, 0.        , 0.        , 0.        , 0.        ,\n",
       "       0.        , 0.        , 0.        , 0.        , 0.        ,\n",
       "       0.13700293, 0.        , 0.        , 0.        , 0.        ,\n",
       "       0.        , 0.        , 0.        , 0.        , 0.        ,\n",
       "       0.        , 0.        , 0.        , 0.        , 0.        ,\n",
       "       0.        , 0.        , 0.        , 0.        , 0.        ,\n",
       "       0.        , 0.        , 0.        , 0.        , 0.        ,\n",
       "       0.        , 0.        , 0.        , 0.        , 0.        ,\n",
       "       0.        , 0.        , 0.        , 0.        , 0.        ,\n",
       "       0.        , 0.        , 0.        , 0.        , 0.        ,\n",
       "       0.        , 0.        , 0.        , 0.        , 0.        ,\n",
       "       0.        , 0.        , 0.        , 0.        , 0.        ,\n",
       "       0.        , 0.        , 0.        , 0.        , 0.        ,\n",
       "       0.        , 0.        , 0.        , 0.        , 0.        ,\n",
       "       0.        , 0.        , 0.        , 0.        , 0.        ,\n",
       "       0.        , 0.        , 0.        , 0.        , 0.        ,\n",
       "       0.        , 0.        , 0.        , 0.        , 0.        ,\n",
       "       0.        , 0.        , 0.        , 0.        , 0.        ,\n",
       "       0.        , 0.        , 0.        , 0.        , 0.        ,\n",
       "       0.        , 0.        , 0.        , 0.        , 0.        ,\n",
       "       0.        , 0.28945611, 0.        , 0.        , 0.        ,\n",
       "       0.        , 0.        , 0.26497194, 0.        , 0.        ,\n",
       "       0.        , 0.        , 0.        , 0.        , 0.        ,\n",
       "       0.        , 0.        , 0.        , 0.        , 0.        ,\n",
       "       0.        , 0.        , 0.        , 0.        , 0.        ,\n",
       "       0.        , 0.        , 0.        , 0.        , 0.        ,\n",
       "       0.        , 0.        , 0.        , 0.        , 0.        ,\n",
       "       0.        , 0.        , 0.        , 0.        , 0.        ,\n",
       "       0.        , 0.        , 0.        , 0.        , 0.        ,\n",
       "       0.        , 0.        , 0.        , 0.        , 0.        ,\n",
       "       0.        , 0.        , 0.        , 0.        , 0.        ,\n",
       "       0.        , 0.        , 0.        , 0.        , 0.        ,\n",
       "       0.        , 0.        , 0.        , 0.        , 0.        ,\n",
       "       0.        , 0.        , 0.        , 0.        , 0.        ,\n",
       "       0.        , 0.        , 0.        , 0.        , 0.        ,\n",
       "       0.        , 0.        , 0.        , 0.        , 0.        ,\n",
       "       0.        , 0.        , 0.        , 0.        , 0.        ,\n",
       "       0.        , 0.        , 0.        , 0.        , 0.        ,\n",
       "       0.        , 0.        , 0.        , 0.        , 0.        ,\n",
       "       0.        , 0.        , 0.        , 0.        , 0.        ,\n",
       "       0.        , 0.        , 0.        , 0.        , 0.        ,\n",
       "       0.        , 0.        , 0.        , 0.        , 0.        ,\n",
       "       0.        , 0.        , 0.        , 0.        , 0.        ,\n",
       "       0.        , 0.        , 0.        , 0.        , 0.        ,\n",
       "       0.        , 0.        , 0.        , 0.        , 0.        ,\n",
       "       0.        , 0.        , 0.        , 0.        , 0.        ,\n",
       "       0.        , 0.        , 0.        , 0.        , 0.        ,\n",
       "       0.        , 0.        , 0.        , 0.        , 0.        ,\n",
       "       0.        , 0.        , 0.        , 0.        , 0.        ,\n",
       "       0.        , 0.        , 0.        , 0.        , 0.        ,\n",
       "       0.        , 0.        , 0.        , 0.        , 0.        ,\n",
       "       0.        , 0.        , 0.        , 0.        , 0.        ,\n",
       "       0.        , 0.        , 0.        , 0.        , 0.        ,\n",
       "       0.        , 0.        , 0.        , 0.        , 0.        ,\n",
       "       0.        , 0.        , 0.        , 0.        , 0.        ,\n",
       "       0.        , 0.        , 0.        , 0.        , 0.        ,\n",
       "       0.        , 0.        , 0.        , 0.        , 0.        ,\n",
       "       0.        , 0.        , 0.        , 0.        , 0.        ,\n",
       "       0.        , 0.        , 0.        , 0.        , 0.        ,\n",
       "       0.        , 0.        , 0.        , 0.        , 0.        ,\n",
       "       0.        , 0.        , 0.        , 0.        , 0.        ,\n",
       "       0.        , 0.        , 0.        , 0.        , 0.        ,\n",
       "       0.        , 0.        , 0.        , 0.        , 0.        ,\n",
       "       0.        , 0.        , 0.        , 0.        , 0.        ,\n",
       "       0.        , 0.        , 0.        , 0.        , 0.        ,\n",
       "       0.        , 0.        , 0.        , 0.        , 0.        ,\n",
       "       0.        , 0.        , 0.        , 0.        , 0.        ,\n",
       "       0.        , 0.31362654, 0.28945611, 0.        , 0.        ,\n",
       "       0.        , 0.        , 0.        , 0.        , 0.        ,\n",
       "       0.        , 0.        , 0.        , 0.        , 0.        ,\n",
       "       0.        , 0.        , 0.        , 0.        , 0.        ,\n",
       "       0.        , 0.        , 0.        , 0.        , 0.        ,\n",
       "       0.        , 0.        , 0.        , 0.        , 0.        ,\n",
       "       0.        , 0.        , 0.        , 0.        , 0.        ,\n",
       "       0.        , 0.        , 0.        , 0.        , 0.        ,\n",
       "       0.        , 0.        , 0.        , 0.        , 0.        ,\n",
       "       0.        , 0.        , 0.        , 0.22314378, 0.        ,\n",
       "       0.        , 0.        , 0.        , 0.        , 0.        ,\n",
       "       0.        , 0.        , 0.        , 0.        , 0.        ,\n",
       "       0.        , 0.        , 0.        , 0.        , 0.        ,\n",
       "       0.        , 0.        , 0.        , 0.        , 0.        ,\n",
       "       0.        , 0.        , 0.        , 0.        , 0.        ,\n",
       "       0.        , 0.        , 0.        , 0.        , 0.        ,\n",
       "       0.        , 0.        , 0.        , 0.        , 0.        ,\n",
       "       0.        , 0.        , 0.24761769, 0.        , 0.        ,\n",
       "       0.        , 0.        , 0.        , 0.        , 0.        ,\n",
       "       0.        , 0.        , 0.        , 0.        , 0.        ,\n",
       "       0.        , 0.        , 0.        , 0.        ])"
      ]
     },
     "execution_count": 35,
     "metadata": {},
     "output_type": "execute_result"
    }
   ],
   "source": [
    "X_sentences_tfidf.toarray()[1]"
   ]
  },
  {
   "cell_type": "markdown",
   "id": "2f97cae9",
   "metadata": {},
   "source": [
    "### Cosine Similarity"
   ]
  },
  {
   "cell_type": "code",
   "execution_count": 36,
   "id": "b4209486",
   "metadata": {},
   "outputs": [
    {
     "data": {
      "text/plain": [
       "(88, 859)"
      ]
     },
     "execution_count": 36,
     "metadata": {},
     "output_type": "execute_result"
    }
   ],
   "source": [
    "X_sentences.shape"
   ]
  },
  {
   "cell_type": "code",
   "execution_count": 37,
   "id": "31629132",
   "metadata": {},
   "outputs": [
    {
     "data": {
      "text/plain": [
       "(88, 859)"
      ]
     },
     "execution_count": 37,
     "metadata": {},
     "output_type": "execute_result"
    }
   ],
   "source": [
    "X_sentences_tfidf.shape"
   ]
  },
  {
   "cell_type": "code",
   "execution_count": 38,
   "id": "6d980a62",
   "metadata": {},
   "outputs": [],
   "source": [
    "X_test_similarity = X_sentences_tfidf[0:3].toarray()"
   ]
  },
  {
   "cell_type": "code",
   "execution_count": 39,
   "id": "c372c7c3",
   "metadata": {},
   "outputs": [],
   "source": [
    "X_test_similarity = np.concatenate((X_test_similarity, X_test_similarity[0].reshape(1,-1)), axis = 0)"
   ]
  },
  {
   "cell_type": "code",
   "execution_count": 40,
   "id": "1b9fff5f",
   "metadata": {},
   "outputs": [
    {
     "data": {
      "text/plain": [
       "array([[0., 0., 0., ..., 0., 0., 0.],\n",
       "       [0., 0., 0., ..., 0., 0., 0.],\n",
       "       [0., 0., 0., ..., 0., 0., 0.],\n",
       "       [0., 0., 0., ..., 0., 0., 0.]])"
      ]
     },
     "execution_count": 40,
     "metadata": {},
     "output_type": "execute_result"
    }
   ],
   "source": [
    "X_test_similarity"
   ]
  },
  {
   "cell_type": "code",
   "execution_count": 41,
   "id": "8b7307e7",
   "metadata": {},
   "outputs": [
    {
     "data": {
      "text/plain": [
       "(4, 859)"
      ]
     },
     "execution_count": 41,
     "metadata": {},
     "output_type": "execute_result"
    }
   ],
   "source": [
    "X_test_similarity.shape"
   ]
  },
  {
   "cell_type": "code",
   "execution_count": 42,
   "id": "1514d969",
   "metadata": {},
   "outputs": [
    {
     "data": {
      "text/plain": [
       "array([[0.13238531]])"
      ]
     },
     "execution_count": 42,
     "metadata": {},
     "output_type": "execute_result"
    }
   ],
   "source": [
    "cosine_similarity(X = X_test_similarity[0].reshape(1,-1), Y = X_test_similarity[1].reshape(1,-1) )"
   ]
  },
  {
   "cell_type": "code",
   "execution_count": 43,
   "id": "d07efb3a",
   "metadata": {},
   "outputs": [
    {
     "data": {
      "text/plain": [
       "array([[0.05924402]])"
      ]
     },
     "execution_count": 43,
     "metadata": {},
     "output_type": "execute_result"
    }
   ],
   "source": [
    "cosine_similarity(X = X_test_similarity[0].reshape(1,-1), Y = X_test_similarity[2].reshape(1,-1) )"
   ]
  },
  {
   "cell_type": "code",
   "execution_count": 44,
   "id": "bf0ed90a",
   "metadata": {},
   "outputs": [
    {
     "data": {
      "text/plain": [
       "array([[1.]])"
      ]
     },
     "execution_count": 44,
     "metadata": {},
     "output_type": "execute_result"
    }
   ],
   "source": [
    "cosine_similarity(X = X_test_similarity[0].reshape(1,-1), Y = X_test_similarity[3].reshape(1,-1) )"
   ]
  },
  {
   "cell_type": "code",
   "execution_count": 45,
   "id": "c2354a85",
   "metadata": {},
   "outputs": [
    {
     "data": {
      "text/plain": [
       "array([[1.        , 0.13238531, 0.05924402, 1.        ]])"
      ]
     },
     "execution_count": 45,
     "metadata": {},
     "output_type": "execute_result"
    }
   ],
   "source": [
    "cosine_similarity(X = X_test_similarity[0].reshape(1,-1), Y = X_test_similarity)"
   ]
  },
  {
   "cell_type": "markdown",
   "id": "02900b0f",
   "metadata": {},
   "source": [
    "### Simulation of a simple chatbot"
   ]
  },
  {
   "cell_type": "code",
   "execution_count": 46,
   "id": "e36e9df2",
   "metadata": {},
   "outputs": [],
   "source": [
    "welcome_input = ['hi', 'hello', 'hey', 'hii']\n",
    "welcome_output = ['Hi, How may I help you?', 'Hello there!', 'How are you doing today? :)', 'Welcome to the Chatbot!', 'Please tell us what do you need help with?']"
   ]
  },
  {
   "cell_type": "code",
   "execution_count": 47,
   "id": "aef68987",
   "metadata": {},
   "outputs": [],
   "source": [
    "def welcome_message(message):\n",
    "    words = message.lower().split()\n",
    "    \n",
    "    for word in words:\n",
    "        if word in welcome_input:\n",
    "            return random.choice(welcome_output)\n",
    "    "
   ]
  },
  {
   "cell_type": "code",
   "execution_count": 48,
   "id": "bf0ffd54",
   "metadata": {},
   "outputs": [
    {
     "data": {
      "text/plain": [
       "'Please tell us what do you need help with?'"
      ]
     },
     "execution_count": 48,
     "metadata": {},
     "output_type": "execute_result"
    }
   ],
   "source": [
    "welcome_message('hii')"
   ]
  },
  {
   "cell_type": "code",
   "execution_count": 50,
   "id": "39530fea",
   "metadata": {},
   "outputs": [],
   "source": [
    "def preprocess(sentence):\n",
    "    \n",
    "    sentence = sentence.lower()\n",
    "    sentence = sentence.replace('.', '')\n",
    "    sentence = sentence.replace('[', '')\n",
    "    sentence = sentence.replace(']', '')\n",
    "    \n",
    "    tokens = [token.text for token in nlp(sentence) if not (token.is_stop or token.like_num or token.is_punct or token.is_space)]\n",
    "    \n",
    "    tokens = ' '.join(tokens)\n",
    "    return tokens"
   ]
  },
  {
   "cell_type": "code",
   "execution_count": 68,
   "id": "52338d1a",
   "metadata": {},
   "outputs": [],
   "source": [
    "def answers(user_text, threshold = 0.3):\n",
    "    cleaned_sentences = []\n",
    "    for sentence in original_sentence:\n",
    "        cleaned_sentences.append(preprocess(sentence))\n",
    "    #print(cleaned_sentences)\n",
    "    \n",
    "    chatbot_answer = ''\n",
    "    user_text = preprocess(user_text)\n",
    "    #print(user_text)\n",
    "    cleaned_sentences.append(user_text)\n",
    "    \n",
    "    tfidf_vectorizer = TfidfVectorizer()\n",
    "    X_sentences = tfidf_vectorizer.fit_transform(cleaned_sentences)\n",
    "    \n",
    "    similarity = cosine_similarity(X_sentences[-1], X_sentences)\n",
    "    sentence_index = similarity.argsort()[0][-2]\n",
    "    #print(sentence_index)\n",
    "    \n",
    "    if similarity[0][sentence_index] < threshold:\n",
    "        chatbot_answer += 'Sorry, no answer found for the mentioned threshold!'\n",
    "    else:\n",
    "        chatbot_answer += original_sentence[sentence_index]\n",
    "    \n",
    "    return chatbot_answer"
   ]
  },
  {
   "cell_type": "code",
   "execution_count": 69,
   "id": "05cbd40f",
   "metadata": {},
   "outputs": [
    {
     "data": {
      "text/plain": [
       "'Natural language processing has its roots in the 1950s.'"
      ]
     },
     "execution_count": 69,
     "metadata": {},
     "output_type": "execute_result"
    }
   ],
   "source": [
    "answers('what is Natural Language processing')"
   ]
  },
  {
   "cell_type": "code",
   "execution_count": 70,
   "id": "56ca195a",
   "metadata": {},
   "outputs": [
    {
     "data": {
      "text/plain": [
       "'Already in 1950, Alan Turing published an article titled \"Computing Machinery and Intelligence\" which proposed what is now called the Turing test as a criterion of intelligence, though at the time that was not articulated as a problem separate from artificial intelligence.'"
      ]
     },
     "execution_count": 70,
     "metadata": {},
     "output_type": "execute_result"
    }
   ],
   "source": [
    "answers('who is alan turing')"
   ]
  },
  {
   "cell_type": "code",
   "execution_count": 74,
   "id": "0b603ae7",
   "metadata": {},
   "outputs": [
    {
     "name": "stdout",
     "output_type": "stream",
     "text": [
      "Hello, I am Chatbot! Ask me anything related to Natural Language Processing (NLP)\n",
      "Hello\n",
      "Chatbot: Welcome to the Chatbot!\n",
      "NLP\n",
      "Chatbot: \n",
      "[50] Likewise, ideas of cognitive NLP are inherent to neural models multimodal NLP (although rarely made explicit).\n",
      "Alan Turing\n",
      "Chatbot: \n",
      "Already in 1950, Alan Turing published an article titled \"Computing Machinery and Intelligence\" which proposed what is now called the Turing test as a criterion of intelligence, though at the time that was not articulated as a problem separate from artificial intelligence.\n",
      "Quit\n",
      "Chatbot: Bye! Come again! :)\n"
     ]
    }
   ],
   "source": [
    "cont = True\n",
    "print(\"Hello, I am Chatbot! Ask me anything related to Natural Language Processing (NLP)\")\n",
    "\n",
    "while cont == True:\n",
    "    user_text = input().lower()\n",
    "    if user_text != 'quit':\n",
    "        if welcome_message(user_text) != None:\n",
    "            print('Chatbot: '+ welcome_message(user_text))\n",
    "        else:\n",
    "            print('Chatbot: ')\n",
    "            print(answers(user_text))\n",
    "    else:\n",
    "        cont = False\n",
    "        print('Chatbot: Bye! Come again! :)')"
   ]
  },
  {
   "cell_type": "code",
   "execution_count": null,
   "id": "213b4a16",
   "metadata": {},
   "outputs": [],
   "source": []
  },
  {
   "cell_type": "code",
   "execution_count": null,
   "id": "90ab738e",
   "metadata": {},
   "outputs": [],
   "source": []
  }
 ],
 "metadata": {
  "kernelspec": {
   "display_name": "Python 3 (ipykernel)",
   "language": "python",
   "name": "python3"
  },
  "language_info": {
   "codemirror_mode": {
    "name": "ipython",
    "version": 3
   },
   "file_extension": ".py",
   "mimetype": "text/x-python",
   "name": "python",
   "nbconvert_exporter": "python",
   "pygments_lexer": "ipython3",
   "version": "3.9.15"
  }
 },
 "nbformat": 4,
 "nbformat_minor": 5
}
