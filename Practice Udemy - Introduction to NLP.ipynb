{
 "cells": [
  {
   "cell_type": "markdown",
   "id": "c46ddd98",
   "metadata": {},
   "source": [
    "Credits/Course URL - https://www.udemy.com/course/the-ultimate-beginners-guide-to-natural-language-processing/"
   ]
  },
  {
   "cell_type": "code",
   "execution_count": 1,
   "id": "adb8bb19",
   "metadata": {},
   "outputs": [],
   "source": [
    "import nltk\n",
    "import spacy\n",
    "import en_core_web_sm"
   ]
  },
  {
   "cell_type": "code",
   "execution_count": 2,
   "id": "fc1a3b2e",
   "metadata": {},
   "outputs": [],
   "source": [
    "nlp = spacy.load('en_core_web_sm')"
   ]
  },
  {
   "cell_type": "code",
   "execution_count": 3,
   "id": "b1bc3109",
   "metadata": {},
   "outputs": [
    {
     "data": {
      "text/plain": [
       "<spacy.lang.en.English at 0x2160d67cc70>"
      ]
     },
     "execution_count": 3,
     "metadata": {},
     "output_type": "execute_result"
    }
   ],
   "source": [
    "nlp"
   ]
  },
  {
   "cell_type": "markdown",
   "id": "585f5cda",
   "metadata": {},
   "source": [
    "### Tokenization"
   ]
  },
  {
   "cell_type": "code",
   "execution_count": 103,
   "id": "a7f6af29",
   "metadata": {},
   "outputs": [],
   "source": [
    "document = nlp('I am learning natural language processing. This course is in India')"
   ]
  },
  {
   "cell_type": "code",
   "execution_count": 107,
   "id": "cca7e410",
   "metadata": {},
   "outputs": [
    {
     "name": "stdout",
     "output_type": "stream",
     "text": [
      "['I', 'am', 'learning', 'natural', 'language', 'processing.', 'This', 'course', 'is', 'in', 'India']\n"
     ]
    }
   ],
   "source": [
    "print(str(document).split())"
   ]
  },
  {
   "cell_type": "code",
   "execution_count": 104,
   "id": "3f40120a",
   "metadata": {},
   "outputs": [
    {
     "name": "stdout",
     "output_type": "stream",
     "text": [
      "I\n",
      "am\n",
      "learning\n",
      "natural\n",
      "language\n",
      "processing\n",
      ".\n",
      "This\n",
      "course\n",
      "is\n",
      "in\n",
      "India\n"
     ]
    }
   ],
   "source": [
    "for token in document:\n",
    "    print(token)"
   ]
  },
  {
   "cell_type": "code",
   "execution_count": 5,
   "id": "2d29e047",
   "metadata": {},
   "outputs": [
    {
     "name": "stdout",
     "output_type": "stream",
     "text": [
      "I PRON I PRP nsubj X True True\n",
      "am AUX be VBP aux xx True True\n",
      "learning VERB learn VBG ROOT xxxx True False\n",
      "natural ADJ natural JJ amod xxxx True False\n",
      "language NOUN language NN compound xxxx True False\n",
      "processing NOUN processing NN dobj xxxx True False\n",
      ". PUNCT . . punct . False False\n",
      "This DET this DT det Xxxx True True\n",
      "course NOUN course NN nsubj xxxx True False\n",
      "is AUX be VBZ ROOT xx True True\n",
      "in ADP in IN prep xx True True\n",
      "India PROPN India NNP pobj Xxxxx True False\n"
     ]
    }
   ],
   "source": [
    "for token in document:\n",
    "    print(token, token.pos_, token.lemma_, token.tag_, token.dep_, token.shape_, token.is_alpha, token.is_stop)"
   ]
  },
  {
   "cell_type": "code",
   "execution_count": 6,
   "id": "dff07017",
   "metadata": {},
   "outputs": [
    {
     "name": "stdout",
     "output_type": "stream",
     "text": [
      "learning\n"
     ]
    }
   ],
   "source": [
    "for token in document:\n",
    "    if token.pos_ == 'VERB':\n",
    "        print(token.text)"
   ]
  },
  {
   "cell_type": "markdown",
   "id": "00613572",
   "metadata": {},
   "source": [
    "Lemmitization"
   ]
  },
  {
   "cell_type": "code",
   "execution_count": 7,
   "id": "b37bbc50",
   "metadata": {},
   "outputs": [
    {
     "name": "stdout",
     "output_type": "stream",
     "text": [
      "I I\n",
      "am be\n",
      "learning learn\n",
      "natural natural\n",
      "language language\n",
      "processing processing\n",
      ". .\n",
      "This this\n",
      "course course\n",
      "is be\n",
      "in in\n",
      "India India\n"
     ]
    }
   ],
   "source": [
    "for token in document:\n",
    "    print(token.text, token.lemma_)"
   ]
  },
  {
   "cell_type": "code",
   "execution_count": 8,
   "id": "7d4d7481",
   "metadata": {},
   "outputs": [
    {
     "data": {
      "text/plain": [
       "['learn', 'learn', 'watch', 'watch', 'watch', 'go', 'go', 'go']"
      ]
     },
     "execution_count": 8,
     "metadata": {},
     "output_type": "execute_result"
    }
   ],
   "source": [
    "doc = nlp('learn learning watch watching watched go went gone ')\n",
    "[token.lemma_ for token in doc]"
   ]
  },
  {
   "cell_type": "markdown",
   "id": "259b4966",
   "metadata": {},
   "source": [
    "Stemming"
   ]
  },
  {
   "cell_type": "code",
   "execution_count": 9,
   "id": "80f71ad3",
   "metadata": {},
   "outputs": [],
   "source": [
    "stemmer = nltk.stem.PorterStemmer()"
   ]
  },
  {
   "cell_type": "code",
   "execution_count": 10,
   "id": "bd4ab986",
   "metadata": {},
   "outputs": [
    {
     "name": "stdout",
     "output_type": "stream",
     "text": [
      "learn: learn\n",
      "learning: learn\n",
      "watch: watch\n",
      "watching: watch\n",
      "watched: watch\n",
      "go: go\n",
      "went: went\n",
      "gone: gone\n"
     ]
    }
   ],
   "source": [
    "for token in doc:\n",
    "    print(f'{token.text}: {stemmer.stem(token.text)}')"
   ]
  },
  {
   "cell_type": "markdown",
   "id": "2d9e52aa",
   "metadata": {},
   "source": [
    "Named Entity Recognition"
   ]
  },
  {
   "cell_type": "code",
   "execution_count": 16,
   "id": "ba6a9f04",
   "metadata": {},
   "outputs": [],
   "source": [
    "text = \"Cognizant Techology Solutions is an American multinational information technology services and consulting company. It is headquartered in Teaneck, New Jersey, United States. It is part of the NASDAQ-100 and trades under CTSH and expects fourth-quarter 2022 revenues to be $4.8 billion\""
   ]
  },
  {
   "cell_type": "code",
   "execution_count": 17,
   "id": "9e095b3a",
   "metadata": {},
   "outputs": [],
   "source": [
    "doc = nlp(text)"
   ]
  },
  {
   "cell_type": "code",
   "execution_count": 18,
   "id": "05165220",
   "metadata": {},
   "outputs": [
    {
     "name": "stdout",
     "output_type": "stream",
     "text": [
      "Cognizant Techology Solutions ORG\n",
      "American NORP\n",
      "Teaneck GPE\n",
      "New Jersey GPE\n",
      "United States GPE\n",
      "CTSH PRODUCT\n",
      "fourth-quarter 2022 DATE\n",
      "$4.8 billion MONEY\n"
     ]
    }
   ],
   "source": [
    "for entity in doc.ents:\n",
    "    print(entity.text, entity.label_)"
   ]
  },
  {
   "cell_type": "code",
   "execution_count": 19,
   "id": "46f96a02",
   "metadata": {},
   "outputs": [
    {
     "data": {
      "text/html": [
       "<span class=\"tex2jax_ignore\"><div class=\"entities\" style=\"line-height: 2.5; direction: ltr\">\n",
       "<mark class=\"entity\" style=\"background: #7aecec; padding: 0.45em 0.6em; margin: 0 0.25em; line-height: 1; border-radius: 0.35em;\">\n",
       "    Cognizant Techology Solutions\n",
       "    <span style=\"font-size: 0.8em; font-weight: bold; line-height: 1; border-radius: 0.35em; vertical-align: middle; margin-left: 0.5rem\">ORG</span>\n",
       "</mark>\n",
       " is an \n",
       "<mark class=\"entity\" style=\"background: #c887fb; padding: 0.45em 0.6em; margin: 0 0.25em; line-height: 1; border-radius: 0.35em;\">\n",
       "    American\n",
       "    <span style=\"font-size: 0.8em; font-weight: bold; line-height: 1; border-radius: 0.35em; vertical-align: middle; margin-left: 0.5rem\">NORP</span>\n",
       "</mark>\n",
       " multinational information technology services and consulting company. It is headquartered in \n",
       "<mark class=\"entity\" style=\"background: #feca74; padding: 0.45em 0.6em; margin: 0 0.25em; line-height: 1; border-radius: 0.35em;\">\n",
       "    Teaneck\n",
       "    <span style=\"font-size: 0.8em; font-weight: bold; line-height: 1; border-radius: 0.35em; vertical-align: middle; margin-left: 0.5rem\">GPE</span>\n",
       "</mark>\n",
       ", \n",
       "<mark class=\"entity\" style=\"background: #feca74; padding: 0.45em 0.6em; margin: 0 0.25em; line-height: 1; border-radius: 0.35em;\">\n",
       "    New Jersey\n",
       "    <span style=\"font-size: 0.8em; font-weight: bold; line-height: 1; border-radius: 0.35em; vertical-align: middle; margin-left: 0.5rem\">GPE</span>\n",
       "</mark>\n",
       ", \n",
       "<mark class=\"entity\" style=\"background: #feca74; padding: 0.45em 0.6em; margin: 0 0.25em; line-height: 1; border-radius: 0.35em;\">\n",
       "    United States\n",
       "    <span style=\"font-size: 0.8em; font-weight: bold; line-height: 1; border-radius: 0.35em; vertical-align: middle; margin-left: 0.5rem\">GPE</span>\n",
       "</mark>\n",
       ". It is part of the NASDAQ-100 and trades under \n",
       "<mark class=\"entity\" style=\"background: #bfeeb7; padding: 0.45em 0.6em; margin: 0 0.25em; line-height: 1; border-radius: 0.35em;\">\n",
       "    CTSH\n",
       "    <span style=\"font-size: 0.8em; font-weight: bold; line-height: 1; border-radius: 0.35em; vertical-align: middle; margin-left: 0.5rem\">PRODUCT</span>\n",
       "</mark>\n",
       " and expects \n",
       "<mark class=\"entity\" style=\"background: #bfe1d9; padding: 0.45em 0.6em; margin: 0 0.25em; line-height: 1; border-radius: 0.35em;\">\n",
       "    fourth-quarter 2022\n",
       "    <span style=\"font-size: 0.8em; font-weight: bold; line-height: 1; border-radius: 0.35em; vertical-align: middle; margin-left: 0.5rem\">DATE</span>\n",
       "</mark>\n",
       " revenues to be \n",
       "<mark class=\"entity\" style=\"background: #e4e7d2; padding: 0.45em 0.6em; margin: 0 0.25em; line-height: 1; border-radius: 0.35em;\">\n",
       "    $4.8 billion\n",
       "    <span style=\"font-size: 0.8em; font-weight: bold; line-height: 1; border-radius: 0.35em; vertical-align: middle; margin-left: 0.5rem\">MONEY</span>\n",
       "</mark>\n",
       "</div></span>"
      ],
      "text/plain": [
       "<IPython.core.display.HTML object>"
      ]
     },
     "metadata": {},
     "output_type": "display_data"
    }
   ],
   "source": [
    "spacy.displacy.render(doc, style = 'ent', jupyter=True)"
   ]
  },
  {
   "cell_type": "code",
   "execution_count": 20,
   "id": "0cfd3031",
   "metadata": {},
   "outputs": [
    {
     "data": {
      "text/html": [
       "<span class=\"tex2jax_ignore\"><div class=\"entities\" style=\"line-height: 2.5; direction: ltr\">\n",
       "<mark class=\"entity\" style=\"background: #aa9cfc; padding: 0.45em 0.6em; margin: 0 0.25em; line-height: 1; border-radius: 0.35em;\">\n",
       "    Bill Gates\n",
       "    <span style=\"font-size: 0.8em; font-weight: bold; line-height: 1; border-radius: 0.35em; vertical-align: middle; margin-left: 0.5rem\">PERSON</span>\n",
       "</mark>\n",
       " was born in \n",
       "<mark class=\"entity\" style=\"background: #feca74; padding: 0.45em 0.6em; margin: 0 0.25em; line-height: 1; border-radius: 0.35em;\">\n",
       "    Seattle\n",
       "    <span style=\"font-size: 0.8em; font-weight: bold; line-height: 1; border-radius: 0.35em; vertical-align: middle; margin-left: 0.5rem\">GPE</span>\n",
       "</mark>\n",
       " on \n",
       "<mark class=\"entity\" style=\"background: #bfe1d9; padding: 0.45em 0.6em; margin: 0 0.25em; line-height: 1; border-radius: 0.35em;\">\n",
       "    1995-10-28\n",
       "    <span style=\"font-size: 0.8em; font-weight: bold; line-height: 1; border-radius: 0.35em; vertical-align: middle; margin-left: 0.5rem\">DATE</span>\n",
       "</mark>\n",
       " and is the founder of \n",
       "<mark class=\"entity\" style=\"background: #7aecec; padding: 0.45em 0.6em; margin: 0 0.25em; line-height: 1; border-radius: 0.35em;\">\n",
       "    Microsoft\n",
       "    <span style=\"font-size: 0.8em; font-weight: bold; line-height: 1; border-radius: 0.35em; vertical-align: middle; margin-left: 0.5rem\">ORG</span>\n",
       "</mark>\n",
       "</div></span>"
      ],
      "text/plain": [
       "<IPython.core.display.HTML object>"
      ]
     },
     "metadata": {},
     "output_type": "display_data"
    }
   ],
   "source": [
    "doc = nlp(\"Bill Gates was born in Seattle on 1995-10-28 and is the founder of Microsoft\")\n",
    "spacy.displacy.render(doc, style = 'ent', jupyter=True)"
   ]
  },
  {
   "cell_type": "code",
   "execution_count": 21,
   "id": "2560bd35",
   "metadata": {},
   "outputs": [
    {
     "name": "stdout",
     "output_type": "stream",
     "text": [
      "Bill Gates PERSON\n"
     ]
    }
   ],
   "source": [
    "for entity in doc.ents:\n",
    "    if entity.label_ == 'PERSON':\n",
    "        print(entity.text, entity.label_)"
   ]
  },
  {
   "cell_type": "markdown",
   "id": "08324508",
   "metadata": {},
   "source": [
    "Stopwords"
   ]
  },
  {
   "cell_type": "code",
   "execution_count": 24,
   "id": "e29cf11c",
   "metadata": {},
   "outputs": [
    {
     "name": "stdout",
     "output_type": "stream",
     "text": [
      "{'become', 'under', 'against', 'everywhere', 'elsewhere', 'somewhere', 'since', \"'m\", 'no', 'eight', 'on', '‘ve', 'before', 'really', 'per', 'upon', '’m', 'but', 'us', 'enough', 'who', '’ll', 'do', 'two', 'within', '‘s', 'whereby', 'therefore', '’ve', 'if', 'towards', 'least', 'moreover', 'amount', 'becomes', 'it', 'through', 'among', 'themselves', 'something', 'been', 'put', 'did', 'off', 'much', 'therein', 'another', 'why', 'became', 'nowhere', 'alone', 're', 'will', 'even', 'seem', 'same', 'regarding', 'as', 'quite', 'those', 'to', 'should', 'i', 'am', 'about', 'can', 'done', 'keep', 'whereupon', 'than', 'nevertheless', 'further', 'was', 'although', '’d', 'bottom', 'during', 'otherwise', 'from', 'him', 'very', 'itself', 'behind', 'our', 'whatever', 'fifty', 'once', 'with', 'amongst', 'in', \"'ll\", 'them', 'beforehand', 'anything', 'few', 'wherever', 'neither', 'third', 'front', '‘ll', 'while', 'without', 'move', 'always', 'throughout', 'ca', 'being', \"'d\", 'seeming', 'thence', 'only', 'any', 'ours', \"n't\", 'above', 'between', 'all', '‘d', 'latterly', 'n‘t', 'that', 'others', 'besides', 'over', 'back', 'sometimes', 'your', 'she', 'side', 'each', 'might', 'well', 'across', 'made', 'anyway', 'next', 'up', 'namely', 'beyond', 'first', 'former', 'full', 'please', 'everyone', 'whether', 'this', 'onto', 'call', 'give', 'we', '’re', 'thru', 'unless', 'anyone', 'after', 'such', 'part', 'everything', 'various', 'were', 'six', 'when', 'though', 'nine', '’s', 'rather', 'is', 'hers', 'then', 'anywhere', 'sixty', 'whither', 'whenever', 'a', 'nor', 'not', 'and', 'less', 'herself', 'herein', 'say', 'my', 'whereafter', 'does', 'four', 'n’t', 'other', 'his', 'myself', 'whom', 'somehow', 'never', 'thus', 'what', 'yet', 'are', 'indeed', 'fifteen', 'below', 'ever', 'he', 'name', 'an', 'becoming', 'or', 'doing', 'mostly', 'for', 'get', 'used', 'eleven', 'whole', 'hundred', 'into', 'so', 'may', 'would', 'either', 'hereafter', 'these', '‘m', 'at', 'mine', 'their', 'because', 'one', 'wherein', 'whereas', 'again', 'noone', 'three', 'now', '‘re', 'had', 'nothing', 'yourselves', 'see', 'make', 'formerly', 'thereby', 'yourself', 'already', 'toward', 'must', 'still', 'together', 'has', 'seems', 'of', 'show', 'out', 'go', 'how', 'where', 'someone', 'sometime', 'you', 'hence', 'me', 'serious', 'some', 'except', 'twenty', 'her', \"'s\", 'last', 'whose', 'yours', 'nobody', 'have', 'whence', 'just', 'meanwhile', 'there', 'several', 'take', 'too', 'empty', 'however', 'ten', 'by', 'whoever', 'down', 'seemed', 'else', 'almost', 'five', 'beside', 'using', 'thereafter', 'cannot', 'ourselves', 'around', 'often', 'both', 'more', 'the', \"'ve\", 'also', 'forty', 'most', 'none', 'top', 'hereupon', 'anyhow', 'many', 'its', 'afterwards', 'himself', 'latter', 'via', 'hereby', 'perhaps', 'they', 'could', 'due', \"'re\", 'every', 'here', 'until', 'along', 'which', 'twelve', 'own', 'thereupon', 'be'}\n"
     ]
    }
   ],
   "source": [
    "en_stopwords = spacy.lang.en.stop_words.STOP_WORDS\n",
    "print(en_stopwords)"
   ]
  },
  {
   "cell_type": "code",
   "execution_count": 25,
   "id": "b21072ae",
   "metadata": {},
   "outputs": [
    {
     "data": {
      "text/plain": [
       "True"
      ]
     },
     "execution_count": 25,
     "metadata": {},
     "output_type": "execute_result"
    }
   ],
   "source": [
    "'it' in en_stopwords"
   ]
  },
  {
   "cell_type": "code",
   "execution_count": 26,
   "id": "3fee0042",
   "metadata": {},
   "outputs": [
    {
     "data": {
      "text/plain": [
       "326"
      ]
     },
     "execution_count": 26,
     "metadata": {},
     "output_type": "execute_result"
    }
   ],
   "source": [
    "len(en_stopwords)"
   ]
  },
  {
   "cell_type": "code",
   "execution_count": 27,
   "id": "a3da214e",
   "metadata": {},
   "outputs": [
    {
     "data": {
      "text/plain": [
       "True"
      ]
     },
     "execution_count": 27,
     "metadata": {},
     "output_type": "execute_result"
    }
   ],
   "source": [
    "nlp.vocab['it'].is_stop"
   ]
  },
  {
   "cell_type": "code",
   "execution_count": 32,
   "id": "73dadcba",
   "metadata": {},
   "outputs": [
    {
     "name": "stdout",
     "output_type": "stream",
     "text": [
      "I\n",
      "am\n",
      "This\n",
      "is\n",
      "in\n"
     ]
    }
   ],
   "source": [
    "for token in document:\n",
    "    if nlp.vocab[token.text].is_stop:\n",
    "        print(token.text)"
   ]
  },
  {
   "cell_type": "code",
   "execution_count": 33,
   "id": "fda5d782",
   "metadata": {},
   "outputs": [
    {
     "name": "stdout",
     "output_type": "stream",
     "text": [
      "learning\n",
      "natural\n",
      "language\n",
      "processing\n",
      ".\n",
      "course\n",
      "India\n"
     ]
    }
   ],
   "source": [
    "for token in document:\n",
    "    if not nlp.vocab[token.text].is_stop:\n",
    "        print(token.text)"
   ]
  },
  {
   "cell_type": "markdown",
   "id": "e565d890",
   "metadata": {},
   "source": [
    "Dependency Parsing"
   ]
  },
  {
   "cell_type": "code",
   "execution_count": 34,
   "id": "345e9806",
   "metadata": {},
   "outputs": [],
   "source": [
    "text = 'book a ticket from India to Germany'\n",
    "document = nlp(text)"
   ]
  },
  {
   "cell_type": "code",
   "execution_count": 35,
   "id": "6631c44c",
   "metadata": {},
   "outputs": [],
   "source": [
    "origin = document[4]\n",
    "destiny = document[6]"
   ]
  },
  {
   "cell_type": "code",
   "execution_count": 38,
   "id": "8edde3d7",
   "metadata": {},
   "outputs": [
    {
     "data": {
      "text/plain": [
       "[from, ticket, book]"
      ]
     },
     "execution_count": 38,
     "metadata": {},
     "output_type": "execute_result"
    }
   ],
   "source": [
    "list(origin.ancestors)"
   ]
  },
  {
   "cell_type": "code",
   "execution_count": 40,
   "id": "2cbf76f9",
   "metadata": {},
   "outputs": [
    {
     "data": {
      "text/plain": [
       "[to, ticket, book]"
      ]
     },
     "execution_count": 40,
     "metadata": {},
     "output_type": "execute_result"
    }
   ],
   "source": [
    "list(destiny.ancestors)"
   ]
  },
  {
   "cell_type": "code",
   "execution_count": 41,
   "id": "9b790740",
   "metadata": {},
   "outputs": [
    {
     "data": {
      "text/plain": [
       "True"
      ]
     },
     "execution_count": 41,
     "metadata": {},
     "output_type": "execute_result"
    }
   ],
   "source": [
    "document[0].is_ancestor(document[2])"
   ]
  },
  {
   "cell_type": "code",
   "execution_count": 42,
   "id": "d04c2cb6",
   "metadata": {},
   "outputs": [],
   "source": [
    "document = nlp('book a table for the resturant and a taxi to the hotel')"
   ]
  },
  {
   "cell_type": "code",
   "execution_count": 44,
   "id": "19d45a8b",
   "metadata": {},
   "outputs": [
    {
     "name": "stdout",
     "output_type": "stream",
     "text": [
      "(table, taxi) (resturant, hotel)\n"
     ]
    }
   ],
   "source": [
    "tasks = document[2], document[8]\n",
    "locations = document[5], document[11]\n",
    "print(tasks, locations)"
   ]
  },
  {
   "cell_type": "code",
   "execution_count": 47,
   "id": "ca0bd242",
   "metadata": {},
   "outputs": [
    {
     "name": "stdout",
     "output_type": "stream",
     "text": [
      "*******  resturant  *******\n",
      "Reservation of table to resturant\n",
      "*******  hotel  *******\n",
      "Reservation of taxi to hotel\n"
     ]
    }
   ],
   "source": [
    "for places in locations:\n",
    "    print(\"******* \", places, \" *******\")\n",
    "    for obj in places.ancestors:\n",
    "        if obj in tasks:\n",
    "            print(f'Reservation of {obj} to {places}')\n",
    "            break\n",
    "        \n",
    "    "
   ]
  },
  {
   "cell_type": "code",
   "execution_count": 49,
   "id": "b84c78f1",
   "metadata": {},
   "outputs": [
    {
     "data": {
      "text/plain": [
       "[the, and, taxi]"
      ]
     },
     "execution_count": 49,
     "metadata": {},
     "output_type": "execute_result"
    }
   ],
   "source": [
    "list(document[5].children)"
   ]
  },
  {
   "cell_type": "code",
   "execution_count": 53,
   "id": "cb67fb49",
   "metadata": {},
   "outputs": [
    {
     "data": {
      "text/html": [
       "<span class=\"tex2jax_ignore\"><svg xmlns=\"http://www.w3.org/2000/svg\" xmlns:xlink=\"http://www.w3.org/1999/xlink\" xml:lang=\"en\" id=\"d305dcb88b8744f8b2c28811403aad33-0\" class=\"displacy\" width=\"890\" height=\"207.0\" direction=\"ltr\" style=\"max-width: none; height: 207.0px; color: #000000; background: #ffffff; font-family: Arial; direction: ltr\">\n",
       "<text class=\"displacy-token\" fill=\"currentColor\" text-anchor=\"middle\" y=\"117.0\">\n",
       "    <tspan class=\"displacy-word\" fill=\"currentColor\" x=\"50\">book</tspan>\n",
       "    <tspan class=\"displacy-tag\" dy=\"2em\" fill=\"currentColor\" x=\"50\">NOUN</tspan>\n",
       "</text>\n",
       "\n",
       "<text class=\"displacy-token\" fill=\"currentColor\" text-anchor=\"middle\" y=\"117.0\">\n",
       "    <tspan class=\"displacy-word\" fill=\"currentColor\" x=\"120\">a</tspan>\n",
       "    <tspan class=\"displacy-tag\" dy=\"2em\" fill=\"currentColor\" x=\"120\">DET</tspan>\n",
       "</text>\n",
       "\n",
       "<text class=\"displacy-token\" fill=\"currentColor\" text-anchor=\"middle\" y=\"117.0\">\n",
       "    <tspan class=\"displacy-word\" fill=\"currentColor\" x=\"190\">table</tspan>\n",
       "    <tspan class=\"displacy-tag\" dy=\"2em\" fill=\"currentColor\" x=\"190\">NOUN</tspan>\n",
       "</text>\n",
       "\n",
       "<text class=\"displacy-token\" fill=\"currentColor\" text-anchor=\"middle\" y=\"117.0\">\n",
       "    <tspan class=\"displacy-word\" fill=\"currentColor\" x=\"260\">for</tspan>\n",
       "    <tspan class=\"displacy-tag\" dy=\"2em\" fill=\"currentColor\" x=\"260\">ADP</tspan>\n",
       "</text>\n",
       "\n",
       "<text class=\"displacy-token\" fill=\"currentColor\" text-anchor=\"middle\" y=\"117.0\">\n",
       "    <tspan class=\"displacy-word\" fill=\"currentColor\" x=\"330\">the</tspan>\n",
       "    <tspan class=\"displacy-tag\" dy=\"2em\" fill=\"currentColor\" x=\"330\">DET</tspan>\n",
       "</text>\n",
       "\n",
       "<text class=\"displacy-token\" fill=\"currentColor\" text-anchor=\"middle\" y=\"117.0\">\n",
       "    <tspan class=\"displacy-word\" fill=\"currentColor\" x=\"400\">resturant</tspan>\n",
       "    <tspan class=\"displacy-tag\" dy=\"2em\" fill=\"currentColor\" x=\"400\">NOUN</tspan>\n",
       "</text>\n",
       "\n",
       "<text class=\"displacy-token\" fill=\"currentColor\" text-anchor=\"middle\" y=\"117.0\">\n",
       "    <tspan class=\"displacy-word\" fill=\"currentColor\" x=\"470\">and</tspan>\n",
       "    <tspan class=\"displacy-tag\" dy=\"2em\" fill=\"currentColor\" x=\"470\">CCONJ</tspan>\n",
       "</text>\n",
       "\n",
       "<text class=\"displacy-token\" fill=\"currentColor\" text-anchor=\"middle\" y=\"117.0\">\n",
       "    <tspan class=\"displacy-word\" fill=\"currentColor\" x=\"540\">a</tspan>\n",
       "    <tspan class=\"displacy-tag\" dy=\"2em\" fill=\"currentColor\" x=\"540\">DET</tspan>\n",
       "</text>\n",
       "\n",
       "<text class=\"displacy-token\" fill=\"currentColor\" text-anchor=\"middle\" y=\"117.0\">\n",
       "    <tspan class=\"displacy-word\" fill=\"currentColor\" x=\"610\">taxi</tspan>\n",
       "    <tspan class=\"displacy-tag\" dy=\"2em\" fill=\"currentColor\" x=\"610\">NOUN</tspan>\n",
       "</text>\n",
       "\n",
       "<text class=\"displacy-token\" fill=\"currentColor\" text-anchor=\"middle\" y=\"117.0\">\n",
       "    <tspan class=\"displacy-word\" fill=\"currentColor\" x=\"680\">to</tspan>\n",
       "    <tspan class=\"displacy-tag\" dy=\"2em\" fill=\"currentColor\" x=\"680\">ADP</tspan>\n",
       "</text>\n",
       "\n",
       "<text class=\"displacy-token\" fill=\"currentColor\" text-anchor=\"middle\" y=\"117.0\">\n",
       "    <tspan class=\"displacy-word\" fill=\"currentColor\" x=\"750\">the</tspan>\n",
       "    <tspan class=\"displacy-tag\" dy=\"2em\" fill=\"currentColor\" x=\"750\">DET</tspan>\n",
       "</text>\n",
       "\n",
       "<text class=\"displacy-token\" fill=\"currentColor\" text-anchor=\"middle\" y=\"117.0\">\n",
       "    <tspan class=\"displacy-word\" fill=\"currentColor\" x=\"820\">hotel</tspan>\n",
       "    <tspan class=\"displacy-tag\" dy=\"2em\" fill=\"currentColor\" x=\"820\">NOUN</tspan>\n",
       "</text>\n",
       "\n",
       "<g class=\"displacy-arrow\">\n",
       "    <path class=\"displacy-arc\" id=\"arrow-d305dcb88b8744f8b2c28811403aad33-0-0\" stroke-width=\"2px\" d=\"M140,72.0 C140,37.0 185.0,37.0 185.0,72.0\" fill=\"none\" stroke=\"currentColor\"/>\n",
       "    <text dy=\"1.25em\" style=\"font-size: 0.8em; letter-spacing: 1px\">\n",
       "        <textPath xlink:href=\"#arrow-d305dcb88b8744f8b2c28811403aad33-0-0\" class=\"displacy-label\" startOffset=\"50%\" side=\"left\" fill=\"currentColor\" text-anchor=\"middle\">det</textPath>\n",
       "    </text>\n",
       "    <path class=\"displacy-arrowhead\" d=\"M140,74.0 L132,62.0 148,62.0\" fill=\"currentColor\"/>\n",
       "</g>\n",
       "\n",
       "<g class=\"displacy-arrow\">\n",
       "    <path class=\"displacy-arc\" id=\"arrow-d305dcb88b8744f8b2c28811403aad33-0-1\" stroke-width=\"2px\" d=\"M70,72.0 C70,2.0 190.0,2.0 190.0,72.0\" fill=\"none\" stroke=\"currentColor\"/>\n",
       "    <text dy=\"1.25em\" style=\"font-size: 0.8em; letter-spacing: 1px\">\n",
       "        <textPath xlink:href=\"#arrow-d305dcb88b8744f8b2c28811403aad33-0-1\" class=\"displacy-label\" startOffset=\"50%\" side=\"left\" fill=\"currentColor\" text-anchor=\"middle\">appos</textPath>\n",
       "    </text>\n",
       "    <path class=\"displacy-arrowhead\" d=\"M190.0,74.0 L198.0,62.0 182.0,62.0\" fill=\"currentColor\"/>\n",
       "</g>\n",
       "\n",
       "<g class=\"displacy-arrow\">\n",
       "    <path class=\"displacy-arc\" id=\"arrow-d305dcb88b8744f8b2c28811403aad33-0-2\" stroke-width=\"2px\" d=\"M210,72.0 C210,37.0 255.0,37.0 255.0,72.0\" fill=\"none\" stroke=\"currentColor\"/>\n",
       "    <text dy=\"1.25em\" style=\"font-size: 0.8em; letter-spacing: 1px\">\n",
       "        <textPath xlink:href=\"#arrow-d305dcb88b8744f8b2c28811403aad33-0-2\" class=\"displacy-label\" startOffset=\"50%\" side=\"left\" fill=\"currentColor\" text-anchor=\"middle\">prep</textPath>\n",
       "    </text>\n",
       "    <path class=\"displacy-arrowhead\" d=\"M255.0,74.0 L263.0,62.0 247.0,62.0\" fill=\"currentColor\"/>\n",
       "</g>\n",
       "\n",
       "<g class=\"displacy-arrow\">\n",
       "    <path class=\"displacy-arc\" id=\"arrow-d305dcb88b8744f8b2c28811403aad33-0-3\" stroke-width=\"2px\" d=\"M350,72.0 C350,37.0 395.0,37.0 395.0,72.0\" fill=\"none\" stroke=\"currentColor\"/>\n",
       "    <text dy=\"1.25em\" style=\"font-size: 0.8em; letter-spacing: 1px\">\n",
       "        <textPath xlink:href=\"#arrow-d305dcb88b8744f8b2c28811403aad33-0-3\" class=\"displacy-label\" startOffset=\"50%\" side=\"left\" fill=\"currentColor\" text-anchor=\"middle\">det</textPath>\n",
       "    </text>\n",
       "    <path class=\"displacy-arrowhead\" d=\"M350,74.0 L342,62.0 358,62.0\" fill=\"currentColor\"/>\n",
       "</g>\n",
       "\n",
       "<g class=\"displacy-arrow\">\n",
       "    <path class=\"displacy-arc\" id=\"arrow-d305dcb88b8744f8b2c28811403aad33-0-4\" stroke-width=\"2px\" d=\"M280,72.0 C280,2.0 400.0,2.0 400.0,72.0\" fill=\"none\" stroke=\"currentColor\"/>\n",
       "    <text dy=\"1.25em\" style=\"font-size: 0.8em; letter-spacing: 1px\">\n",
       "        <textPath xlink:href=\"#arrow-d305dcb88b8744f8b2c28811403aad33-0-4\" class=\"displacy-label\" startOffset=\"50%\" side=\"left\" fill=\"currentColor\" text-anchor=\"middle\">pobj</textPath>\n",
       "    </text>\n",
       "    <path class=\"displacy-arrowhead\" d=\"M400.0,74.0 L408.0,62.0 392.0,62.0\" fill=\"currentColor\"/>\n",
       "</g>\n",
       "\n",
       "<g class=\"displacy-arrow\">\n",
       "    <path class=\"displacy-arc\" id=\"arrow-d305dcb88b8744f8b2c28811403aad33-0-5\" stroke-width=\"2px\" d=\"M420,72.0 C420,37.0 465.0,37.0 465.0,72.0\" fill=\"none\" stroke=\"currentColor\"/>\n",
       "    <text dy=\"1.25em\" style=\"font-size: 0.8em; letter-spacing: 1px\">\n",
       "        <textPath xlink:href=\"#arrow-d305dcb88b8744f8b2c28811403aad33-0-5\" class=\"displacy-label\" startOffset=\"50%\" side=\"left\" fill=\"currentColor\" text-anchor=\"middle\">cc</textPath>\n",
       "    </text>\n",
       "    <path class=\"displacy-arrowhead\" d=\"M465.0,74.0 L473.0,62.0 457.0,62.0\" fill=\"currentColor\"/>\n",
       "</g>\n",
       "\n",
       "<g class=\"displacy-arrow\">\n",
       "    <path class=\"displacy-arc\" id=\"arrow-d305dcb88b8744f8b2c28811403aad33-0-6\" stroke-width=\"2px\" d=\"M560,72.0 C560,37.0 605.0,37.0 605.0,72.0\" fill=\"none\" stroke=\"currentColor\"/>\n",
       "    <text dy=\"1.25em\" style=\"font-size: 0.8em; letter-spacing: 1px\">\n",
       "        <textPath xlink:href=\"#arrow-d305dcb88b8744f8b2c28811403aad33-0-6\" class=\"displacy-label\" startOffset=\"50%\" side=\"left\" fill=\"currentColor\" text-anchor=\"middle\">det</textPath>\n",
       "    </text>\n",
       "    <path class=\"displacy-arrowhead\" d=\"M560,74.0 L552,62.0 568,62.0\" fill=\"currentColor\"/>\n",
       "</g>\n",
       "\n",
       "<g class=\"displacy-arrow\">\n",
       "    <path class=\"displacy-arc\" id=\"arrow-d305dcb88b8744f8b2c28811403aad33-0-7\" stroke-width=\"2px\" d=\"M420,72.0 C420,2.0 610.0,2.0 610.0,72.0\" fill=\"none\" stroke=\"currentColor\"/>\n",
       "    <text dy=\"1.25em\" style=\"font-size: 0.8em; letter-spacing: 1px\">\n",
       "        <textPath xlink:href=\"#arrow-d305dcb88b8744f8b2c28811403aad33-0-7\" class=\"displacy-label\" startOffset=\"50%\" side=\"left\" fill=\"currentColor\" text-anchor=\"middle\">conj</textPath>\n",
       "    </text>\n",
       "    <path class=\"displacy-arrowhead\" d=\"M610.0,74.0 L618.0,62.0 602.0,62.0\" fill=\"currentColor\"/>\n",
       "</g>\n",
       "\n",
       "<g class=\"displacy-arrow\">\n",
       "    <path class=\"displacy-arc\" id=\"arrow-d305dcb88b8744f8b2c28811403aad33-0-8\" stroke-width=\"2px\" d=\"M630,72.0 C630,37.0 675.0,37.0 675.0,72.0\" fill=\"none\" stroke=\"currentColor\"/>\n",
       "    <text dy=\"1.25em\" style=\"font-size: 0.8em; letter-spacing: 1px\">\n",
       "        <textPath xlink:href=\"#arrow-d305dcb88b8744f8b2c28811403aad33-0-8\" class=\"displacy-label\" startOffset=\"50%\" side=\"left\" fill=\"currentColor\" text-anchor=\"middle\">prep</textPath>\n",
       "    </text>\n",
       "    <path class=\"displacy-arrowhead\" d=\"M675.0,74.0 L683.0,62.0 667.0,62.0\" fill=\"currentColor\"/>\n",
       "</g>\n",
       "\n",
       "<g class=\"displacy-arrow\">\n",
       "    <path class=\"displacy-arc\" id=\"arrow-d305dcb88b8744f8b2c28811403aad33-0-9\" stroke-width=\"2px\" d=\"M770,72.0 C770,37.0 815.0,37.0 815.0,72.0\" fill=\"none\" stroke=\"currentColor\"/>\n",
       "    <text dy=\"1.25em\" style=\"font-size: 0.8em; letter-spacing: 1px\">\n",
       "        <textPath xlink:href=\"#arrow-d305dcb88b8744f8b2c28811403aad33-0-9\" class=\"displacy-label\" startOffset=\"50%\" side=\"left\" fill=\"currentColor\" text-anchor=\"middle\">det</textPath>\n",
       "    </text>\n",
       "    <path class=\"displacy-arrowhead\" d=\"M770,74.0 L762,62.0 778,62.0\" fill=\"currentColor\"/>\n",
       "</g>\n",
       "\n",
       "<g class=\"displacy-arrow\">\n",
       "    <path class=\"displacy-arc\" id=\"arrow-d305dcb88b8744f8b2c28811403aad33-0-10\" stroke-width=\"2px\" d=\"M700,72.0 C700,2.0 820.0,2.0 820.0,72.0\" fill=\"none\" stroke=\"currentColor\"/>\n",
       "    <text dy=\"1.25em\" style=\"font-size: 0.8em; letter-spacing: 1px\">\n",
       "        <textPath xlink:href=\"#arrow-d305dcb88b8744f8b2c28811403aad33-0-10\" class=\"displacy-label\" startOffset=\"50%\" side=\"left\" fill=\"currentColor\" text-anchor=\"middle\">pobj</textPath>\n",
       "    </text>\n",
       "    <path class=\"displacy-arrowhead\" d=\"M820.0,74.0 L828.0,62.0 812.0,62.0\" fill=\"currentColor\"/>\n",
       "</g>\n",
       "</svg></span>"
      ],
      "text/plain": [
       "<IPython.core.display.HTML object>"
      ]
     },
     "metadata": {},
     "output_type": "display_data"
    }
   ],
   "source": [
    "spacy.displacy.render(document, style='dep', jupyter=True, options={'distance': 70})"
   ]
  },
  {
   "cell_type": "code",
   "execution_count": 54,
   "id": "f72b0d01",
   "metadata": {},
   "outputs": [],
   "source": [
    "document = nlp('What places can we visit in London and stay in Paris?')"
   ]
  },
  {
   "cell_type": "code",
   "execution_count": 59,
   "id": "6802fd3d",
   "metadata": {},
   "outputs": [
    {
     "name": "stdout",
     "output_type": "stream",
     "text": [
      "What DET\n",
      "places NOUN\n",
      "can AUX\n",
      "we PRON\n",
      "visit VERB\n",
      "in ADP\n",
      "London PROPN\n",
      "and CCONJ\n",
      "stay VERB\n",
      "in ADP\n",
      "Paris PROPN\n",
      "? PUNCT\n"
     ]
    }
   ],
   "source": [
    "for token in document:\n",
    "    print(token.text, token.pos_)"
   ]
  },
  {
   "cell_type": "code",
   "execution_count": 55,
   "id": "8d2f4ebb",
   "metadata": {},
   "outputs": [],
   "source": [
    "locations = list()\n",
    "actions = list()"
   ]
  },
  {
   "cell_type": "code",
   "execution_count": 62,
   "id": "8db06b96",
   "metadata": {},
   "outputs": [
    {
     "name": "stdout",
     "output_type": "stream",
     "text": [
      "Location: [London, Paris]\n",
      "Actions: [visit, stay]\n"
     ]
    }
   ],
   "source": [
    "locations = [token for token in document if token.pos_ == 'PROPN']\n",
    "actions = [token for token in document if token.pos_ == 'VERB']\n",
    "\n",
    "print(f\"Location: {locations}\\nActions: {actions}\")"
   ]
  },
  {
   "cell_type": "code",
   "execution_count": 70,
   "id": "c8d4edeb",
   "metadata": {},
   "outputs": [
    {
     "name": "stdout",
     "output_type": "stream",
     "text": [
      "London to visit\n",
      "Paris to stay\n"
     ]
    }
   ],
   "source": [
    "for places in locations:\n",
    "    for action in places.ancestors:\n",
    "        #print(places, \"->>\", action)\n",
    "        if action in actions:\n",
    "            print(f'{places} to {action}')\n",
    "            break"
   ]
  },
  {
   "cell_type": "code",
   "execution_count": 71,
   "id": "9ee92373",
   "metadata": {},
   "outputs": [
    {
     "data": {
      "text/html": [
       "<span class=\"tex2jax_ignore\"><svg xmlns=\"http://www.w3.org/2000/svg\" xmlns:xlink=\"http://www.w3.org/1999/xlink\" xml:lang=\"en\" id=\"dbdccc325f35453e8f1415c8871687b9-0\" class=\"displacy\" width=\"820\" height=\"242.0\" direction=\"ltr\" style=\"max-width: none; height: 242.0px; color: #000000; background: #ffffff; font-family: Arial; direction: ltr\">\n",
       "<text class=\"displacy-token\" fill=\"currentColor\" text-anchor=\"middle\" y=\"152.0\">\n",
       "    <tspan class=\"displacy-word\" fill=\"currentColor\" x=\"50\">What</tspan>\n",
       "    <tspan class=\"displacy-tag\" dy=\"2em\" fill=\"currentColor\" x=\"50\">DET</tspan>\n",
       "</text>\n",
       "\n",
       "<text class=\"displacy-token\" fill=\"currentColor\" text-anchor=\"middle\" y=\"152.0\">\n",
       "    <tspan class=\"displacy-word\" fill=\"currentColor\" x=\"120\">places</tspan>\n",
       "    <tspan class=\"displacy-tag\" dy=\"2em\" fill=\"currentColor\" x=\"120\">NOUN</tspan>\n",
       "</text>\n",
       "\n",
       "<text class=\"displacy-token\" fill=\"currentColor\" text-anchor=\"middle\" y=\"152.0\">\n",
       "    <tspan class=\"displacy-word\" fill=\"currentColor\" x=\"190\">can</tspan>\n",
       "    <tspan class=\"displacy-tag\" dy=\"2em\" fill=\"currentColor\" x=\"190\">AUX</tspan>\n",
       "</text>\n",
       "\n",
       "<text class=\"displacy-token\" fill=\"currentColor\" text-anchor=\"middle\" y=\"152.0\">\n",
       "    <tspan class=\"displacy-word\" fill=\"currentColor\" x=\"260\">we</tspan>\n",
       "    <tspan class=\"displacy-tag\" dy=\"2em\" fill=\"currentColor\" x=\"260\">PRON</tspan>\n",
       "</text>\n",
       "\n",
       "<text class=\"displacy-token\" fill=\"currentColor\" text-anchor=\"middle\" y=\"152.0\">\n",
       "    <tspan class=\"displacy-word\" fill=\"currentColor\" x=\"330\">visit</tspan>\n",
       "    <tspan class=\"displacy-tag\" dy=\"2em\" fill=\"currentColor\" x=\"330\">VERB</tspan>\n",
       "</text>\n",
       "\n",
       "<text class=\"displacy-token\" fill=\"currentColor\" text-anchor=\"middle\" y=\"152.0\">\n",
       "    <tspan class=\"displacy-word\" fill=\"currentColor\" x=\"400\">in</tspan>\n",
       "    <tspan class=\"displacy-tag\" dy=\"2em\" fill=\"currentColor\" x=\"400\">ADP</tspan>\n",
       "</text>\n",
       "\n",
       "<text class=\"displacy-token\" fill=\"currentColor\" text-anchor=\"middle\" y=\"152.0\">\n",
       "    <tspan class=\"displacy-word\" fill=\"currentColor\" x=\"470\">London</tspan>\n",
       "    <tspan class=\"displacy-tag\" dy=\"2em\" fill=\"currentColor\" x=\"470\">PROPN</tspan>\n",
       "</text>\n",
       "\n",
       "<text class=\"displacy-token\" fill=\"currentColor\" text-anchor=\"middle\" y=\"152.0\">\n",
       "    <tspan class=\"displacy-word\" fill=\"currentColor\" x=\"540\">and</tspan>\n",
       "    <tspan class=\"displacy-tag\" dy=\"2em\" fill=\"currentColor\" x=\"540\">CCONJ</tspan>\n",
       "</text>\n",
       "\n",
       "<text class=\"displacy-token\" fill=\"currentColor\" text-anchor=\"middle\" y=\"152.0\">\n",
       "    <tspan class=\"displacy-word\" fill=\"currentColor\" x=\"610\">stay</tspan>\n",
       "    <tspan class=\"displacy-tag\" dy=\"2em\" fill=\"currentColor\" x=\"610\">VERB</tspan>\n",
       "</text>\n",
       "\n",
       "<text class=\"displacy-token\" fill=\"currentColor\" text-anchor=\"middle\" y=\"152.0\">\n",
       "    <tspan class=\"displacy-word\" fill=\"currentColor\" x=\"680\">in</tspan>\n",
       "    <tspan class=\"displacy-tag\" dy=\"2em\" fill=\"currentColor\" x=\"680\">ADP</tspan>\n",
       "</text>\n",
       "\n",
       "<text class=\"displacy-token\" fill=\"currentColor\" text-anchor=\"middle\" y=\"152.0\">\n",
       "    <tspan class=\"displacy-word\" fill=\"currentColor\" x=\"750\">Paris?</tspan>\n",
       "    <tspan class=\"displacy-tag\" dy=\"2em\" fill=\"currentColor\" x=\"750\">PROPN</tspan>\n",
       "</text>\n",
       "\n",
       "<g class=\"displacy-arrow\">\n",
       "    <path class=\"displacy-arc\" id=\"arrow-dbdccc325f35453e8f1415c8871687b9-0-0\" stroke-width=\"2px\" d=\"M70,107.0 C70,72.0 110.0,72.0 110.0,107.0\" fill=\"none\" stroke=\"currentColor\"/>\n",
       "    <text dy=\"1.25em\" style=\"font-size: 0.8em; letter-spacing: 1px\">\n",
       "        <textPath xlink:href=\"#arrow-dbdccc325f35453e8f1415c8871687b9-0-0\" class=\"displacy-label\" startOffset=\"50%\" side=\"left\" fill=\"currentColor\" text-anchor=\"middle\">det</textPath>\n",
       "    </text>\n",
       "    <path class=\"displacy-arrowhead\" d=\"M70,109.0 L62,97.0 78,97.0\" fill=\"currentColor\"/>\n",
       "</g>\n",
       "\n",
       "<g class=\"displacy-arrow\">\n",
       "    <path class=\"displacy-arc\" id=\"arrow-dbdccc325f35453e8f1415c8871687b9-0-1\" stroke-width=\"2px\" d=\"M140,107.0 C140,2.0 330.0,2.0 330.0,107.0\" fill=\"none\" stroke=\"currentColor\"/>\n",
       "    <text dy=\"1.25em\" style=\"font-size: 0.8em; letter-spacing: 1px\">\n",
       "        <textPath xlink:href=\"#arrow-dbdccc325f35453e8f1415c8871687b9-0-1\" class=\"displacy-label\" startOffset=\"50%\" side=\"left\" fill=\"currentColor\" text-anchor=\"middle\">dobj</textPath>\n",
       "    </text>\n",
       "    <path class=\"displacy-arrowhead\" d=\"M140,109.0 L132,97.0 148,97.0\" fill=\"currentColor\"/>\n",
       "</g>\n",
       "\n",
       "<g class=\"displacy-arrow\">\n",
       "    <path class=\"displacy-arc\" id=\"arrow-dbdccc325f35453e8f1415c8871687b9-0-2\" stroke-width=\"2px\" d=\"M210,107.0 C210,37.0 325.0,37.0 325.0,107.0\" fill=\"none\" stroke=\"currentColor\"/>\n",
       "    <text dy=\"1.25em\" style=\"font-size: 0.8em; letter-spacing: 1px\">\n",
       "        <textPath xlink:href=\"#arrow-dbdccc325f35453e8f1415c8871687b9-0-2\" class=\"displacy-label\" startOffset=\"50%\" side=\"left\" fill=\"currentColor\" text-anchor=\"middle\">aux</textPath>\n",
       "    </text>\n",
       "    <path class=\"displacy-arrowhead\" d=\"M210,109.0 L202,97.0 218,97.0\" fill=\"currentColor\"/>\n",
       "</g>\n",
       "\n",
       "<g class=\"displacy-arrow\">\n",
       "    <path class=\"displacy-arc\" id=\"arrow-dbdccc325f35453e8f1415c8871687b9-0-3\" stroke-width=\"2px\" d=\"M280,107.0 C280,72.0 320.0,72.0 320.0,107.0\" fill=\"none\" stroke=\"currentColor\"/>\n",
       "    <text dy=\"1.25em\" style=\"font-size: 0.8em; letter-spacing: 1px\">\n",
       "        <textPath xlink:href=\"#arrow-dbdccc325f35453e8f1415c8871687b9-0-3\" class=\"displacy-label\" startOffset=\"50%\" side=\"left\" fill=\"currentColor\" text-anchor=\"middle\">nsubj</textPath>\n",
       "    </text>\n",
       "    <path class=\"displacy-arrowhead\" d=\"M280,109.0 L272,97.0 288,97.0\" fill=\"currentColor\"/>\n",
       "</g>\n",
       "\n",
       "<g class=\"displacy-arrow\">\n",
       "    <path class=\"displacy-arc\" id=\"arrow-dbdccc325f35453e8f1415c8871687b9-0-4\" stroke-width=\"2px\" d=\"M350,107.0 C350,72.0 390.0,72.0 390.0,107.0\" fill=\"none\" stroke=\"currentColor\"/>\n",
       "    <text dy=\"1.25em\" style=\"font-size: 0.8em; letter-spacing: 1px\">\n",
       "        <textPath xlink:href=\"#arrow-dbdccc325f35453e8f1415c8871687b9-0-4\" class=\"displacy-label\" startOffset=\"50%\" side=\"left\" fill=\"currentColor\" text-anchor=\"middle\">prep</textPath>\n",
       "    </text>\n",
       "    <path class=\"displacy-arrowhead\" d=\"M390.0,109.0 L398.0,97.0 382.0,97.0\" fill=\"currentColor\"/>\n",
       "</g>\n",
       "\n",
       "<g class=\"displacy-arrow\">\n",
       "    <path class=\"displacy-arc\" id=\"arrow-dbdccc325f35453e8f1415c8871687b9-0-5\" stroke-width=\"2px\" d=\"M420,107.0 C420,72.0 460.0,72.0 460.0,107.0\" fill=\"none\" stroke=\"currentColor\"/>\n",
       "    <text dy=\"1.25em\" style=\"font-size: 0.8em; letter-spacing: 1px\">\n",
       "        <textPath xlink:href=\"#arrow-dbdccc325f35453e8f1415c8871687b9-0-5\" class=\"displacy-label\" startOffset=\"50%\" side=\"left\" fill=\"currentColor\" text-anchor=\"middle\">pobj</textPath>\n",
       "    </text>\n",
       "    <path class=\"displacy-arrowhead\" d=\"M460.0,109.0 L468.0,97.0 452.0,97.0\" fill=\"currentColor\"/>\n",
       "</g>\n",
       "\n",
       "<g class=\"displacy-arrow\">\n",
       "    <path class=\"displacy-arc\" id=\"arrow-dbdccc325f35453e8f1415c8871687b9-0-6\" stroke-width=\"2px\" d=\"M350,107.0 C350,37.0 535.0,37.0 535.0,107.0\" fill=\"none\" stroke=\"currentColor\"/>\n",
       "    <text dy=\"1.25em\" style=\"font-size: 0.8em; letter-spacing: 1px\">\n",
       "        <textPath xlink:href=\"#arrow-dbdccc325f35453e8f1415c8871687b9-0-6\" class=\"displacy-label\" startOffset=\"50%\" side=\"left\" fill=\"currentColor\" text-anchor=\"middle\">cc</textPath>\n",
       "    </text>\n",
       "    <path class=\"displacy-arrowhead\" d=\"M535.0,109.0 L543.0,97.0 527.0,97.0\" fill=\"currentColor\"/>\n",
       "</g>\n",
       "\n",
       "<g class=\"displacy-arrow\">\n",
       "    <path class=\"displacy-arc\" id=\"arrow-dbdccc325f35453e8f1415c8871687b9-0-7\" stroke-width=\"2px\" d=\"M350,107.0 C350,2.0 610.0,2.0 610.0,107.0\" fill=\"none\" stroke=\"currentColor\"/>\n",
       "    <text dy=\"1.25em\" style=\"font-size: 0.8em; letter-spacing: 1px\">\n",
       "        <textPath xlink:href=\"#arrow-dbdccc325f35453e8f1415c8871687b9-0-7\" class=\"displacy-label\" startOffset=\"50%\" side=\"left\" fill=\"currentColor\" text-anchor=\"middle\">conj</textPath>\n",
       "    </text>\n",
       "    <path class=\"displacy-arrowhead\" d=\"M610.0,109.0 L618.0,97.0 602.0,97.0\" fill=\"currentColor\"/>\n",
       "</g>\n",
       "\n",
       "<g class=\"displacy-arrow\">\n",
       "    <path class=\"displacy-arc\" id=\"arrow-dbdccc325f35453e8f1415c8871687b9-0-8\" stroke-width=\"2px\" d=\"M630,107.0 C630,72.0 670.0,72.0 670.0,107.0\" fill=\"none\" stroke=\"currentColor\"/>\n",
       "    <text dy=\"1.25em\" style=\"font-size: 0.8em; letter-spacing: 1px\">\n",
       "        <textPath xlink:href=\"#arrow-dbdccc325f35453e8f1415c8871687b9-0-8\" class=\"displacy-label\" startOffset=\"50%\" side=\"left\" fill=\"currentColor\" text-anchor=\"middle\">prep</textPath>\n",
       "    </text>\n",
       "    <path class=\"displacy-arrowhead\" d=\"M670.0,109.0 L678.0,97.0 662.0,97.0\" fill=\"currentColor\"/>\n",
       "</g>\n",
       "\n",
       "<g class=\"displacy-arrow\">\n",
       "    <path class=\"displacy-arc\" id=\"arrow-dbdccc325f35453e8f1415c8871687b9-0-9\" stroke-width=\"2px\" d=\"M700,107.0 C700,72.0 740.0,72.0 740.0,107.0\" fill=\"none\" stroke=\"currentColor\"/>\n",
       "    <text dy=\"1.25em\" style=\"font-size: 0.8em; letter-spacing: 1px\">\n",
       "        <textPath xlink:href=\"#arrow-dbdccc325f35453e8f1415c8871687b9-0-9\" class=\"displacy-label\" startOffset=\"50%\" side=\"left\" fill=\"currentColor\" text-anchor=\"middle\">pobj</textPath>\n",
       "    </text>\n",
       "    <path class=\"displacy-arrowhead\" d=\"M740.0,109.0 L748.0,97.0 732.0,97.0\" fill=\"currentColor\"/>\n",
       "</g>\n",
       "</svg></span>"
      ],
      "text/plain": [
       "<IPython.core.display.HTML object>"
      ]
     },
     "metadata": {},
     "output_type": "display_data"
    }
   ],
   "source": [
    "spacy.displacy.render(document, style='dep', jupyter=True, options={'distance': 70})"
   ]
  },
  {
   "cell_type": "markdown",
   "id": "80300fd6",
   "metadata": {},
   "source": [
    "### Similarity between words and sentences"
   ]
  },
  {
   "cell_type": "markdown",
   "id": "5ea9b779",
   "metadata": {},
   "source": [
    "spaCy uses GloVe Algorithm (Globe vectors for Word Representation)"
   ]
  },
  {
   "cell_type": "code",
   "execution_count": 77,
   "id": "dc948696",
   "metadata": {},
   "outputs": [],
   "source": [
    "word1 = nlp('hello')\n",
    "word2 = nlp('hi')\n",
    "word3 = nlp('where')\n",
    "word4 = nlp('why')"
   ]
  },
  {
   "cell_type": "code",
   "execution_count": 81,
   "id": "d4ec3a38",
   "metadata": {},
   "outputs": [
    {
     "name": "stderr",
     "output_type": "stream",
     "text": [
      "C:\\Users\\Luvkush\\AppData\\Local\\Temp\\ipykernel_3420\\2499587064.py:1: UserWarning: [W007] The model you're using has no word vectors loaded, so the result of the Doc.similarity method will be based on the tagger, parser and NER, which may not give useful similarity judgements. This may happen if you're using one of the small models, e.g. `en_core_web_sm`, which don't ship with word vectors and only use context-sensitive tensors. You can always add your own word vectors, or use one of the larger models instead if available.\n",
      "  word1.similarity(word2)\n"
     ]
    },
    {
     "data": {
      "text/plain": [
       "0.7161104850664421"
      ]
     },
     "execution_count": 81,
     "metadata": {},
     "output_type": "execute_result"
    }
   ],
   "source": [
    "word1.similarity(word2)"
   ]
  },
  {
   "cell_type": "code",
   "execution_count": 82,
   "id": "777c9706",
   "metadata": {},
   "outputs": [
    {
     "name": "stderr",
     "output_type": "stream",
     "text": [
      "C:\\Users\\Luvkush\\AppData\\Local\\Temp\\ipykernel_3420\\3012236024.py:1: UserWarning: [W007] The model you're using has no word vectors loaded, so the result of the Doc.similarity method will be based on the tagger, parser and NER, which may not give useful similarity judgements. This may happen if you're using one of the small models, e.g. `en_core_web_sm`, which don't ship with word vectors and only use context-sensitive tensors. You can always add your own word vectors, or use one of the larger models instead if available.\n",
      "  word3.similarity(word4)\n"
     ]
    },
    {
     "data": {
      "text/plain": [
       "0.8559772299351288"
      ]
     },
     "execution_count": 82,
     "metadata": {},
     "output_type": "execute_result"
    }
   ],
   "source": [
    "word3.similarity(word4)"
   ]
  },
  {
   "cell_type": "code",
   "execution_count": 83,
   "id": "93046d01",
   "metadata": {},
   "outputs": [
    {
     "name": "stderr",
     "output_type": "stream",
     "text": [
      "C:\\Users\\Luvkush\\AppData\\Local\\Temp\\ipykernel_3420\\431225752.py:1: UserWarning: [W007] The model you're using has no word vectors loaded, so the result of the Doc.similarity method will be based on the tagger, parser and NER, which may not give useful similarity judgements. This may happen if you're using one of the small models, e.g. `en_core_web_sm`, which don't ship with word vectors and only use context-sensitive tensors. You can always add your own word vectors, or use one of the larger models instead if available.\n",
      "  word1.similarity(word3)\n"
     ]
    },
    {
     "data": {
      "text/plain": [
       "0.20077019416999942"
      ]
     },
     "execution_count": 83,
     "metadata": {},
     "output_type": "execute_result"
    }
   ],
   "source": [
    "word1.similarity(word3)"
   ]
  },
  {
   "cell_type": "code",
   "execution_count": 89,
   "id": "1787959c",
   "metadata": {},
   "outputs": [],
   "source": [
    "text1 = nlp('When are we going for a trip?')\n",
    "text2 = nlp('We should plan for a trip on October?')\n",
    "text3 = nlp('I will be graduating on March 2023')"
   ]
  },
  {
   "cell_type": "code",
   "execution_count": 90,
   "id": "e91253f6",
   "metadata": {},
   "outputs": [
    {
     "name": "stderr",
     "output_type": "stream",
     "text": [
      "C:\\Users\\Luvkush\\AppData\\Local\\Temp\\ipykernel_3420\\3951576355.py:1: UserWarning: [W007] The model you're using has no word vectors loaded, so the result of the Doc.similarity method will be based on the tagger, parser and NER, which may not give useful similarity judgements. This may happen if you're using one of the small models, e.g. `en_core_web_sm`, which don't ship with word vectors and only use context-sensitive tensors. You can always add your own word vectors, or use one of the larger models instead if available.\n",
      "  text1.similarity(text2)\n"
     ]
    },
    {
     "data": {
      "text/plain": [
       "0.5008525262323833"
      ]
     },
     "execution_count": 90,
     "metadata": {},
     "output_type": "execute_result"
    }
   ],
   "source": [
    "text1.similarity(text2)"
   ]
  },
  {
   "cell_type": "code",
   "execution_count": 91,
   "id": "becb710c",
   "metadata": {},
   "outputs": [
    {
     "name": "stderr",
     "output_type": "stream",
     "text": [
      "C:\\Users\\Luvkush\\AppData\\Local\\Temp\\ipykernel_3420\\1842271901.py:1: UserWarning: [W007] The model you're using has no word vectors loaded, so the result of the Doc.similarity method will be based on the tagger, parser and NER, which may not give useful similarity judgements. This may happen if you're using one of the small models, e.g. `en_core_web_sm`, which don't ship with word vectors and only use context-sensitive tensors. You can always add your own word vectors, or use one of the larger models instead if available.\n",
      "  text1.similarity(text3)\n"
     ]
    },
    {
     "data": {
      "text/plain": [
       "0.40245600458480424"
      ]
     },
     "execution_count": 91,
     "metadata": {},
     "output_type": "execute_result"
    }
   ],
   "source": [
    "text1.similarity(text3)"
   ]
  },
  {
   "cell_type": "code",
   "execution_count": 94,
   "id": "d4b48213",
   "metadata": {},
   "outputs": [],
   "source": [
    "text = nlp('cat dog horse human elephant shark whale')"
   ]
  },
  {
   "cell_type": "code",
   "execution_count": 95,
   "id": "dd470517",
   "metadata": {},
   "outputs": [
    {
     "data": {
      "text/plain": [
       "dog horse human elephant shark whale"
      ]
     },
     "execution_count": 95,
     "metadata": {},
     "output_type": "execute_result"
    }
   ],
   "source": [
    "text[1:]"
   ]
  },
  {
   "cell_type": "code",
   "execution_count": 102,
   "id": "1f235478",
   "metadata": {},
   "outputs": [
    {
     "name": "stdout",
     "output_type": "stream",
     "text": [
      "cat is 54.12% similar to dog\n",
      "cat is 43.94% similar to horse\n",
      "cat is 60.49% similar to human\n",
      "cat is 52.16% similar to elephant\n",
      "cat is 56.03% similar to shark\n",
      "cat is 23.91% similar to whale\n",
      "dog is 71.42% similar to horse\n",
      "dog is 41.71% similar to human\n",
      "dog is 62.72% similar to elephant\n",
      "dog is 69.77% similar to shark\n",
      "dog is 46.02% similar to whale\n",
      "horse is 35.27% similar to human\n",
      "horse is 56.27% similar to elephant\n",
      "horse is 57.06% similar to shark\n",
      "horse is 37.13% similar to whale\n",
      "human is 65.05% similar to elephant\n",
      "human is 41.31% similar to shark\n",
      "human is 21.38% similar to whale\n",
      "elephant is 62.92% similar to shark\n",
      "elephant is 30.89% similar to whale\n",
      "shark is 46.53% similar to whale\n"
     ]
    },
    {
     "name": "stderr",
     "output_type": "stream",
     "text": [
      "C:\\Users\\Luvkush\\AppData\\Local\\Temp\\ipykernel_3420\\1761412978.py:3: UserWarning: [W007] The model you're using has no word vectors loaded, so the result of the Token.similarity method will be based on the tagger, parser and NER, which may not give useful similarity judgements. This may happen if you're using one of the small models, e.g. `en_core_web_sm`, which don't ship with word vectors and only use context-sensitive tensors. You can always add your own word vectors, or use one of the larger models instead if available.\n",
      "  print(f\"{obj1} is {round(obj1.similarity(obj2)*100,2)}% similar to {obj2}\")\n"
     ]
    }
   ],
   "source": [
    "for obj1 in text[:-1]:\n",
    "    for obj2 in text[obj1.i+1:]:\n",
    "        print(f\"{obj1} is {round(obj1.similarity(obj2)*100,2)}% similar to {obj2}\")"
   ]
  },
  {
   "cell_type": "code",
   "execution_count": null,
   "id": "c3850fb3",
   "metadata": {},
   "outputs": [],
   "source": []
  },
  {
   "cell_type": "code",
   "execution_count": null,
   "id": "c5754d26",
   "metadata": {},
   "outputs": [],
   "source": []
  }
 ],
 "metadata": {
  "kernelspec": {
   "display_name": "Python 3 (ipykernel)",
   "language": "python",
   "name": "python3"
  },
  "language_info": {
   "codemirror_mode": {
    "name": "ipython",
    "version": 3
   },
   "file_extension": ".py",
   "mimetype": "text/x-python",
   "name": "python",
   "nbconvert_exporter": "python",
   "pygments_lexer": "ipython3",
   "version": "3.9.15"
  }
 },
 "nbformat": 4,
 "nbformat_minor": 5
}
