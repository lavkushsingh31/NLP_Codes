{
 "cells": [
  {
   "cell_type": "markdown",
   "id": "c46ddd98",
   "metadata": {},
   "source": [
    "Credits/Course URL - https://www.udemy.com/course/the-ultimate-beginners-guide-to-natural-language-processing/"
   ]
  },
  {
   "cell_type": "code",
   "execution_count": 1,
   "id": "adb8bb19",
   "metadata": {},
   "outputs": [],
   "source": [
    "import nltk\n",
    "import spacy\n",
    "import en_core_web_sm"
   ]
  },
  {
   "cell_type": "code",
   "execution_count": 2,
   "id": "fc1a3b2e",
   "metadata": {},
   "outputs": [],
   "source": [
    "nlp = spacy.load('en_core_web_sm')"
   ]
  },
  {
   "cell_type": "code",
   "execution_count": 3,
   "id": "b1bc3109",
   "metadata": {},
   "outputs": [
    {
     "data": {
      "text/plain": [
       "<spacy.lang.en.English at 0x2160d67cc70>"
      ]
     },
     "execution_count": 3,
     "metadata": {},
     "output_type": "execute_result"
    }
   ],
   "source": [
    "nlp"
   ]
  },
  {
   "cell_type": "code",
   "execution_count": 4,
   "id": "fd65d2f1",
   "metadata": {},
   "outputs": [],
   "source": [
    "document = nlp('I am learning natural language processing. This course is in India')"
   ]
  },
  {
   "cell_type": "code",
   "execution_count": 5,
   "id": "2d29e047",
   "metadata": {},
   "outputs": [
    {
     "name": "stdout",
     "output_type": "stream",
     "text": [
      "I PRON I PRP nsubj X True True\n",
      "am AUX be VBP aux xx True True\n",
      "learning VERB learn VBG ROOT xxxx True False\n",
      "natural ADJ natural JJ amod xxxx True False\n",
      "language NOUN language NN compound xxxx True False\n",
      "processing NOUN processing NN dobj xxxx True False\n",
      ". PUNCT . . punct . False False\n",
      "This DET this DT det Xxxx True True\n",
      "course NOUN course NN nsubj xxxx True False\n",
      "is AUX be VBZ ROOT xx True True\n",
      "in ADP in IN prep xx True True\n",
      "India PROPN India NNP pobj Xxxxx True False\n"
     ]
    }
   ],
   "source": [
    "for token in document:\n",
    "    print(token, token.pos_, token.lemma_, token.tag_, token.dep_, token.shape_, token.is_alpha, token.is_stop)"
   ]
  },
  {
   "cell_type": "code",
   "execution_count": 6,
   "id": "dff07017",
   "metadata": {},
   "outputs": [
    {
     "name": "stdout",
     "output_type": "stream",
     "text": [
      "learning\n"
     ]
    }
   ],
   "source": [
    "for token in document:\n",
    "    if token.pos_ == 'VERB':\n",
    "        print(token.text)"
   ]
  },
  {
   "cell_type": "markdown",
   "id": "00613572",
   "metadata": {},
   "source": [
    "Lemmitization"
   ]
  },
  {
   "cell_type": "code",
   "execution_count": 7,
   "id": "b37bbc50",
   "metadata": {},
   "outputs": [
    {
     "name": "stdout",
     "output_type": "stream",
     "text": [
      "I I\n",
      "am be\n",
      "learning learn\n",
      "natural natural\n",
      "language language\n",
      "processing processing\n",
      ". .\n",
      "This this\n",
      "course course\n",
      "is be\n",
      "in in\n",
      "India India\n"
     ]
    }
   ],
   "source": [
    "for token in document:\n",
    "    print(token.text, token.lemma_)"
   ]
  },
  {
   "cell_type": "code",
   "execution_count": 8,
   "id": "7d4d7481",
   "metadata": {},
   "outputs": [
    {
     "data": {
      "text/plain": [
       "['learn', 'learn', 'watch', 'watch', 'watch', 'go', 'go', 'go']"
      ]
     },
     "execution_count": 8,
     "metadata": {},
     "output_type": "execute_result"
    }
   ],
   "source": [
    "doc = nlp('learn learning watch watching watched go went gone ')\n",
    "[token.lemma_ for token in doc]"
   ]
  },
  {
   "cell_type": "markdown",
   "id": "259b4966",
   "metadata": {},
   "source": [
    "Stemming"
   ]
  },
  {
   "cell_type": "code",
   "execution_count": 9,
   "id": "80f71ad3",
   "metadata": {},
   "outputs": [],
   "source": [
    "stemmer = nltk.stem.PorterStemmer()"
   ]
  },
  {
   "cell_type": "code",
   "execution_count": 10,
   "id": "bd4ab986",
   "metadata": {},
   "outputs": [
    {
     "name": "stdout",
     "output_type": "stream",
     "text": [
      "learn: learn\n",
      "learning: learn\n",
      "watch: watch\n",
      "watching: watch\n",
      "watched: watch\n",
      "go: go\n",
      "went: went\n",
      "gone: gone\n"
     ]
    }
   ],
   "source": [
    "for token in doc:\n",
    "    print(f'{token.text}: {stemmer.stem(token.text)}')"
   ]
  },
  {
   "cell_type": "markdown",
   "id": "d3450624",
   "metadata": {},
   "source": [
    "Named Entity Recognition"
   ]
  },
  {
   "cell_type": "code",
   "execution_count": 16,
   "id": "ba6a9f04",
   "metadata": {},
   "outputs": [],
   "source": [
    "text = \"Cognizant Techology Solutions is an American multinational information technology services and consulting company. It is headquartered in Teaneck, New Jersey, United States. It is part of the NASDAQ-100 and trades under CTSH and expects fourth-quarter 2022 revenues to be $4.8 billion\""
   ]
  },
  {
   "cell_type": "code",
   "execution_count": 17,
   "id": "9e095b3a",
   "metadata": {},
   "outputs": [],
   "source": [
    "doc = nlp(text)"
   ]
  },
  {
   "cell_type": "code",
   "execution_count": 18,
   "id": "05165220",
   "metadata": {},
   "outputs": [
    {
     "name": "stdout",
     "output_type": "stream",
     "text": [
      "Cognizant Techology Solutions ORG\n",
      "American NORP\n",
      "Teaneck GPE\n",
      "New Jersey GPE\n",
      "United States GPE\n",
      "CTSH PRODUCT\n",
      "fourth-quarter 2022 DATE\n",
      "$4.8 billion MONEY\n"
     ]
    }
   ],
   "source": [
    "for entity in doc.ents:\n",
    "    print(entity.text, entity.label_)"
   ]
  },
  {
   "cell_type": "code",
   "execution_count": 19,
   "id": "e16667df",
   "metadata": {},
   "outputs": [
    {
     "data": {
      "text/html": [
       "<span class=\"tex2jax_ignore\"><div class=\"entities\" style=\"line-height: 2.5; direction: ltr\">\n",
       "<mark class=\"entity\" style=\"background: #7aecec; padding: 0.45em 0.6em; margin: 0 0.25em; line-height: 1; border-radius: 0.35em;\">\n",
       "    Cognizant Techology Solutions\n",
       "    <span style=\"font-size: 0.8em; font-weight: bold; line-height: 1; border-radius: 0.35em; vertical-align: middle; margin-left: 0.5rem\">ORG</span>\n",
       "</mark>\n",
       " is an \n",
       "<mark class=\"entity\" style=\"background: #c887fb; padding: 0.45em 0.6em; margin: 0 0.25em; line-height: 1; border-radius: 0.35em;\">\n",
       "    American\n",
       "    <span style=\"font-size: 0.8em; font-weight: bold; line-height: 1; border-radius: 0.35em; vertical-align: middle; margin-left: 0.5rem\">NORP</span>\n",
       "</mark>\n",
       " multinational information technology services and consulting company. It is headquartered in \n",
       "<mark class=\"entity\" style=\"background: #feca74; padding: 0.45em 0.6em; margin: 0 0.25em; line-height: 1; border-radius: 0.35em;\">\n",
       "    Teaneck\n",
       "    <span style=\"font-size: 0.8em; font-weight: bold; line-height: 1; border-radius: 0.35em; vertical-align: middle; margin-left: 0.5rem\">GPE</span>\n",
       "</mark>\n",
       ", \n",
       "<mark class=\"entity\" style=\"background: #feca74; padding: 0.45em 0.6em; margin: 0 0.25em; line-height: 1; border-radius: 0.35em;\">\n",
       "    New Jersey\n",
       "    <span style=\"font-size: 0.8em; font-weight: bold; line-height: 1; border-radius: 0.35em; vertical-align: middle; margin-left: 0.5rem\">GPE</span>\n",
       "</mark>\n",
       ", \n",
       "<mark class=\"entity\" style=\"background: #feca74; padding: 0.45em 0.6em; margin: 0 0.25em; line-height: 1; border-radius: 0.35em;\">\n",
       "    United States\n",
       "    <span style=\"font-size: 0.8em; font-weight: bold; line-height: 1; border-radius: 0.35em; vertical-align: middle; margin-left: 0.5rem\">GPE</span>\n",
       "</mark>\n",
       ". It is part of the NASDAQ-100 and trades under \n",
       "<mark class=\"entity\" style=\"background: #bfeeb7; padding: 0.45em 0.6em; margin: 0 0.25em; line-height: 1; border-radius: 0.35em;\">\n",
       "    CTSH\n",
       "    <span style=\"font-size: 0.8em; font-weight: bold; line-height: 1; border-radius: 0.35em; vertical-align: middle; margin-left: 0.5rem\">PRODUCT</span>\n",
       "</mark>\n",
       " and expects \n",
       "<mark class=\"entity\" style=\"background: #bfe1d9; padding: 0.45em 0.6em; margin: 0 0.25em; line-height: 1; border-radius: 0.35em;\">\n",
       "    fourth-quarter 2022\n",
       "    <span style=\"font-size: 0.8em; font-weight: bold; line-height: 1; border-radius: 0.35em; vertical-align: middle; margin-left: 0.5rem\">DATE</span>\n",
       "</mark>\n",
       " revenues to be \n",
       "<mark class=\"entity\" style=\"background: #e4e7d2; padding: 0.45em 0.6em; margin: 0 0.25em; line-height: 1; border-radius: 0.35em;\">\n",
       "    $4.8 billion\n",
       "    <span style=\"font-size: 0.8em; font-weight: bold; line-height: 1; border-radius: 0.35em; vertical-align: middle; margin-left: 0.5rem\">MONEY</span>\n",
       "</mark>\n",
       "</div></span>"
      ],
      "text/plain": [
       "<IPython.core.display.HTML object>"
      ]
     },
     "metadata": {},
     "output_type": "display_data"
    }
   ],
   "source": [
    "spacy.displacy.render(doc, style = 'ent', jupyter=True)"
   ]
  },
  {
   "cell_type": "code",
   "execution_count": 20,
   "id": "5ee344e9",
   "metadata": {},
   "outputs": [
    {
     "data": {
      "text/html": [
       "<span class=\"tex2jax_ignore\"><div class=\"entities\" style=\"line-height: 2.5; direction: ltr\">\n",
       "<mark class=\"entity\" style=\"background: #aa9cfc; padding: 0.45em 0.6em; margin: 0 0.25em; line-height: 1; border-radius: 0.35em;\">\n",
       "    Bill Gates\n",
       "    <span style=\"font-size: 0.8em; font-weight: bold; line-height: 1; border-radius: 0.35em; vertical-align: middle; margin-left: 0.5rem\">PERSON</span>\n",
       "</mark>\n",
       " was born in \n",
       "<mark class=\"entity\" style=\"background: #feca74; padding: 0.45em 0.6em; margin: 0 0.25em; line-height: 1; border-radius: 0.35em;\">\n",
       "    Seattle\n",
       "    <span style=\"font-size: 0.8em; font-weight: bold; line-height: 1; border-radius: 0.35em; vertical-align: middle; margin-left: 0.5rem\">GPE</span>\n",
       "</mark>\n",
       " on \n",
       "<mark class=\"entity\" style=\"background: #bfe1d9; padding: 0.45em 0.6em; margin: 0 0.25em; line-height: 1; border-radius: 0.35em;\">\n",
       "    1995-10-28\n",
       "    <span style=\"font-size: 0.8em; font-weight: bold; line-height: 1; border-radius: 0.35em; vertical-align: middle; margin-left: 0.5rem\">DATE</span>\n",
       "</mark>\n",
       " and is the founder of \n",
       "<mark class=\"entity\" style=\"background: #7aecec; padding: 0.45em 0.6em; margin: 0 0.25em; line-height: 1; border-radius: 0.35em;\">\n",
       "    Microsoft\n",
       "    <span style=\"font-size: 0.8em; font-weight: bold; line-height: 1; border-radius: 0.35em; vertical-align: middle; margin-left: 0.5rem\">ORG</span>\n",
       "</mark>\n",
       "</div></span>"
      ],
      "text/plain": [
       "<IPython.core.display.HTML object>"
      ]
     },
     "metadata": {},
     "output_type": "display_data"
    }
   ],
   "source": [
    "doc = nlp(\"Bill Gates was born in Seattle on 1995-10-28 and is the founder of Microsoft\")\n",
    "spacy.displacy.render(doc, style = 'ent', jupyter=True)"
   ]
  },
  {
   "cell_type": "code",
   "execution_count": 21,
   "id": "bd39323b",
   "metadata": {},
   "outputs": [
    {
     "name": "stdout",
     "output_type": "stream",
     "text": [
      "Bill Gates PERSON\n"
     ]
    }
   ],
   "source": [
    "for entity in doc.ents:\n",
    "    if entity.label_ == 'PERSON':\n",
    "        print(entity.text, entity.label_)"
   ]
  },
  {
   "cell_type": "markdown",
   "id": "e1fb988c",
   "metadata": {},
   "source": [
    "Stopwords"
   ]
  },
  {
   "cell_type": "code",
   "execution_count": 24,
   "id": "f4888647",
   "metadata": {},
   "outputs": [
    {
     "name": "stdout",
     "output_type": "stream",
     "text": [
      "{'become', 'under', 'against', 'everywhere', 'elsewhere', 'somewhere', 'since', \"'m\", 'no', 'eight', 'on', '‘ve', 'before', 'really', 'per', 'upon', '’m', 'but', 'us', 'enough', 'who', '’ll', 'do', 'two', 'within', '‘s', 'whereby', 'therefore', '’ve', 'if', 'towards', 'least', 'moreover', 'amount', 'becomes', 'it', 'through', 'among', 'themselves', 'something', 'been', 'put', 'did', 'off', 'much', 'therein', 'another', 'why', 'became', 'nowhere', 'alone', 're', 'will', 'even', 'seem', 'same', 'regarding', 'as', 'quite', 'those', 'to', 'should', 'i', 'am', 'about', 'can', 'done', 'keep', 'whereupon', 'than', 'nevertheless', 'further', 'was', 'although', '’d', 'bottom', 'during', 'otherwise', 'from', 'him', 'very', 'itself', 'behind', 'our', 'whatever', 'fifty', 'once', 'with', 'amongst', 'in', \"'ll\", 'them', 'beforehand', 'anything', 'few', 'wherever', 'neither', 'third', 'front', '‘ll', 'while', 'without', 'move', 'always', 'throughout', 'ca', 'being', \"'d\", 'seeming', 'thence', 'only', 'any', 'ours', \"n't\", 'above', 'between', 'all', '‘d', 'latterly', 'n‘t', 'that', 'others', 'besides', 'over', 'back', 'sometimes', 'your', 'she', 'side', 'each', 'might', 'well', 'across', 'made', 'anyway', 'next', 'up', 'namely', 'beyond', 'first', 'former', 'full', 'please', 'everyone', 'whether', 'this', 'onto', 'call', 'give', 'we', '’re', 'thru', 'unless', 'anyone', 'after', 'such', 'part', 'everything', 'various', 'were', 'six', 'when', 'though', 'nine', '’s', 'rather', 'is', 'hers', 'then', 'anywhere', 'sixty', 'whither', 'whenever', 'a', 'nor', 'not', 'and', 'less', 'herself', 'herein', 'say', 'my', 'whereafter', 'does', 'four', 'n’t', 'other', 'his', 'myself', 'whom', 'somehow', 'never', 'thus', 'what', 'yet', 'are', 'indeed', 'fifteen', 'below', 'ever', 'he', 'name', 'an', 'becoming', 'or', 'doing', 'mostly', 'for', 'get', 'used', 'eleven', 'whole', 'hundred', 'into', 'so', 'may', 'would', 'either', 'hereafter', 'these', '‘m', 'at', 'mine', 'their', 'because', 'one', 'wherein', 'whereas', 'again', 'noone', 'three', 'now', '‘re', 'had', 'nothing', 'yourselves', 'see', 'make', 'formerly', 'thereby', 'yourself', 'already', 'toward', 'must', 'still', 'together', 'has', 'seems', 'of', 'show', 'out', 'go', 'how', 'where', 'someone', 'sometime', 'you', 'hence', 'me', 'serious', 'some', 'except', 'twenty', 'her', \"'s\", 'last', 'whose', 'yours', 'nobody', 'have', 'whence', 'just', 'meanwhile', 'there', 'several', 'take', 'too', 'empty', 'however', 'ten', 'by', 'whoever', 'down', 'seemed', 'else', 'almost', 'five', 'beside', 'using', 'thereafter', 'cannot', 'ourselves', 'around', 'often', 'both', 'more', 'the', \"'ve\", 'also', 'forty', 'most', 'none', 'top', 'hereupon', 'anyhow', 'many', 'its', 'afterwards', 'himself', 'latter', 'via', 'hereby', 'perhaps', 'they', 'could', 'due', \"'re\", 'every', 'here', 'until', 'along', 'which', 'twelve', 'own', 'thereupon', 'be'}\n"
     ]
    }
   ],
   "source": [
    "en_stopwords = spacy.lang.en.stop_words.STOP_WORDS\n",
    "print(en_stopwords)"
   ]
  },
  {
   "cell_type": "code",
   "execution_count": 25,
   "id": "8023cd1d",
   "metadata": {},
   "outputs": [
    {
     "data": {
      "text/plain": [
       "True"
      ]
     },
     "execution_count": 25,
     "metadata": {},
     "output_type": "execute_result"
    }
   ],
   "source": [
    "'it' in en_stopwords"
   ]
  },
  {
   "cell_type": "code",
   "execution_count": 26,
   "id": "b7a18e17",
   "metadata": {},
   "outputs": [
    {
     "data": {
      "text/plain": [
       "326"
      ]
     },
     "execution_count": 26,
     "metadata": {},
     "output_type": "execute_result"
    }
   ],
   "source": [
    "len(en_stopwords)"
   ]
  },
  {
   "cell_type": "code",
   "execution_count": 27,
   "id": "dd3f7d76",
   "metadata": {},
   "outputs": [
    {
     "data": {
      "text/plain": [
       "True"
      ]
     },
     "execution_count": 27,
     "metadata": {},
     "output_type": "execute_result"
    }
   ],
   "source": [
    "nlp.vocab['it'].is_stop"
   ]
  },
  {
   "cell_type": "code",
   "execution_count": 32,
   "id": "da0a655a",
   "metadata": {},
   "outputs": [
    {
     "name": "stdout",
     "output_type": "stream",
     "text": [
      "I\n",
      "am\n",
      "This\n",
      "is\n",
      "in\n"
     ]
    }
   ],
   "source": [
    "for token in document:\n",
    "    if nlp.vocab[token.text].is_stop:\n",
    "        print(token.text)"
   ]
  },
  {
   "cell_type": "code",
   "execution_count": 33,
   "id": "2d32b16f",
   "metadata": {},
   "outputs": [
    {
     "name": "stdout",
     "output_type": "stream",
     "text": [
      "learning\n",
      "natural\n",
      "language\n",
      "processing\n",
      ".\n",
      "course\n",
      "India\n"
     ]
    }
   ],
   "source": [
    "for token in document:\n",
    "    if not nlp.vocab[token.text].is_stop:\n",
    "        print(token.text)"
   ]
  },
  {
   "cell_type": "code",
   "execution_count": null,
   "id": "bb657a90",
   "metadata": {},
   "outputs": [],
   "source": []
  },
  {
   "cell_type": "code",
   "execution_count": null,
   "id": "493c30db",
   "metadata": {},
   "outputs": [],
   "source": []
  },
  {
   "cell_type": "code",
   "execution_count": null,
   "id": "04e6d6b5",
   "metadata": {},
   "outputs": [],
   "source": []
  },
  {
   "cell_type": "code",
   "execution_count": null,
   "id": "f13dea32",
   "metadata": {},
   "outputs": [],
   "source": []
  },
  {
   "cell_type": "code",
   "execution_count": null,
   "id": "d9108ab5",
   "metadata": {},
   "outputs": [],
   "source": []
  },
  {
   "cell_type": "code",
   "execution_count": null,
   "id": "d64219ce",
   "metadata": {},
   "outputs": [],
   "source": []
  },
  {
   "cell_type": "code",
   "execution_count": null,
   "id": "5279e5ea",
   "metadata": {},
   "outputs": [],
   "source": []
  },
  {
   "cell_type": "code",
   "execution_count": null,
   "id": "c97ab68c",
   "metadata": {},
   "outputs": [],
   "source": []
  },
  {
   "cell_type": "code",
   "execution_count": null,
   "id": "5ad0cc42",
   "metadata": {},
   "outputs": [],
   "source": []
  },
  {
   "cell_type": "code",
   "execution_count": null,
   "id": "2d607b91",
   "metadata": {},
   "outputs": [],
   "source": []
  },
  {
   "cell_type": "code",
   "execution_count": null,
   "id": "860de3d3",
   "metadata": {},
   "outputs": [],
   "source": []
  },
  {
   "cell_type": "code",
   "execution_count": null,
   "id": "860816e0",
   "metadata": {},
   "outputs": [],
   "source": []
  },
  {
   "cell_type": "code",
   "execution_count": null,
   "id": "c5550195",
   "metadata": {},
   "outputs": [],
   "source": []
  }
 ],
 "metadata": {
  "kernelspec": {
   "display_name": "Python 3 (ipykernel)",
   "language": "python",
   "name": "python3"
  },
  "language_info": {
   "codemirror_mode": {
    "name": "ipython",
    "version": 3
   },
   "file_extension": ".py",
   "mimetype": "text/x-python",
   "name": "python",
   "nbconvert_exporter": "python",
   "pygments_lexer": "ipython3",
   "version": "3.9.15"
  }
 },
 "nbformat": 4,
 "nbformat_minor": 5
}
