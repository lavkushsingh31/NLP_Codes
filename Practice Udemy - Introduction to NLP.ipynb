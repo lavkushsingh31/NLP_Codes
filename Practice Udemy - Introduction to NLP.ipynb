{
 "cells": [
  {
   "cell_type": "markdown",
   "id": "c46ddd98",
   "metadata": {},
   "source": [
    "Credits/Course URL - https://www.udemy.com/course/the-ultimate-beginners-guide-to-natural-language-processing/"
   ]
  },
  {
   "cell_type": "code",
   "execution_count": 20,
   "id": "adb8bb19",
   "metadata": {},
   "outputs": [],
   "source": [
    "import nltk\n",
    "import spacy\n",
    "import en_core_web_sm"
   ]
  },
  {
   "cell_type": "code",
   "execution_count": 3,
   "id": "fc1a3b2e",
   "metadata": {},
   "outputs": [],
   "source": [
    "nlp = spacy.load('en_core_web_sm')"
   ]
  },
  {
   "cell_type": "code",
   "execution_count": 4,
   "id": "b1bc3109",
   "metadata": {},
   "outputs": [
    {
     "data": {
      "text/plain": [
       "<spacy.lang.en.English at 0x2563f0e24f0>"
      ]
     },
     "execution_count": 4,
     "metadata": {},
     "output_type": "execute_result"
    }
   ],
   "source": [
    "nlp"
   ]
  },
  {
   "cell_type": "code",
   "execution_count": 6,
   "id": "fd65d2f1",
   "metadata": {},
   "outputs": [],
   "source": [
    "document = nlp('I am learning natural language processing. This course is in India')"
   ]
  },
  {
   "cell_type": "code",
   "execution_count": 11,
   "id": "2d29e047",
   "metadata": {},
   "outputs": [
    {
     "name": "stdout",
     "output_type": "stream",
     "text": [
      "I PRON I PRP nsubj X True True\n",
      "am AUX be VBP aux xx True True\n",
      "learning VERB learn VBG ROOT xxxx True False\n",
      "natural ADJ natural JJ amod xxxx True False\n",
      "language NOUN language NN compound xxxx True False\n",
      "processing NOUN processing NN dobj xxxx True False\n",
      ". PUNCT . . punct . False False\n",
      "This DET this DT det Xxxx True True\n",
      "course NOUN course NN nsubj xxxx True False\n",
      "is AUX be VBZ ROOT xx True True\n",
      "in ADP in IN prep xx True True\n",
      "India PROPN India NNP pobj Xxxxx True False\n"
     ]
    }
   ],
   "source": [
    "for token in document:\n",
    "    print(token, token.pos_, token.lemma_, token.tag_, token.dep_, token.shape_, token.is_alpha, token.is_stop)"
   ]
  },
  {
   "cell_type": "code",
   "execution_count": 13,
   "id": "dff07017",
   "metadata": {},
   "outputs": [
    {
     "name": "stdout",
     "output_type": "stream",
     "text": [
      "learning\n"
     ]
    }
   ],
   "source": [
    "for token in document:\n",
    "    if token.pos_ == 'VERB':\n",
    "        print(token.text)"
   ]
  },
  {
   "cell_type": "markdown",
   "id": "00613572",
   "metadata": {},
   "source": [
    "Lemmitization"
   ]
  },
  {
   "cell_type": "code",
   "execution_count": 17,
   "id": "b37bbc50",
   "metadata": {},
   "outputs": [
    {
     "name": "stdout",
     "output_type": "stream",
     "text": [
      "I I\n",
      "am be\n",
      "learning learn\n",
      "natural natural\n",
      "language language\n",
      "processing processing\n",
      ". .\n",
      "This this\n",
      "course course\n",
      "is be\n",
      "in in\n",
      "India India\n"
     ]
    }
   ],
   "source": [
    "for token in document:\n",
    "    print(token.text, token.lemma_)"
   ]
  },
  {
   "cell_type": "code",
   "execution_count": 18,
   "id": "7d4d7481",
   "metadata": {},
   "outputs": [
    {
     "data": {
      "text/plain": [
       "['learn', 'learn', 'watch', 'watch', 'watch', 'go', 'go', 'go']"
      ]
     },
     "execution_count": 18,
     "metadata": {},
     "output_type": "execute_result"
    }
   ],
   "source": [
    "doc = nlp('learn learning watch watching watched go went gone ')\n",
    "[token.lemma_ for token in doc]"
   ]
  },
  {
   "cell_type": "markdown",
   "id": "259b4966",
   "metadata": {},
   "source": [
    "Stemming"
   ]
  },
  {
   "cell_type": "code",
   "execution_count": 21,
   "id": "80f71ad3",
   "metadata": {},
   "outputs": [],
   "source": [
    "stemmer = nltk.stem.PorterStemmer()"
   ]
  },
  {
   "cell_type": "code",
   "execution_count": 22,
   "id": "bd4ab986",
   "metadata": {},
   "outputs": [
    {
     "name": "stdout",
     "output_type": "stream",
     "text": [
      "learn: learn\n",
      "learning: learn\n",
      "watch: watch\n",
      "watching: watch\n",
      "watched: watch\n",
      "go: go\n",
      "went: went\n",
      "gone: gone\n"
     ]
    }
   ],
   "source": [
    "for token in doc:\n",
    "    print(f'{token.text}: {stemmer.stem(token.text)}')"
   ]
  },
  {
   "cell_type": "code",
   "execution_count": null,
   "id": "ba6a9f04",
   "metadata": {},
   "outputs": [],
   "source": []
  },
  {
   "cell_type": "code",
   "execution_count": null,
   "id": "9e095b3a",
   "metadata": {},
   "outputs": [],
   "source": []
  },
  {
   "cell_type": "code",
   "execution_count": null,
   "id": "05165220",
   "metadata": {},
   "outputs": [],
   "source": []
  }
 ],
 "metadata": {
  "kernelspec": {
   "display_name": "Python 3 (ipykernel)",
   "language": "python",
   "name": "python3"
  },
  "language_info": {
   "codemirror_mode": {
    "name": "ipython",
    "version": 3
   },
   "file_extension": ".py",
   "mimetype": "text/x-python",
   "name": "python",
   "nbconvert_exporter": "python",
   "pygments_lexer": "ipython3",
   "version": "3.9.15"
  }
 },
 "nbformat": 4,
 "nbformat_minor": 5
}
